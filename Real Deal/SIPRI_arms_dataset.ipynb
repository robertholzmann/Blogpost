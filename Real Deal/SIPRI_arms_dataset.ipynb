{
  "cells": [
    {
      "cell_type": "code",
      "execution_count": 1,
      "metadata": {
        "colab": {
          "base_uri": "https://localhost:8080/",
          "height": 310
        },
        "id": "ACH7a0S1ZdHY",
        "outputId": "81f86205-90ed-4683-f6cf-97cd6d89b581"
      },
      "outputs": [
        {
          "data": {
            "text/html": [
              "<div>\n",
              "<style scoped>\n",
              "    .dataframe tbody tr th:only-of-type {\n",
              "        vertical-align: middle;\n",
              "    }\n",
              "\n",
              "    .dataframe tbody tr th {\n",
              "        vertical-align: top;\n",
              "    }\n",
              "\n",
              "    .dataframe thead th {\n",
              "        text-align: right;\n",
              "    }\n",
              "</style>\n",
              "<table border=\"1\" class=\"dataframe\">\n",
              "  <thead>\n",
              "    <tr style=\"text-align: right;\">\n",
              "      <th></th>\n",
              "      <th>Rank (2022)</th>\n",
              "      <th>Rank (2021)</th>\n",
              "      <th>Company</th>\n",
              "      <th>Country</th>\n",
              "      <th>Arms Revenue (2022)</th>\n",
              "      <th>Arms Revenue (2021)</th>\n",
              "      <th>Total Revenue (2022)</th>\n",
              "      <th>Arms Revenue as a % of total revenue (2022)</th>\n",
              "      <th>Arms Revenue Adjusted (2021)</th>\n",
              "    </tr>\n",
              "  </thead>\n",
              "  <tbody>\n",
              "    <tr>\n",
              "      <th>0</th>\n",
              "      <td>1</td>\n",
              "      <td>1</td>\n",
              "      <td>Lockheed Martin Corp.</td>\n",
              "      <td>United States</td>\n",
              "      <td>59390</td>\n",
              "      <td>60340</td>\n",
              "      <td>65984</td>\n",
              "      <td>90%</td>\n",
              "      <td>65199</td>\n",
              "    </tr>\n",
              "    <tr>\n",
              "      <th>1</th>\n",
              "      <td>2</td>\n",
              "      <td>2</td>\n",
              "      <td>Raytheon Technologies</td>\n",
              "      <td>United States</td>\n",
              "      <td>39570</td>\n",
              "      <td>41850</td>\n",
              "      <td>67074</td>\n",
              "      <td>59%</td>\n",
              "      <td>45220</td>\n",
              "    </tr>\n",
              "    <tr>\n",
              "      <th>2</th>\n",
              "      <td>3</td>\n",
              "      <td>4</td>\n",
              "      <td>Northrop Grumman Corp.</td>\n",
              "      <td>United States</td>\n",
              "      <td>32300</td>\n",
              "      <td>29880</td>\n",
              "      <td>36602</td>\n",
              "      <td>88%</td>\n",
              "      <td>32286</td>\n",
              "    </tr>\n",
              "    <tr>\n",
              "      <th>3</th>\n",
              "      <td>4</td>\n",
              "      <td>3</td>\n",
              "      <td>Boeing</td>\n",
              "      <td>United States</td>\n",
              "      <td>29300</td>\n",
              "      <td>33420</td>\n",
              "      <td>66608</td>\n",
              "      <td>44%</td>\n",
              "      <td>36111</td>\n",
              "    </tr>\n",
              "    <tr>\n",
              "      <th>4</th>\n",
              "      <td>5</td>\n",
              "      <td>5</td>\n",
              "      <td>General Dynamics Corp.</td>\n",
              "      <td>United States</td>\n",
              "      <td>28320</td>\n",
              "      <td>27760</td>\n",
              "      <td>39407</td>\n",
              "      <td>72%</td>\n",
              "      <td>29995</td>\n",
              "    </tr>\n",
              "  </tbody>\n",
              "</table>\n",
              "</div>"
            ],
            "text/plain": [
              "   Rank (2022)  Rank (2021)                 Company        Country  \\\n",
              "0            1            1   Lockheed Martin Corp.  United States   \n",
              "1            2            2   Raytheon Technologies  United States   \n",
              "2            3            4  Northrop Grumman Corp.  United States   \n",
              "3            4            3                  Boeing  United States   \n",
              "4            5            5  General Dynamics Corp.  United States   \n",
              "\n",
              "   Arms Revenue (2022)  Arms Revenue (2021) Total Revenue (2022)  \\\n",
              "0                59390                60340                65984   \n",
              "1                39570                41850                67074   \n",
              "2                32300                29880                36602   \n",
              "3                29300                33420                66608   \n",
              "4                28320                27760                39407   \n",
              "\n",
              "  Arms Revenue as a % of total revenue (2022)  Arms Revenue Adjusted (2021)   \n",
              "0                                         90%                          65199  \n",
              "1                                         59%                          45220  \n",
              "2                                         88%                          32286  \n",
              "3                                         44%                          36111  \n",
              "4                                         72%                          29995  "
            ]
          },
          "execution_count": 1,
          "metadata": {},
          "output_type": "execute_result"
        }
      ],
      "source": [
        "import pandas as pd\n",
        "import numpy as np\n",
        "import matplotlib.pyplot as plt\n",
        "import seaborn as sns\n",
        "import datetime as dt\n",
        "import plotly.express as px\n",
        "\n",
        "file_path = '/Users/RobertHolzmann/Downloads/Blogpost/Datasets/SIPRI_arms_dataset_2022.csv'\n",
        "\n",
        "\n",
        "df_2022 = pd.read_csv(file_path)\n",
        "df_2022.head()"
      ]
    },
    {
      "cell_type": "code",
      "execution_count": 2,
      "metadata": {
        "colab": {
          "base_uri": "https://localhost:8080/"
        },
        "id": "hP76kpBoZq2d",
        "outputId": "cc273c3d-b0cc-4c41-dd4a-dc140a7a78cd"
      },
      "outputs": [
        {
          "name": "stdout",
          "output_type": "stream",
          "text": [
            "<class 'pandas.core.frame.DataFrame'>\n",
            "RangeIndex: 100 entries, 0 to 99\n",
            "Data columns (total 9 columns):\n",
            " #   Column                                       Non-Null Count  Dtype \n",
            "---  ------                                       --------------  ----- \n",
            " 0   Rank (2022)                                  100 non-null    int64 \n",
            " 1   Rank (2021)                                  100 non-null    int64 \n",
            " 2   Company                                      100 non-null    object\n",
            " 3   Country                                      100 non-null    object\n",
            " 4   Arms Revenue (2022)                          100 non-null    int64 \n",
            " 5   Arms Revenue (2021)                          100 non-null    int64 \n",
            " 6   Total Revenue (2022)                         100 non-null    object\n",
            " 7   Arms Revenue as a % of total revenue (2022)  100 non-null    object\n",
            " 8   Arms Revenue Adjusted (2021)                 100 non-null    int64 \n",
            "dtypes: int64(5), object(4)\n",
            "memory usage: 7.2+ KB\n"
          ]
        }
      ],
      "source": [
        "df_2022.info()"
      ]
    },
    {
      "cell_type": "code",
      "execution_count": 3,
      "metadata": {
        "colab": {
          "base_uri": "https://localhost:8080/",
          "height": 164
        },
        "id": "P1GW6Bb4ZBGs",
        "outputId": "50d64fdc-c3da-4076-b030-4ce233636949"
      },
      "outputs": [
        {
          "data": {
            "text/html": [
              "<div>\n",
              "<style scoped>\n",
              "    .dataframe tbody tr th:only-of-type {\n",
              "        vertical-align: middle;\n",
              "    }\n",
              "\n",
              "    .dataframe tbody tr th {\n",
              "        vertical-align: top;\n",
              "    }\n",
              "\n",
              "    .dataframe thead th {\n",
              "        text-align: right;\n",
              "    }\n",
              "</style>\n",
              "<table border=\"1\" class=\"dataframe\">\n",
              "  <thead>\n",
              "    <tr style=\"text-align: right;\">\n",
              "      <th></th>\n",
              "      <th>Rank (2022)</th>\n",
              "      <th>Rank (2021)</th>\n",
              "      <th>Company</th>\n",
              "      <th>Country</th>\n",
              "      <th>Arms Revenue (2022)</th>\n",
              "      <th>Arms Revenue (2021)</th>\n",
              "      <th>Total Revenue (2022)</th>\n",
              "      <th>Arms Revenue as a % of total revenue (2022)</th>\n",
              "      <th>Arms Revenue Adjusted (2021)</th>\n",
              "    </tr>\n",
              "  </thead>\n",
              "  <tbody>\n",
              "    <tr>\n",
              "      <th>48</th>\n",
              "      <td>49</td>\n",
              "      <td>51</td>\n",
              "      <td>Bechtel Corp.</td>\n",
              "      <td>United States</td>\n",
              "      <td>2740</td>\n",
              "      <td>2470</td>\n",
              "      <td>. .</td>\n",
              "      <td>. .</td>\n",
              "      <td>2669</td>\n",
              "    </tr>\n",
              "    <tr>\n",
              "      <th>55</th>\n",
              "      <td>56</td>\n",
              "      <td>49</td>\n",
              "      <td>General Atomics</td>\n",
              "      <td>United States</td>\n",
              "      <td>2140</td>\n",
              "      <td>2570</td>\n",
              "      <td>. .</td>\n",
              "      <td>. .</td>\n",
              "      <td>2777</td>\n",
              "    </tr>\n",
              "  </tbody>\n",
              "</table>\n",
              "</div>"
            ],
            "text/plain": [
              "    Rank (2022)  Rank (2021)          Company        Country  \\\n",
              "48           49           51    Bechtel Corp.  United States   \n",
              "55           56           49  General Atomics  United States   \n",
              "\n",
              "    Arms Revenue (2022)  Arms Revenue (2021) Total Revenue (2022)  \\\n",
              "48                 2740                 2470                  . .   \n",
              "55                 2140                 2570                  . .   \n",
              "\n",
              "   Arms Revenue as a % of total revenue (2022)  Arms Revenue Adjusted (2021)   \n",
              "48                                         . .                           2669  \n",
              "55                                         . .                           2777  "
            ]
          },
          "execution_count": 3,
          "metadata": {},
          "output_type": "execute_result"
        }
      ],
      "source": [
        "# After exploring the data and having some hiccups, I realized there were place holders for two rows\n",
        "\n",
        "df_2022[df_2022['Total Revenue (2022)'] == '. .']"
      ]
    },
    {
      "cell_type": "code",
      "execution_count": 4,
      "metadata": {
        "id": "BLlZm4p3XtFP"
      },
      "outputs": [],
      "source": [
        "# Replace placeholders with NaN\n",
        "df_2022 = df_2022.replace('. .', np.nan)  \n",
        "# Drop rows with NaN values\n",
        "df_2022 = df_2022.dropna()  "
      ]
    },
    {
      "cell_type": "code",
      "execution_count": 5,
      "metadata": {
        "id": "Jh3B8HILTOk1"
      },
      "outputs": [],
      "source": [
        "# Convert Total Revenue from object to int64\n",
        "df_2022['Total Revenue (2022)'] = df_2022['Total Revenue (2022)'].astype(np.int64)  \n",
        "# Remove '%' from column and convert to float \n",
        "df_2022['Arms Revenue as a % of total revenue (2022)'] = df_2022['Arms Revenue as a % of total revenue (2022)'].str.rstrip('%').astype(float) / 100.0\n"
      ]
    },
    {
      "cell_type": "code",
      "execution_count": 6,
      "metadata": {
        "colab": {
          "base_uri": "https://localhost:8080/"
        },
        "id": "FaWWtUsaTuZS",
        "outputId": "63901eef-aa92-45a4-eff2-39f87b088877"
      },
      "outputs": [
        {
          "name": "stdout",
          "output_type": "stream",
          "text": [
            "<class 'pandas.core.frame.DataFrame'>\n",
            "Int64Index: 98 entries, 0 to 99\n",
            "Data columns (total 9 columns):\n",
            " #   Column                                       Non-Null Count  Dtype  \n",
            "---  ------                                       --------------  -----  \n",
            " 0   Rank (2022)                                  98 non-null     int64  \n",
            " 1   Rank (2021)                                  98 non-null     int64  \n",
            " 2   Company                                      98 non-null     object \n",
            " 3   Country                                      98 non-null     object \n",
            " 4   Arms Revenue (2022)                          98 non-null     int64  \n",
            " 5   Arms Revenue (2021)                          98 non-null     int64  \n",
            " 6   Total Revenue (2022)                         98 non-null     int64  \n",
            " 7   Arms Revenue as a % of total revenue (2022)  98 non-null     float64\n",
            " 8   Arms Revenue Adjusted (2021)                 98 non-null     int64  \n",
            "dtypes: float64(1), int64(6), object(2)\n",
            "memory usage: 7.7+ KB\n"
          ]
        }
      ],
      "source": [
        "df_2022.info()"
      ]
    },
    {
      "cell_type": "code",
      "execution_count": 7,
      "metadata": {
        "colab": {
          "base_uri": "https://localhost:8080/",
          "height": 739
        },
        "id": "LMC4cDMniHQz",
        "outputId": "0cb438e2-82e5-4654-9d04-691c9749a124"
      },
      "outputs": [
        {
          "data": {
            "text/plain": [
              "United States     40\n",
              "China              8\n",
              "United Kingdom     7\n",
              "France             5\n",
              "Germany            4\n",
              "Türkiye            4\n",
              "South Korea        4\n",
              "Japan              4\n",
              "Israel             3\n",
              "India              3\n",
              "Trans-European     3\n",
              "Italy              2\n",
              "Russia             2\n",
              "Sweden             1\n",
              "Taiwan             1\n",
              "Singapore          1\n",
              "Poland             1\n",
              "Canada             1\n",
              "Ukraine            1\n",
              "Norway             1\n",
              "Spain              1\n",
              "Australia          1\n",
              "Name: Country, dtype: int64"
            ]
          },
          "execution_count": 7,
          "metadata": {},
          "output_type": "execute_result"
        }
      ],
      "source": [
        "# Count the number of companies per country\n",
        "companies_count = df_2022['Country'].value_counts()  \n",
        "\n",
        "companies_count"
      ]
    },
    {
      "cell_type": "code",
      "execution_count": 8,
      "metadata": {
        "colab": {
          "base_uri": "https://localhost:8080/",
          "height": 607
        },
        "id": "uOKuTjDfiH50",
        "outputId": "f61f1b48-93c8-4170-865b-d8065c529aaf"
      },
      "outputs": [
        {
          "name": "stderr",
          "output_type": "stream",
          "text": [
            "/var/folders/ww/g22rd79j2xgfxy8trypcnk200000gn/T/ipykernel_84848/924825407.py:4: FutureWarning: \n",
            "\n",
            "Passing `palette` without assigning `hue` is deprecated and will be removed in v0.14.0. Assign the `x` variable to `hue` and set `legend=False` for the same effect.\n",
            "\n",
            "  sns.barplot(data=companies_count[:10], palette='bright')\n"
          ]
        },
        {
          "data": {
            "image/png": "[encoded data removed]",
            "text/plain": [
              "<Figure size 1000x600 with 1 Axes>"
            ]
          },
          "metadata": {},
          "output_type": "display_data"
        }
      ],
      "source": [
        "# Create bar graph of arms company counts by country\n",
        "\n",
        "plt.figure(figsize=(10, 6))\n",
        "sns.barplot(data=companies_count[:10], palette='bright')\n",
        "\n",
        "# Create fontdict to format font\n",
        "font = {'family': 'serif',\n",
        "        'weight': 'normal',\n",
        "        'size': 20\n",
        "       }\n",
        "\n",
        "plt.title('Count of Top Arms-Producing Companies in 2022 by Country', fontdict=font)\n",
        "plt.xlabel('')\n",
        "plt.ylabel('Number of Companies in Top 100')\n",
        "plt.xticks(rotation=45, ha='right')\n",
        "plt.tight_layout()\n",
        "plt.show()\n",
        "\n"
      ]
    },
    {
      "cell_type": "code",
      "execution_count": 9,
      "metadata": {},
      "outputs": [
        {
          "data": {
            "text/html": [
              "<div>\n",
              "<style scoped>\n",
              "    .dataframe tbody tr th:only-of-type {\n",
              "        vertical-align: middle;\n",
              "    }\n",
              "\n",
              "    .dataframe tbody tr th {\n",
              "        vertical-align: top;\n",
              "    }\n",
              "\n",
              "    .dataframe thead th {\n",
              "        text-align: right;\n",
              "    }\n",
              "</style>\n",
              "<table border=\"1\" class=\"dataframe\">\n",
              "  <thead>\n",
              "    <tr style=\"text-align: right;\">\n",
              "      <th></th>\n",
              "      <th>country</th>\n",
              "      <th>count</th>\n",
              "    </tr>\n",
              "  </thead>\n",
              "  <tbody>\n",
              "    <tr>\n",
              "      <th>0</th>\n",
              "      <td>United States</td>\n",
              "      <td>40</td>\n",
              "    </tr>\n",
              "    <tr>\n",
              "      <th>1</th>\n",
              "      <td>China</td>\n",
              "      <td>8</td>\n",
              "    </tr>\n",
              "    <tr>\n",
              "      <th>2</th>\n",
              "      <td>United Kingdom</td>\n",
              "      <td>7</td>\n",
              "    </tr>\n",
              "    <tr>\n",
              "      <th>3</th>\n",
              "      <td>France</td>\n",
              "      <td>5</td>\n",
              "    </tr>\n",
              "    <tr>\n",
              "      <th>4</th>\n",
              "      <td>Germany</td>\n",
              "      <td>4</td>\n",
              "    </tr>\n",
              "    <tr>\n",
              "      <th>5</th>\n",
              "      <td>Türkiye</td>\n",
              "      <td>4</td>\n",
              "    </tr>\n",
              "    <tr>\n",
              "      <th>6</th>\n",
              "      <td>South Korea</td>\n",
              "      <td>4</td>\n",
              "    </tr>\n",
              "    <tr>\n",
              "      <th>7</th>\n",
              "      <td>Japan</td>\n",
              "      <td>4</td>\n",
              "    </tr>\n",
              "    <tr>\n",
              "      <th>8</th>\n",
              "      <td>Israel</td>\n",
              "      <td>3</td>\n",
              "    </tr>\n",
              "    <tr>\n",
              "      <th>9</th>\n",
              "      <td>India</td>\n",
              "      <td>3</td>\n",
              "    </tr>\n",
              "    <tr>\n",
              "      <th>10</th>\n",
              "      <td>Trans-European</td>\n",
              "      <td>3</td>\n",
              "    </tr>\n",
              "    <tr>\n",
              "      <th>11</th>\n",
              "      <td>Italy</td>\n",
              "      <td>2</td>\n",
              "    </tr>\n",
              "    <tr>\n",
              "      <th>12</th>\n",
              "      <td>Russia</td>\n",
              "      <td>2</td>\n",
              "    </tr>\n",
              "    <tr>\n",
              "      <th>13</th>\n",
              "      <td>Sweden</td>\n",
              "      <td>1</td>\n",
              "    </tr>\n",
              "    <tr>\n",
              "      <th>14</th>\n",
              "      <td>Taiwan</td>\n",
              "      <td>1</td>\n",
              "    </tr>\n",
              "    <tr>\n",
              "      <th>15</th>\n",
              "      <td>Singapore</td>\n",
              "      <td>1</td>\n",
              "    </tr>\n",
              "    <tr>\n",
              "      <th>16</th>\n",
              "      <td>Poland</td>\n",
              "      <td>1</td>\n",
              "    </tr>\n",
              "    <tr>\n",
              "      <th>17</th>\n",
              "      <td>Canada</td>\n",
              "      <td>1</td>\n",
              "    </tr>\n",
              "    <tr>\n",
              "      <th>18</th>\n",
              "      <td>Ukraine</td>\n",
              "      <td>1</td>\n",
              "    </tr>\n",
              "    <tr>\n",
              "      <th>19</th>\n",
              "      <td>Norway</td>\n",
              "      <td>1</td>\n",
              "    </tr>\n",
              "    <tr>\n",
              "      <th>20</th>\n",
              "      <td>Spain</td>\n",
              "      <td>1</td>\n",
              "    </tr>\n",
              "    <tr>\n",
              "      <th>21</th>\n",
              "      <td>Australia</td>\n",
              "      <td>1</td>\n",
              "    </tr>\n",
              "  </tbody>\n",
              "</table>\n",
              "</div>"
            ],
            "text/plain": [
              "           country  count\n",
              "0    United States     40\n",
              "1            China      8\n",
              "2   United Kingdom      7\n",
              "3           France      5\n",
              "4          Germany      4\n",
              "5          Türkiye      4\n",
              "6      South Korea      4\n",
              "7            Japan      4\n",
              "8           Israel      3\n",
              "9            India      3\n",
              "10  Trans-European      3\n",
              "11           Italy      2\n",
              "12          Russia      2\n",
              "13          Sweden      1\n",
              "14          Taiwan      1\n",
              "15       Singapore      1\n",
              "16          Poland      1\n",
              "17          Canada      1\n",
              "18         Ukraine      1\n",
              "19          Norway      1\n",
              "20           Spain      1\n",
              "21       Australia      1"
            ]
          },
          "execution_count": 9,
          "metadata": {},
          "output_type": "execute_result"
        }
      ],
      "source": [
        "# Creating a new dataframe of the series above\n",
        "companies_count_2022 = df_2022['Country'].value_counts()\n",
        "\n",
        "companies_count_2022 = companies_count_2022.reset_index()\n",
        "companies_count_2022.columns = ['country', 'count']\n",
        "\n",
        "companies_count_2022"
      ]
    },
    {
      "cell_type": "code",
      "execution_count": 10,
      "metadata": {},
      "outputs": [
        {
          "name": "stderr",
          "output_type": "stream",
          "text": [
            "/var/folders/ww/g22rd79j2xgfxy8trypcnk200000gn/T/ipykernel_84848/4124509195.py:5: FutureWarning: \n",
            "\n",
            "Passing `palette` without assigning `hue` is deprecated and will be removed in v0.14.0. Assign the `y` variable to `hue` and set `legend=False` for the same effect.\n",
            "\n",
            "  sns.barplot(x = 'count', y = 'country', data=companies_count_2022[:10], palette='bright')\n"
          ]
        },
        {
          "data": {
            "image/png": "[encoded data removed]",
            "text/plain": [
              "<Figure size 800x400 with 1 Axes>"
            ]
          },
          "metadata": {},
          "output_type": "display_data"
        }
      ],
      "source": [
        "# Creating a barchart of count of arms producing companies per country in 2002\n",
        "\n",
        "plt.figure(figsize=(8, 4))\n",
        "#Using seaborn to create a horizontal barchart\n",
        "sns.barplot(x = 'count', y = 'country', data=companies_count_2022[:10], palette='bright')\n",
        "plt.xlabel('')\n",
        "plt.ylabel('')\n",
        "plt.title('Count of Top Arms-Producing Companies in 2022 by Country')\n",
        "plt.tight_layout()\n",
        "plt.show()"
      ]
    },
    {
      "cell_type": "code",
      "execution_count": null,
      "metadata": {
        "colab": {
          "base_uri": "https://localhost:8080/",
          "height": 870
        },
        "id": "no2DeK1Pia7R",
        "outputId": "8060488c-0aa4-439b-b16c-b278265c959d"
      },
      "outputs": [],
      "source": []
    },
    {
      "cell_type": "code",
      "execution_count": 106,
      "metadata": {},
      "outputs": [
        {
          "data": {
            "application/vnd.plotly.v1+json": {
              "config": {
                "plotlyServerURL": "https://plot.ly"
              },
              "data": [
                {
                  "branchvalues": "total",
                  "domain": {
                    "x": [
                      0,
                      1
                    ],
                    "y": [
                      0,
                      1
                    ]
                  },
                  "hovertemplate": "<b>%{label}</b><br>Revenue: $%{value:.1f}",
                  "ids": [
                    "Türkiye/ASELSAN",
                    "China/AVIC",
                    "Trans-European/Airbus",
                    "United States/Amentum",
                    "United States/Amphenol Corp.",
                    "United Kingdom/Atomic Weapons Establishment",
                    "Australia/Austal",
                    "United Kingdom/BAE Systems",
                    "United States/BWX Technologies",
                    "United Kingdom/Babcock International Group",
                    "United States/Ball Corp.",
                    "Türkiye/Baykar",
                    "India/Bharat Electronics",
                    "United States/Boeing",
                    "United States/Booz Allen Hamilton",
                    "United States/CACI International",
                    "Canada/CAE",
                    "China/CASC",
                    "China/CASIC",
                    "France/CEA",
                    "China/CETC",
                    "China/CNNC",
                    "China/CSGC",
                    "China/CSSC",
                    "United States/Curtiss-Wright Corp.",
                    "France/Dassault Aviation Group",
                    "Germany/Diehl",
                    "United States/Eaton",
                    "Israel/Elbit Systems",
                    "Italy/Fincantieri",
                    "Japan/Fujitsu",
                    "United States/General Dynamics Corp.",
                    "United States/General Electric",
                    "United States/HEICO Corp.",
                    "United States/HII",
                    "South Korea/Hanwha Aerospace",
                    "Germany/Hensoldt",
                    "India/Hindustan Aeronautics",
                    "United States/Honeywell International",
                    "United States/Howmet Aerospace",
                    "South Korea/Hyundai Rotem",
                    "Japan/IHI Corp.",
                    "Israel/Israel Aerospace Industries",
                    "United States/Jacobs Engineering Group",
                    "United States/KBR",
                    "Trans-European/KNDS",
                    "Japan/Kawasaki Heavy Industries",
                    "Norway/Kongsberg Gruppen",
                    "South Korea/Korea Aerospace Industries",
                    "United States/L3Harris Technologies",
                    "South Korea/LIG Nex1",
                    "United States/Leidos",
                    "Italy/Leonardo",
                    "United States/Lockheed Martin Corp.",
                    "Trans-European/MBDA",
                    "United States/ManTech International Corp.",
                    "India/Mazagon Dock Shipbuilders",
                    "United Kingdom/Melrose Industries",
                    "United States/Mercury Systems",
                    "United States/Mitre Corp.",
                    "Japan/Mitsubishi Heavy Industries",
                    "United States/Moog",
                    "Taiwan/NCSIST",
                    "China/NORINCO",
                    "France/Naval Group",
                    "Spain/Navantia",
                    "United States/Northrop Grumman Corp.",
                    "United States/Oshkosh Corp.",
                    "Poland/PGZ",
                    "United States/Parker-Hannifin Corp.",
                    "United States/Parsons Corp.",
                    "United States/Peraton",
                    "United Kingdom/QinetiQ",
                    "Israel/Rafael",
                    "United States/Raytheon Technologies",
                    "Germany/Rheinmetall",
                    "Türkiye/Roketsan",
                    "United Kingdom/Rolls-Royce",
                    "Russia/Rostec",
                    "Singapore/ST Engineering",
                    "Sweden/Saab",
                    "France/Safran",
                    "United States/Sandia National Laboratories",
                    "United States/Science Applications International Corp.",
                    "United Kingdom/Serco Group",
                    "United States/Sierra Nevada Corp.",
                    "United States/TTM Technologies",
                    "United States/Teledyne Technologies",
                    "United States/Textron",
                    "France/Thales",
                    "United States/The Aerospace Corp.",
                    "Germany/ThyssenKrupp",
                    "United States/TransDigm Group",
                    "Türkiye/Turkish Aerospace Industries",
                    "Ukraine/UkrOboronProm",
                    "United States/United Launch Alliance",
                    "Russia/United Shipbuilding Corp.",
                    "United States/V2X",
                    "Australia",
                    "Canada",
                    "China",
                    "France",
                    "Germany",
                    "India",
                    "Israel",
                    "Italy",
                    "Japan",
                    "Norway",
                    "Poland",
                    "Russia",
                    "Singapore",
                    "South Korea",
                    "Spain",
                    "Sweden",
                    "Taiwan",
                    "Trans-European",
                    "Türkiye",
                    "Ukraine",
                    "United Kingdom",
                    "United States"
                  ],
                  "labels": [
                    "ASELSAN",
                    "AVIC",
                    "Airbus",
                    "Amentum",
                    "Amphenol Corp.",
                    "Atomic Weapons Establishment",
                    "Austal",
                    "BAE Systems",
                    "BWX Technologies",
                    "Babcock International Group",
                    "Ball Corp.",
                    "Baykar",
                    "Bharat Electronics",
                    "Boeing",
                    "Booz Allen Hamilton",
                    "CACI International",
                    "CAE",
                    "CASC",
                    "CASIC",
                    "CEA",
                    "CETC",
                    "CNNC",
                    "CSGC",
                    "CSSC",
                    "Curtiss-Wright Corp.",
                    "Dassault Aviation Group",
                    "Diehl",
                    "Eaton",
                    "Elbit Systems",
                    "Fincantieri",
                    "Fujitsu",
                    "General Dynamics Corp.",
                    "General Electric",
                    "HEICO Corp.",
                    "HII",
                    "Hanwha Aerospace",
                    "Hensoldt",
                    "Hindustan Aeronautics",
                    "Honeywell International",
                    "Howmet Aerospace",
                    "Hyundai Rotem",
                    "IHI Corp.",
                    "Israel Aerospace Industries",
                    "Jacobs Engineering Group",
                    "KBR",
                    "KNDS",
                    "Kawasaki Heavy Industries",
                    "Kongsberg Gruppen",
                    "Korea Aerospace Industries",
                    "L3Harris Technologies",
                    "LIG Nex1",
                    "Leidos",
                    "Leonardo",
                    "Lockheed Martin Corp.",
                    "MBDA",
                    "ManTech International Corp.",
                    "Mazagon Dock Shipbuilders",
                    "Melrose Industries",
                    "Mercury Systems",
                    "Mitre Corp.",
                    "Mitsubishi Heavy Industries",
                    "Moog",
                    "NCSIST",
                    "NORINCO",
                    "Naval Group",
                    "Navantia",
                    "Northrop Grumman Corp.",
                    "Oshkosh Corp.",
                    "PGZ",
                    "Parker-Hannifin Corp.",
                    "Parsons Corp.",
                    "Peraton",
                    "QinetiQ",
                    "Rafael",
                    "Raytheon Technologies",
                    "Rheinmetall",
                    "Roketsan",
                    "Rolls-Royce",
                    "Rostec",
                    "ST Engineering",
                    "Saab",
                    "Safran",
                    "Sandia National Laboratories",
                    "Science Applications International Corp.",
                    "Serco Group",
                    "Sierra Nevada Corp.",
                    "TTM Technologies",
                    "Teledyne Technologies",
                    "Textron",
                    "Thales",
                    "The Aerospace Corp.",
                    "ThyssenKrupp",
                    "TransDigm Group",
                    "Turkish Aerospace Industries",
                    "UkrOboronProm",
                    "United Launch Alliance",
                    "United Shipbuilding Corp.",
                    "V2X",
                    "Australia",
                    "Canada",
                    "China",
                    "France",
                    "Germany",
                    "India",
                    "Israel",
                    "Italy",
                    "Japan",
                    "Norway",
                    "Poland",
                    "Russia",
                    "Singapore",
                    "South Korea",
                    "Spain",
                    "Sweden",
                    "Taiwan",
                    "Trans-European",
                    "Türkiye",
                    "Ukraine",
                    "United Kingdom",
                    "United States"
                  ],
                  "name": "",
                  "parents": [
                    "Türkiye",
                    "China",
                    "Trans-European",
                    "United States",
                    "United States",
                    "United Kingdom",
                    "Australia",
                    "United Kingdom",
                    "United States",
                    "United Kingdom",
                    "United States",
                    "Türkiye",
                    "India",
                    "United States",
                    "United States",
                    "United States",
                    "Canada",
                    "China",
                    "China",
                    "France",
                    "China",
                    "China",
                    "China",
                    "China",
                    "United States",
                    "France",
                    "Germany",
                    "United States",
                    "Israel",
                    "Italy",
                    "Japan",
                    "United States",
                    "United States",
                    "United States",
                    "United States",
                    "South Korea",
                    "Germany",
                    "India",
                    "United States",
                    "United States",
                    "South Korea",
                    "Japan",
                    "Israel",
                    "United States",
                    "United States",
                    "Trans-European",
                    "Japan",
                    "Norway",
                    "South Korea",
                    "United States",
                    "South Korea",
                    "United States",
                    "Italy",
                    "United States",
                    "Trans-European",
                    "United States",
                    "India",
                    "United Kingdom",
                    "United States",
                    "United States",
                    "Japan",
                    "United States",
                    "Taiwan",
                    "China",
                    "France",
                    "Spain",
                    "United States",
                    "United States",
                    "Poland",
                    "United States",
                    "United States",
                    "United States",
                    "United Kingdom",
                    "Israel",
                    "United States",
                    "Germany",
                    "Türkiye",
                    "United Kingdom",
                    "Russia",
                    "Singapore",
                    "Sweden",
                    "France",
                    "United States",
                    "United States",
                    "United Kingdom",
                    "United States",
                    "United States",
                    "United States",
                    "United States",
                    "France",
                    "United States",
                    "Germany",
                    "United States",
                    "Türkiye",
                    "Ukraine",
                    "United States",
                    "Russia",
                    "United States",
                    "",
                    "",
                    "",
                    "",
                    "",
                    "",
                    "",
                    "",
                    "",
                    "",
                    "",
                    "",
                    "",
                    "",
                    "",
                    "",
                    "",
                    "",
                    "",
                    "",
                    "",
                    ""
                  ],
                  "type": "sunburst",
                  "values": [
                    2020,
                    20620,
                    12090,
                    6560,
                    1140,
                    1780,
                    980,
                    26900,
                    1700,
                    3680,
                    930,
                    1420,
                    1920,
                    29300,
                    5900,
                    4820,
                    1420,
                    19560,
                    11770,
                    2790,
                    15080,
                    1940,
                    6460,
                    10440,
                    1390,
                    5070,
                    950,
                    1520,
                    4960,
                    2820,
                    1270,
                    28320,
                    4410,
                    860,
                    8750,
                    2780,
                    1660,
                    3460,
                    4630,
                    920,
                    820,
                    790,
                    4100,
                    2090,
                    4270,
                    3200,
                    1830,
                    1230,
                    1550,
                    12630,
                    1720,
                    8240,
                    12470,
                    59390,
                    4380,
                    2190,
                    1000,
                    1060,
                    960,
                    1060,
                    3250,
                    1280,
                    2590,
                    22060,
                    4530,
                    990,
                    32300,
                    2140,
                    1600,
                    2270,
                    1540,
                    4410,
                    1620,
                    3380,
                    39570,
                    4550,
                    790,
                    4930,
                    16810,
                    2180,
                    3700,
                    4200,
                    3920,
                    3780,
                    1850,
                    1560,
                    860,
                    2020,
                    2910,
                    9420,
                    1040,
                    1930,
                    2330,
                    1260,
                    1260,
                    1070,
                    3950,
                    2520,
                    980,
                    1420,
                    107930,
                    26010,
                    9090,
                    6380,
                    12440,
                    15290,
                    7140,
                    1230,
                    1600,
                    20760,
                    2180,
                    6870,
                    990,
                    3700,
                    2590,
                    19670,
                    5490,
                    1260,
                    41820,
                    297500
                  ]
                }
              ],
              "layout": {
                "annotations": [
                  {
                    "font": {
                      "family": "Times New Roman, serif",
                      "size": 20,
                      "weight": "bold"
                    },
                    "showarrow": false,
                    "text": "TOTAL REVENUE: $592.3 B",
                    "x": 0,
                    "y": 0
                  }
                ],
                "height": 800,
                "legend": {
                  "tracegroupgap": 0
                },
                "margin": {
                  "b": 30,
                  "l": 5,
                  "r": 5,
                  "t": 50
                },
                "template": {
                  "data": {
                    "bar": [
                      {
                        "error_x": {
                          "color": "#2a3f5f"
                        },
                        "error_y": {
                          "color": "#2a3f5f"
                        },
                        "marker": {
                          "line": {
                            "color": "#E5ECF6",
                            "width": 0.5
                          },
                          "pattern": {
                            "fillmode": "overlay",
                            "size": 10,
                            "solidity": 0.2
                          }
                        },
                        "type": "bar"
                      }
                    ],
                    "barpolar": [
                      {
                        "marker": {
                          "line": {
                            "color": "#E5ECF6",
                            "width": 0.5
                          },
                          "pattern": {
                            "fillmode": "overlay",
                            "size": 10,
                            "solidity": 0.2
                          }
                        },
                        "type": "barpolar"
                      }
                    ],
                    "carpet": [
                      {
                        "aaxis": {
                          "endlinecolor": "#2a3f5f",
                          "gridcolor": "white",
                          "linecolor": "white",
                          "minorgridcolor": "white",
                          "startlinecolor": "#2a3f5f"
                        },
                        "baxis": {
                          "endlinecolor": "#2a3f5f",
                          "gridcolor": "white",
                          "linecolor": "white",
                          "minorgridcolor": "white",
                          "startlinecolor": "#2a3f5f"
                        },
                        "type": "carpet"
                      }
                    ],
                    "choropleth": [
                      {
                        "colorbar": {
                          "outlinewidth": 0,
                          "ticks": ""
                        },
                        "type": "choropleth"
                      }
                    ],
                    "contour": [
                      {
                        "colorbar": {
                          "outlinewidth": 0,
                          "ticks": ""
                        },
                        "colorscale": [
                          [
                            0,
                            "#0d0887"
                          ],
                          [
                            0.1111111111111111,
                            "#46039f"
                          ],
                          [
                            0.2222222222222222,
                            "#7201a8"
                          ],
                          [
                            0.3333333333333333,
                            "#9c179e"
                          ],
                          [
                            0.4444444444444444,
                            "#bd3786"
                          ],
                          [
                            0.5555555555555556,
                            "#d8576b"
                          ],
                          [
                            0.6666666666666666,
                            "#ed7953"
                          ],
                          [
                            0.7777777777777778,
                            "#fb9f3a"
                          ],
                          [
                            0.8888888888888888,
                            "#fdca26"
                          ],
                          [
                            1,
                            "#f0f921"
                          ]
                        ],
                        "type": "contour"
                      }
                    ],
                    "contourcarpet": [
                      {
                        "colorbar": {
                          "outlinewidth": 0,
                          "ticks": ""
                        },
                        "type": "contourcarpet"
                      }
                    ],
                    "heatmap": [
                      {
                        "colorbar": {
                          "outlinewidth": 0,
                          "ticks": ""
                        },
                        "colorscale": [
                          [
                            0,
                            "#0d0887"
                          ],
                          [
                            0.1111111111111111,
                            "#46039f"
                          ],
                          [
                            0.2222222222222222,
                            "#7201a8"
                          ],
                          [
                            0.3333333333333333,
                            "#9c179e"
                          ],
                          [
                            0.4444444444444444,
                            "#bd3786"
                          ],
                          [
                            0.5555555555555556,
                            "#d8576b"
                          ],
                          [
                            0.6666666666666666,
                            "#ed7953"
                          ],
                          [
                            0.7777777777777778,
                            "#fb9f3a"
                          ],
                          [
                            0.8888888888888888,
                            "#fdca26"
                          ],
                          [
                            1,
                            "#f0f921"
                          ]
                        ],
                        "type": "heatmap"
                      }
                    ],
                    "heatmapgl": [
                      {
                        "colorbar": {
                          "outlinewidth": 0,
                          "ticks": ""
                        },
                        "colorscale": [
                          [
                            0,
                            "#0d0887"
                          ],
                          [
                            0.1111111111111111,
                            "#46039f"
                          ],
                          [
                            0.2222222222222222,
                            "#7201a8"
                          ],
                          [
                            0.3333333333333333,
                            "#9c179e"
                          ],
                          [
                            0.4444444444444444,
                            "#bd3786"
                          ],
                          [
                            0.5555555555555556,
                            "#d8576b"
                          ],
                          [
                            0.6666666666666666,
                            "#ed7953"
                          ],
                          [
                            0.7777777777777778,
                            "#fb9f3a"
                          ],
                          [
                            0.8888888888888888,
                            "#fdca26"
                          ],
                          [
                            1,
                            "#f0f921"
                          ]
                        ],
                        "type": "heatmapgl"
                      }
                    ],
                    "histogram": [
                      {
                        "marker": {
                          "pattern": {
                            "fillmode": "overlay",
                            "size": 10,
                            "solidity": 0.2
                          }
                        },
                        "type": "histogram"
                      }
                    ],
                    "histogram2d": [
                      {
                        "colorbar": {
                          "outlinewidth": 0,
                          "ticks": ""
                        },
                        "colorscale": [
                          [
                            0,
                            "#0d0887"
                          ],
                          [
                            0.1111111111111111,
                            "#46039f"
                          ],
                          [
                            0.2222222222222222,
                            "#7201a8"
                          ],
                          [
                            0.3333333333333333,
                            "#9c179e"
                          ],
                          [
                            0.4444444444444444,
                            "#bd3786"
                          ],
                          [
                            0.5555555555555556,
                            "#d8576b"
                          ],
                          [
                            0.6666666666666666,
                            "#ed7953"
                          ],
                          [
                            0.7777777777777778,
                            "#fb9f3a"
                          ],
                          [
                            0.8888888888888888,
                            "#fdca26"
                          ],
                          [
                            1,
                            "#f0f921"
                          ]
                        ],
                        "type": "histogram2d"
                      }
                    ],
                    "histogram2dcontour": [
                      {
                        "colorbar": {
                          "outlinewidth": 0,
                          "ticks": ""
                        },
                        "colorscale": [
                          [
                            0,
                            "#0d0887"
                          ],
                          [
                            0.1111111111111111,
                            "#46039f"
                          ],
                          [
                            0.2222222222222222,
                            "#7201a8"
                          ],
                          [
                            0.3333333333333333,
                            "#9c179e"
                          ],
                          [
                            0.4444444444444444,
                            "#bd3786"
                          ],
                          [
                            0.5555555555555556,
                            "#d8576b"
                          ],
                          [
                            0.6666666666666666,
                            "#ed7953"
                          ],
                          [
                            0.7777777777777778,
                            "#fb9f3a"
                          ],
                          [
                            0.8888888888888888,
                            "#fdca26"
                          ],
                          [
                            1,
                            "#f0f921"
                          ]
                        ],
                        "type": "histogram2dcontour"
                      }
                    ],
                    "mesh3d": [
                      {
                        "colorbar": {
                          "outlinewidth": 0,
                          "ticks": ""
                        },
                        "type": "mesh3d"
                      }
                    ],
                    "parcoords": [
                      {
                        "line": {
                          "colorbar": {
                            "outlinewidth": 0,
                            "ticks": ""
                          }
                        },
                        "type": "parcoords"
                      }
                    ],
                    "pie": [
                      {
                        "automargin": true,
                        "type": "pie"
                      }
                    ],
                    "scatter": [
                      {
                        "fillpattern": {
                          "fillmode": "overlay",
                          "size": 10,
                          "solidity": 0.2
                        },
                        "type": "scatter"
                      }
                    ],
                    "scatter3d": [
                      {
                        "line": {
                          "colorbar": {
                            "outlinewidth": 0,
                            "ticks": ""
                          }
                        },
                        "marker": {
                          "colorbar": {
                            "outlinewidth": 0,
                            "ticks": ""
                          }
                        },
                        "type": "scatter3d"
                      }
                    ],
                    "scattercarpet": [
                      {
                        "marker": {
                          "colorbar": {
                            "outlinewidth": 0,
                            "ticks": ""
                          }
                        },
                        "type": "scattercarpet"
                      }
                    ],
                    "scattergeo": [
                      {
                        "marker": {
                          "colorbar": {
                            "outlinewidth": 0,
                            "ticks": ""
                          }
                        },
                        "type": "scattergeo"
                      }
                    ],
                    "scattergl": [
                      {
                        "marker": {
                          "colorbar": {
                            "outlinewidth": 0,
                            "ticks": ""
                          }
                        },
                        "type": "scattergl"
                      }
                    ],
                    "scattermapbox": [
                      {
                        "marker": {
                          "colorbar": {
                            "outlinewidth": 0,
                            "ticks": ""
                          }
                        },
                        "type": "scattermapbox"
                      }
                    ],
                    "scatterpolar": [
                      {
                        "marker": {
                          "colorbar": {
                            "outlinewidth": 0,
                            "ticks": ""
                          }
                        },
                        "type": "scatterpolar"
                      }
                    ],
                    "scatterpolargl": [
                      {
                        "marker": {
                          "colorbar": {
                            "outlinewidth": 0,
                            "ticks": ""
                          }
                        },
                        "type": "scatterpolargl"
                      }
                    ],
                    "scatterternary": [
                      {
                        "marker": {
                          "colorbar": {
                            "outlinewidth": 0,
                            "ticks": ""
                          }
                        },
                        "type": "scatterternary"
                      }
                    ],
                    "surface": [
                      {
                        "colorbar": {
                          "outlinewidth": 0,
                          "ticks": ""
                        },
                        "colorscale": [
                          [
                            0,
                            "#0d0887"
                          ],
                          [
                            0.1111111111111111,
                            "#46039f"
                          ],
                          [
                            0.2222222222222222,
                            "#7201a8"
                          ],
                          [
                            0.3333333333333333,
                            "#9c179e"
                          ],
                          [
                            0.4444444444444444,
                            "#bd3786"
                          ],
                          [
                            0.5555555555555556,
                            "#d8576b"
                          ],
                          [
                            0.6666666666666666,
                            "#ed7953"
                          ],
                          [
                            0.7777777777777778,
                            "#fb9f3a"
                          ],
                          [
                            0.8888888888888888,
                            "#fdca26"
                          ],
                          [
                            1,
                            "#f0f921"
                          ]
                        ],
                        "type": "surface"
                      }
                    ],
                    "table": [
                      {
                        "cells": {
                          "fill": {
                            "color": "#EBF0F8"
                          },
                          "line": {
                            "color": "white"
                          }
                        },
                        "header": {
                          "fill": {
                            "color": "#C8D4E3"
                          },
                          "line": {
                            "color": "white"
                          }
                        },
                        "type": "table"
                      }
                    ]
                  },
                  "layout": {
                    "annotationdefaults": {
                      "arrowcolor": "#2a3f5f",
                      "arrowhead": 0,
                      "arrowwidth": 1
                    },
                    "autotypenumbers": "strict",
                    "coloraxis": {
                      "colorbar": {
                        "outlinewidth": 0,
                        "ticks": ""
                      }
                    },
                    "colorscale": {
                      "diverging": [
                        [
                          0,
                          "#8e0152"
                        ],
                        [
                          0.1,
                          "#c51b7d"
                        ],
                        [
                          0.2,
                          "#de77ae"
                        ],
                        [
                          0.3,
                          "#f1b6da"
                        ],
                        [
                          0.4,
                          "#fde0ef"
                        ],
                        [
                          0.5,
                          "#f7f7f7"
                        ],
                        [
                          0.6,
                          "#e6f5d0"
                        ],
                        [
                          0.7,
                          "#b8e186"
                        ],
                        [
                          0.8,
                          "#7fbc41"
                        ],
                        [
                          0.9,
                          "#4d9221"
                        ],
                        [
                          1,
                          "#276419"
                        ]
                      ],
                      "sequential": [
                        [
                          0,
                          "#0d0887"
                        ],
                        [
                          0.1111111111111111,
                          "#46039f"
                        ],
                        [
                          0.2222222222222222,
                          "#7201a8"
                        ],
                        [
                          0.3333333333333333,
                          "#9c179e"
                        ],
                        [
                          0.4444444444444444,
                          "#bd3786"
                        ],
                        [
                          0.5555555555555556,
                          "#d8576b"
                        ],
                        [
                          0.6666666666666666,
                          "#ed7953"
                        ],
                        [
                          0.7777777777777778,
                          "#fb9f3a"
                        ],
                        [
                          0.8888888888888888,
                          "#fdca26"
                        ],
                        [
                          1,
                          "#f0f921"
                        ]
                      ],
                      "sequentialminus": [
                        [
                          0,
                          "#0d0887"
                        ],
                        [
                          0.1111111111111111,
                          "#46039f"
                        ],
                        [
                          0.2222222222222222,
                          "#7201a8"
                        ],
                        [
                          0.3333333333333333,
                          "#9c179e"
                        ],
                        [
                          0.4444444444444444,
                          "#bd3786"
                        ],
                        [
                          0.5555555555555556,
                          "#d8576b"
                        ],
                        [
                          0.6666666666666666,
                          "#ed7953"
                        ],
                        [
                          0.7777777777777778,
                          "#fb9f3a"
                        ],
                        [
                          0.8888888888888888,
                          "#fdca26"
                        ],
                        [
                          1,
                          "#f0f921"
                        ]
                      ]
                    },
                    "colorway": [
                      "#636efa",
                      "#EF553B",
                      "#00cc96",
                      "#ab63fa",
                      "#FFA15A",
                      "#19d3f3",
                      "#FF6692",
                      "#B6E880",
                      "#FF97FF",
                      "#FECB52"
                    ],
                    "font": {
                      "color": "#2a3f5f"
                    },
                    "geo": {
                      "bgcolor": "white",
                      "lakecolor": "white",
                      "landcolor": "#E5ECF6",
                      "showlakes": true,
                      "showland": true,
                      "subunitcolor": "white"
                    },
                    "hoverlabel": {
                      "align": "left"
                    },
                    "hovermode": "closest",
                    "mapbox": {
                      "style": "light"
                    },
                    "paper_bgcolor": "white",
                    "plot_bgcolor": "#E5ECF6",
                    "polar": {
                      "angularaxis": {
                        "gridcolor": "white",
                        "linecolor": "white",
                        "ticks": ""
                      },
                      "bgcolor": "#E5ECF6",
                      "radialaxis": {
                        "gridcolor": "white",
                        "linecolor": "white",
                        "ticks": ""
                      }
                    },
                    "scene": {
                      "xaxis": {
                        "backgroundcolor": "#E5ECF6",
                        "gridcolor": "white",
                        "gridwidth": 2,
                        "linecolor": "white",
                        "showbackground": true,
                        "ticks": "",
                        "zerolinecolor": "white"
                      },
                      "yaxis": {
                        "backgroundcolor": "#E5ECF6",
                        "gridcolor": "white",
                        "gridwidth": 2,
                        "linecolor": "white",
                        "showbackground": true,
                        "ticks": "",
                        "zerolinecolor": "white"
                      },
                      "zaxis": {
                        "backgroundcolor": "#E5ECF6",
                        "gridcolor": "white",
                        "gridwidth": 2,
                        "linecolor": "white",
                        "showbackground": true,
                        "ticks": "",
                        "zerolinecolor": "white"
                      }
                    },
                    "shapedefaults": {
                      "line": {
                        "color": "#2a3f5f"
                      }
                    },
                    "ternary": {
                      "aaxis": {
                        "gridcolor": "white",
                        "linecolor": "white",
                        "ticks": ""
                      },
                      "baxis": {
                        "gridcolor": "white",
                        "linecolor": "white",
                        "ticks": ""
                      },
                      "bgcolor": "#E5ECF6",
                      "caxis": {
                        "gridcolor": "white",
                        "linecolor": "white",
                        "ticks": ""
                      }
                    },
                    "title": {
                      "x": 0.05
                    },
                    "xaxis": {
                      "automargin": true,
                      "gridcolor": "white",
                      "linecolor": "white",
                      "ticks": "",
                      "title": {
                        "standoff": 15
                      },
                      "zerolinecolor": "white",
                      "zerolinewidth": 2
                    },
                    "yaxis": {
                      "automargin": true,
                      "gridcolor": "white",
                      "linecolor": "white",
                      "ticks": "",
                      "title": {
                        "standoff": 15
                      },
                      "zerolinecolor": "white",
                      "zerolinewidth": 2
                    }
                  }
                },
                "title": {
                  "font": {
                    "family": "Times New Roman, serif",
                    "size": 33
                  },
                  "text": "Arms Revenue of Companies by Country 2022",
                  "x": 0.5
                },
                "width": 800
              }
            }
          },
          "metadata": {},
          "output_type": "display_data"
        }
      ],
      "source": [
        "\n",
        "# Import plotly.express to create a sunburst chart\n",
        "import plotly.express as px\n",
        "\n",
        "# Aggregate market cap by country and company\n",
        "fig = px.sunburst(\n",
        "    df_2022,\n",
        "    path=['Country', 'Company'],\n",
        "    values='Arms Revenue (2022)',\n",
        ")\n",
        "\n",
        "# Format title of plot\n",
        "fig.update_layout(\n",
        "    title=dict(\n",
        "        text=\"Arms Revenue of Companies by Country 2022\",\n",
        "        x=0.5,\n",
        "        font=dict(\n",
        "            family=\"Times New Roman, serif\",  # Change font\n",
        "            size=33\n",
        "        )\n",
        "    ),\n",
        "    width=800,  # Width of the plot\n",
        "    height=800,  # Height of the plot\n",
        "    margin=dict(t=50, l=5, r=5, b=30)  # Adjust margins for larger plot\n",
        ")\n",
        "\n",
        "fig.update_traces(\n",
        "#   insidetextorientation='radial',  # Create radial text for legibility  \n",
        "    hovertemplate='<b>%{label}</b><br>Revenue: $%{value:.1f}',  # Hover to show revenue\n",
        ")\n",
        "\n",
        "# Add the total revenue for the year at the bottom\n",
        "fig.add_annotation(\n",
        "    x=0, y=0,  # x, y coordinates in plot\n",
        "    text=\"TOTAL REVENUE: $592.3 B\",\n",
        "    showarrow=False,\n",
        "    font=dict(family=\"Times New Roman, serif\", weight=\"bold\", size=20)\n",
        ")\n",
        "\n",
        "fig.show()"
      ]
    },
    {
      "cell_type": "code",
      "execution_count": 135,
      "metadata": {},
      "outputs": [
        {
          "data": {
            "application/vnd.plotly.v1+json": {
              "config": {
                "plotlyServerURL": "https://plot.ly"
              },
              "data": [
                {
                  "branchvalues": "total",
                  "domain": {
                    "x": [
                      0,
                      1
                    ],
                    "y": [
                      0,
                      1
                    ]
                  },
                  "hovertemplate": "<b>%{label}</b><br>Revenue: $%{value:.1f}B",
                  "ids": [
                    "Türkiye/ASELSAN",
                    "China/AVIC",
                    "Trans-European/Airbus",
                    "United States/Amentum",
                    "United States/Amphenol Corp.",
                    "United Kingdom/Atomic Weapons Establishment",
                    "Australia/Austal",
                    "United Kingdom/BAE Systems",
                    "United States/BWX Technologies",
                    "United Kingdom/Babcock International Group",
                    "United States/Ball Corp.",
                    "Türkiye/Baykar",
                    "India/Bharat Electronics",
                    "United States/Boeing",
                    "United States/Booz Allen Hamilton",
                    "United States/CACI International",
                    "Canada/CAE",
                    "China/CASC",
                    "China/CASIC",
                    "France/CEA",
                    "China/CETC",
                    "China/CNNC",
                    "China/CSGC",
                    "China/CSSC",
                    "United States/Curtiss-Wright Corp.",
                    "France/Dassault Aviation Group",
                    "Germany/Diehl",
                    "United States/Eaton",
                    "Israel/Elbit Systems",
                    "Italy/Fincantieri",
                    "Japan/Fujitsu",
                    "United States/General Dynamics Corp.",
                    "United States/General Electric",
                    "United States/HEICO Corp.",
                    "United States/HII",
                    "South Korea/Hanwha Aerospace",
                    "Germany/Hensoldt",
                    "India/Hindustan Aeronautics",
                    "United States/Honeywell International",
                    "United States/Howmet Aerospace",
                    "South Korea/Hyundai Rotem",
                    "Japan/IHI Corp.",
                    "Israel/Israel Aerospace Industries",
                    "United States/Jacobs Engineering Group",
                    "United States/KBR",
                    "Trans-European/KNDS",
                    "Japan/Kawasaki Heavy Industries",
                    "Norway/Kongsberg Gruppen",
                    "South Korea/Korea Aerospace Industries",
                    "United States/L3Harris Technologies",
                    "South Korea/LIG Nex1",
                    "United States/Leidos",
                    "Italy/Leonardo",
                    "United States/Lockheed Martin Corp.",
                    "Trans-European/MBDA",
                    "United States/ManTech International Corp.",
                    "India/Mazagon Dock Shipbuilders",
                    "United Kingdom/Melrose Industries",
                    "United States/Mercury Systems",
                    "United States/Mitre Corp.",
                    "Japan/Mitsubishi Heavy Industries",
                    "United States/Moog",
                    "Taiwan/NCSIST",
                    "China/NORINCO",
                    "France/Naval Group",
                    "Spain/Navantia",
                    "United States/Northrop Grumman Corp.",
                    "United States/Oshkosh Corp.",
                    "Poland/PGZ",
                    "United States/Parker-Hannifin Corp.",
                    "United States/Parsons Corp.",
                    "United States/Peraton",
                    "United Kingdom/QinetiQ",
                    "Israel/Rafael",
                    "United States/Raytheon Technologies",
                    "Germany/Rheinmetall",
                    "Türkiye/Roketsan",
                    "United Kingdom/Rolls-Royce",
                    "Russia/Rostec",
                    "Singapore/ST Engineering",
                    "Sweden/Saab",
                    "France/Safran",
                    "United States/Sandia National Laboratories",
                    "United States/Science Applications International Corp.",
                    "United Kingdom/Serco Group",
                    "United States/Sierra Nevada Corp.",
                    "United States/TTM Technologies",
                    "United States/Teledyne Technologies",
                    "United States/Textron",
                    "France/Thales",
                    "United States/The Aerospace Corp.",
                    "Germany/ThyssenKrupp",
                    "United States/TransDigm Group",
                    "Türkiye/Turkish Aerospace Industries",
                    "Ukraine/UkrOboronProm",
                    "United States/United Launch Alliance",
                    "Russia/United Shipbuilding Corp.",
                    "United States/V2X",
                    "Australia",
                    "Canada",
                    "China",
                    "France",
                    "Germany",
                    "India",
                    "Israel",
                    "Italy",
                    "Japan",
                    "Norway",
                    "Poland",
                    "Russia",
                    "Singapore",
                    "South Korea",
                    "Spain",
                    "Sweden",
                    "Taiwan",
                    "Trans-European",
                    "Türkiye",
                    "Ukraine",
                    "United Kingdom",
                    "United States"
                  ],
                  "labels": [
                    "ASELSAN",
                    "AVIC",
                    "Airbus",
                    "Amentum",
                    "Amphenol Corp.",
                    "Atomic Weapons Establishment",
                    "Austal",
                    "BAE Systems",
                    "BWX Technologies",
                    "Babcock International Group",
                    "Ball Corp.",
                    "Baykar",
                    "Bharat Electronics",
                    "Boeing",
                    "Booz Allen Hamilton",
                    "CACI International",
                    "CAE",
                    "CASC",
                    "CASIC",
                    "CEA",
                    "CETC",
                    "CNNC",
                    "CSGC",
                    "CSSC",
                    "Curtiss-Wright Corp.",
                    "Dassault Aviation Group",
                    "Diehl",
                    "Eaton",
                    "Elbit Systems",
                    "Fincantieri",
                    "Fujitsu",
                    "General Dynamics Corp.",
                    "General Electric",
                    "HEICO Corp.",
                    "HII",
                    "Hanwha Aerospace",
                    "Hensoldt",
                    "Hindustan Aeronautics",
                    "Honeywell International",
                    "Howmet Aerospace",
                    "Hyundai Rotem",
                    "IHI Corp.",
                    "Israel Aerospace Industries",
                    "Jacobs Engineering Group",
                    "KBR",
                    "KNDS",
                    "Kawasaki Heavy Industries",
                    "Kongsberg Gruppen",
                    "Korea Aerospace Industries",
                    "L3Harris Technologies",
                    "LIG Nex1",
                    "Leidos",
                    "Leonardo",
                    "Lockheed Martin Corp.",
                    "MBDA",
                    "ManTech International Corp.",
                    "Mazagon Dock Shipbuilders",
                    "Melrose Industries",
                    "Mercury Systems",
                    "Mitre Corp.",
                    "Mitsubishi Heavy Industries",
                    "Moog",
                    "NCSIST",
                    "NORINCO",
                    "Naval Group",
                    "Navantia",
                    "Northrop Grumman Corp.",
                    "Oshkosh Corp.",
                    "PGZ",
                    "Parker-Hannifin Corp.",
                    "Parsons Corp.",
                    "Peraton",
                    "QinetiQ",
                    "Rafael",
                    "Raytheon Technologies",
                    "Rheinmetall",
                    "Roketsan",
                    "Rolls-Royce",
                    "Rostec",
                    "ST Engineering",
                    "Saab",
                    "Safran",
                    "Sandia National Laboratories",
                    "Science Applications International Corp.",
                    "Serco Group",
                    "Sierra Nevada Corp.",
                    "TTM Technologies",
                    "Teledyne Technologies",
                    "Textron",
                    "Thales",
                    "The Aerospace Corp.",
                    "ThyssenKrupp",
                    "TransDigm Group",
                    "Turkish Aerospace Industries",
                    "UkrOboronProm",
                    "United Launch Alliance",
                    "United Shipbuilding Corp.",
                    "V2X",
                    "Australia",
                    "Canada",
                    "China",
                    "France",
                    "Germany",
                    "India",
                    "Israel",
                    "Italy",
                    "Japan",
                    "Norway",
                    "Poland",
                    "Russia",
                    "Singapore",
                    "South Korea",
                    "Spain",
                    "Sweden",
                    "Taiwan",
                    "Trans-European",
                    "Türkiye",
                    "Ukraine",
                    "United Kingdom",
                    "United States"
                  ],
                  "name": "",
                  "parents": [
                    "Türkiye",
                    "China",
                    "Trans-European",
                    "United States",
                    "United States",
                    "United Kingdom",
                    "Australia",
                    "United Kingdom",
                    "United States",
                    "United Kingdom",
                    "United States",
                    "Türkiye",
                    "India",
                    "United States",
                    "United States",
                    "United States",
                    "Canada",
                    "China",
                    "China",
                    "France",
                    "China",
                    "China",
                    "China",
                    "China",
                    "United States",
                    "France",
                    "Germany",
                    "United States",
                    "Israel",
                    "Italy",
                    "Japan",
                    "United States",
                    "United States",
                    "United States",
                    "United States",
                    "South Korea",
                    "Germany",
                    "India",
                    "United States",
                    "United States",
                    "South Korea",
                    "Japan",
                    "Israel",
                    "United States",
                    "United States",
                    "Trans-European",
                    "Japan",
                    "Norway",
                    "South Korea",
                    "United States",
                    "South Korea",
                    "United States",
                    "Italy",
                    "United States",
                    "Trans-European",
                    "United States",
                    "India",
                    "United Kingdom",
                    "United States",
                    "United States",
                    "Japan",
                    "United States",
                    "Taiwan",
                    "China",
                    "France",
                    "Spain",
                    "United States",
                    "United States",
                    "Poland",
                    "United States",
                    "United States",
                    "United States",
                    "United Kingdom",
                    "Israel",
                    "United States",
                    "Germany",
                    "Türkiye",
                    "United Kingdom",
                    "Russia",
                    "Singapore",
                    "Sweden",
                    "France",
                    "United States",
                    "United States",
                    "United Kingdom",
                    "United States",
                    "United States",
                    "United States",
                    "United States",
                    "France",
                    "United States",
                    "Germany",
                    "United States",
                    "Türkiye",
                    "Ukraine",
                    "United States",
                    "Russia",
                    "United States",
                    "",
                    "",
                    "",
                    "",
                    "",
                    "",
                    "",
                    "",
                    "",
                    "",
                    "",
                    "",
                    "",
                    "",
                    "",
                    "",
                    "",
                    "",
                    "",
                    "",
                    "",
                    ""
                  ],
                  "textfont": {
                    "size": 18
                  },
                  "type": "sunburst",
                  "values": [
                    2.02,
                    20.62,
                    12.09,
                    6.56,
                    1.14,
                    1.78,
                    0.98,
                    26.9,
                    1.7,
                    3.68,
                    0.93,
                    1.42,
                    1.92,
                    29.3,
                    5.9,
                    4.82,
                    1.42,
                    19.56,
                    11.77,
                    2.79,
                    15.08,
                    1.94,
                    6.46,
                    10.44,
                    1.39,
                    5.07,
                    0.95,
                    1.52,
                    4.96,
                    2.82,
                    1.27,
                    28.32,
                    4.41,
                    0.86,
                    8.75,
                    2.78,
                    1.66,
                    3.46,
                    4.63,
                    0.92,
                    0.82,
                    0.79,
                    4.1,
                    2.09,
                    4.27,
                    3.2,
                    1.83,
                    1.23,
                    1.55,
                    12.63,
                    1.72,
                    8.24,
                    12.47,
                    59.39,
                    4.38,
                    2.19,
                    1,
                    1.06,
                    0.96,
                    1.06,
                    3.25,
                    1.28,
                    2.59,
                    22.06,
                    4.53,
                    0.99,
                    32.3,
                    2.14,
                    1.6,
                    2.27,
                    1.54,
                    4.41,
                    1.62,
                    3.38,
                    39.57,
                    4.55,
                    0.79,
                    4.93,
                    16.81,
                    2.18,
                    3.7,
                    4.2,
                    3.92,
                    3.78,
                    1.85,
                    1.56,
                    0.86,
                    2.02,
                    2.91,
                    9.42,
                    1.04,
                    1.93,
                    2.33,
                    1.26,
                    1.26,
                    1.07,
                    3.95,
                    2.52,
                    0.98,
                    1.42,
                    107.93,
                    26.01,
                    9.09,
                    6.38,
                    12.44,
                    15.29,
                    7.14,
                    1.23,
                    1.6,
                    20.76,
                    2.18,
                    6.87,
                    0.99,
                    3.7,
                    2.59,
                    19.67,
                    5.49,
                    1.26,
                    41.82,
                    297.5
                  ]
                }
              ],
              "layout": {
                "annotations": [
                  {
                    "font": {
                      "family": "Times New Roman, serif",
                      "size": 25
                    },
                    "showarrow": false,
                    "text": "TOTAL REVENUE: $592.3B",
                    "x": 0,
                    "y": 0
                  }
                ],
                "height": 1000,
                "legend": {
                  "tracegroupgap": 0
                },
                "margin": {
                  "b": 30,
                  "l": 5,
                  "r": 5,
                  "t": 80
                },
                "template": {
                  "data": {
                    "bar": [
                      {
                        "error_x": {
                          "color": "#2a3f5f"
                        },
                        "error_y": {
                          "color": "#2a3f5f"
                        },
                        "marker": {
                          "line": {
                            "color": "#E5ECF6",
                            "width": 0.5
                          },
                          "pattern": {
                            "fillmode": "overlay",
                            "size": 10,
                            "solidity": 0.2
                          }
                        },
                        "type": "bar"
                      }
                    ],
                    "barpolar": [
                      {
                        "marker": {
                          "line": {
                            "color": "#E5ECF6",
                            "width": 0.5
                          },
                          "pattern": {
                            "fillmode": "overlay",
                            "size": 10,
                            "solidity": 0.2
                          }
                        },
                        "type": "barpolar"
                      }
                    ],
                    "carpet": [
                      {
                        "aaxis": {
                          "endlinecolor": "#2a3f5f",
                          "gridcolor": "white",
                          "linecolor": "white",
                          "minorgridcolor": "white",
                          "startlinecolor": "#2a3f5f"
                        },
                        "baxis": {
                          "endlinecolor": "#2a3f5f",
                          "gridcolor": "white",
                          "linecolor": "white",
                          "minorgridcolor": "white",
                          "startlinecolor": "#2a3f5f"
                        },
                        "type": "carpet"
                      }
                    ],
                    "choropleth": [
                      {
                        "colorbar": {
                          "outlinewidth": 0,
                          "ticks": ""
                        },
                        "type": "choropleth"
                      }
                    ],
                    "contour": [
                      {
                        "colorbar": {
                          "outlinewidth": 0,
                          "ticks": ""
                        },
                        "colorscale": [
                          [
                            0,
                            "#0d0887"
                          ],
                          [
                            0.1111111111111111,
                            "#46039f"
                          ],
                          [
                            0.2222222222222222,
                            "#7201a8"
                          ],
                          [
                            0.3333333333333333,
                            "#9c179e"
                          ],
                          [
                            0.4444444444444444,
                            "#bd3786"
                          ],
                          [
                            0.5555555555555556,
                            "#d8576b"
                          ],
                          [
                            0.6666666666666666,
                            "#ed7953"
                          ],
                          [
                            0.7777777777777778,
                            "#fb9f3a"
                          ],
                          [
                            0.8888888888888888,
                            "#fdca26"
                          ],
                          [
                            1,
                            "#f0f921"
                          ]
                        ],
                        "type": "contour"
                      }
                    ],
                    "contourcarpet": [
                      {
                        "colorbar": {
                          "outlinewidth": 0,
                          "ticks": ""
                        },
                        "type": "contourcarpet"
                      }
                    ],
                    "heatmap": [
                      {
                        "colorbar": {
                          "outlinewidth": 0,
                          "ticks": ""
                        },
                        "colorscale": [
                          [
                            0,
                            "#0d0887"
                          ],
                          [
                            0.1111111111111111,
                            "#46039f"
                          ],
                          [
                            0.2222222222222222,
                            "#7201a8"
                          ],
                          [
                            0.3333333333333333,
                            "#9c179e"
                          ],
                          [
                            0.4444444444444444,
                            "#bd3786"
                          ],
                          [
                            0.5555555555555556,
                            "#d8576b"
                          ],
                          [
                            0.6666666666666666,
                            "#ed7953"
                          ],
                          [
                            0.7777777777777778,
                            "#fb9f3a"
                          ],
                          [
                            0.8888888888888888,
                            "#fdca26"
                          ],
                          [
                            1,
                            "#f0f921"
                          ]
                        ],
                        "type": "heatmap"
                      }
                    ],
                    "heatmapgl": [
                      {
                        "colorbar": {
                          "outlinewidth": 0,
                          "ticks": ""
                        },
                        "colorscale": [
                          [
                            0,
                            "#0d0887"
                          ],
                          [
                            0.1111111111111111,
                            "#46039f"
                          ],
                          [
                            0.2222222222222222,
                            "#7201a8"
                          ],
                          [
                            0.3333333333333333,
                            "#9c179e"
                          ],
                          [
                            0.4444444444444444,
                            "#bd3786"
                          ],
                          [
                            0.5555555555555556,
                            "#d8576b"
                          ],
                          [
                            0.6666666666666666,
                            "#ed7953"
                          ],
                          [
                            0.7777777777777778,
                            "#fb9f3a"
                          ],
                          [
                            0.8888888888888888,
                            "#fdca26"
                          ],
                          [
                            1,
                            "#f0f921"
                          ]
                        ],
                        "type": "heatmapgl"
                      }
                    ],
                    "histogram": [
                      {
                        "marker": {
                          "pattern": {
                            "fillmode": "overlay",
                            "size": 10,
                            "solidity": 0.2
                          }
                        },
                        "type": "histogram"
                      }
                    ],
                    "histogram2d": [
                      {
                        "colorbar": {
                          "outlinewidth": 0,
                          "ticks": ""
                        },
                        "colorscale": [
                          [
                            0,
                            "#0d0887"
                          ],
                          [
                            0.1111111111111111,
                            "#46039f"
                          ],
                          [
                            0.2222222222222222,
                            "#7201a8"
                          ],
                          [
                            0.3333333333333333,
                            "#9c179e"
                          ],
                          [
                            0.4444444444444444,
                            "#bd3786"
                          ],
                          [
                            0.5555555555555556,
                            "#d8576b"
                          ],
                          [
                            0.6666666666666666,
                            "#ed7953"
                          ],
                          [
                            0.7777777777777778,
                            "#fb9f3a"
                          ],
                          [
                            0.8888888888888888,
                            "#fdca26"
                          ],
                          [
                            1,
                            "#f0f921"
                          ]
                        ],
                        "type": "histogram2d"
                      }
                    ],
                    "histogram2dcontour": [
                      {
                        "colorbar": {
                          "outlinewidth": 0,
                          "ticks": ""
                        },
                        "colorscale": [
                          [
                            0,
                            "#0d0887"
                          ],
                          [
                            0.1111111111111111,
                            "#46039f"
                          ],
                          [
                            0.2222222222222222,
                            "#7201a8"
                          ],
                          [
                            0.3333333333333333,
                            "#9c179e"
                          ],
                          [
                            0.4444444444444444,
                            "#bd3786"
                          ],
                          [
                            0.5555555555555556,
                            "#d8576b"
                          ],
                          [
                            0.6666666666666666,
                            "#ed7953"
                          ],
                          [
                            0.7777777777777778,
                            "#fb9f3a"
                          ],
                          [
                            0.8888888888888888,
                            "#fdca26"
                          ],
                          [
                            1,
                            "#f0f921"
                          ]
                        ],
                        "type": "histogram2dcontour"
                      }
                    ],
                    "mesh3d": [
                      {
                        "colorbar": {
                          "outlinewidth": 0,
                          "ticks": ""
                        },
                        "type": "mesh3d"
                      }
                    ],
                    "parcoords": [
                      {
                        "line": {
                          "colorbar": {
                            "outlinewidth": 0,
                            "ticks": ""
                          }
                        },
                        "type": "parcoords"
                      }
                    ],
                    "pie": [
                      {
                        "automargin": true,
                        "type": "pie"
                      }
                    ],
                    "scatter": [
                      {
                        "fillpattern": {
                          "fillmode": "overlay",
                          "size": 10,
                          "solidity": 0.2
                        },
                        "type": "scatter"
                      }
                    ],
                    "scatter3d": [
                      {
                        "line": {
                          "colorbar": {
                            "outlinewidth": 0,
                            "ticks": ""
                          }
                        },
                        "marker": {
                          "colorbar": {
                            "outlinewidth": 0,
                            "ticks": ""
                          }
                        },
                        "type": "scatter3d"
                      }
                    ],
                    "scattercarpet": [
                      {
                        "marker": {
                          "colorbar": {
                            "outlinewidth": 0,
                            "ticks": ""
                          }
                        },
                        "type": "scattercarpet"
                      }
                    ],
                    "scattergeo": [
                      {
                        "marker": {
                          "colorbar": {
                            "outlinewidth": 0,
                            "ticks": ""
                          }
                        },
                        "type": "scattergeo"
                      }
                    ],
                    "scattergl": [
                      {
                        "marker": {
                          "colorbar": {
                            "outlinewidth": 0,
                            "ticks": ""
                          }
                        },
                        "type": "scattergl"
                      }
                    ],
                    "scattermapbox": [
                      {
                        "marker": {
                          "colorbar": {
                            "outlinewidth": 0,
                            "ticks": ""
                          }
                        },
                        "type": "scattermapbox"
                      }
                    ],
                    "scatterpolar": [
                      {
                        "marker": {
                          "colorbar": {
                            "outlinewidth": 0,
                            "ticks": ""
                          }
                        },
                        "type": "scatterpolar"
                      }
                    ],
                    "scatterpolargl": [
                      {
                        "marker": {
                          "colorbar": {
                            "outlinewidth": 0,
                            "ticks": ""
                          }
                        },
                        "type": "scatterpolargl"
                      }
                    ],
                    "scatterternary": [
                      {
                        "marker": {
                          "colorbar": {
                            "outlinewidth": 0,
                            "ticks": ""
                          }
                        },
                        "type": "scatterternary"
                      }
                    ],
                    "surface": [
                      {
                        "colorbar": {
                          "outlinewidth": 0,
                          "ticks": ""
                        },
                        "colorscale": [
                          [
                            0,
                            "#0d0887"
                          ],
                          [
                            0.1111111111111111,
                            "#46039f"
                          ],
                          [
                            0.2222222222222222,
                            "#7201a8"
                          ],
                          [
                            0.3333333333333333,
                            "#9c179e"
                          ],
                          [
                            0.4444444444444444,
                            "#bd3786"
                          ],
                          [
                            0.5555555555555556,
                            "#d8576b"
                          ],
                          [
                            0.6666666666666666,
                            "#ed7953"
                          ],
                          [
                            0.7777777777777778,
                            "#fb9f3a"
                          ],
                          [
                            0.8888888888888888,
                            "#fdca26"
                          ],
                          [
                            1,
                            "#f0f921"
                          ]
                        ],
                        "type": "surface"
                      }
                    ],
                    "table": [
                      {
                        "cells": {
                          "fill": {
                            "color": "#EBF0F8"
                          },
                          "line": {
                            "color": "white"
                          }
                        },
                        "header": {
                          "fill": {
                            "color": "#C8D4E3"
                          },
                          "line": {
                            "color": "white"
                          }
                        },
                        "type": "table"
                      }
                    ]
                  },
                  "layout": {
                    "annotationdefaults": {
                      "arrowcolor": "#2a3f5f",
                      "arrowhead": 0,
                      "arrowwidth": 1
                    },
                    "autotypenumbers": "strict",
                    "coloraxis": {
                      "colorbar": {
                        "outlinewidth": 0,
                        "ticks": ""
                      }
                    },
                    "colorscale": {
                      "diverging": [
                        [
                          0,
                          "#8e0152"
                        ],
                        [
                          0.1,
                          "#c51b7d"
                        ],
                        [
                          0.2,
                          "#de77ae"
                        ],
                        [
                          0.3,
                          "#f1b6da"
                        ],
                        [
                          0.4,
                          "#fde0ef"
                        ],
                        [
                          0.5,
                          "#f7f7f7"
                        ],
                        [
                          0.6,
                          "#e6f5d0"
                        ],
                        [
                          0.7,
                          "#b8e186"
                        ],
                        [
                          0.8,
                          "#7fbc41"
                        ],
                        [
                          0.9,
                          "#4d9221"
                        ],
                        [
                          1,
                          "#276419"
                        ]
                      ],
                      "sequential": [
                        [
                          0,
                          "#0d0887"
                        ],
                        [
                          0.1111111111111111,
                          "#46039f"
                        ],
                        [
                          0.2222222222222222,
                          "#7201a8"
                        ],
                        [
                          0.3333333333333333,
                          "#9c179e"
                        ],
                        [
                          0.4444444444444444,
                          "#bd3786"
                        ],
                        [
                          0.5555555555555556,
                          "#d8576b"
                        ],
                        [
                          0.6666666666666666,
                          "#ed7953"
                        ],
                        [
                          0.7777777777777778,
                          "#fb9f3a"
                        ],
                        [
                          0.8888888888888888,
                          "#fdca26"
                        ],
                        [
                          1,
                          "#f0f921"
                        ]
                      ],
                      "sequentialminus": [
                        [
                          0,
                          "#0d0887"
                        ],
                        [
                          0.1111111111111111,
                          "#46039f"
                        ],
                        [
                          0.2222222222222222,
                          "#7201a8"
                        ],
                        [
                          0.3333333333333333,
                          "#9c179e"
                        ],
                        [
                          0.4444444444444444,
                          "#bd3786"
                        ],
                        [
                          0.5555555555555556,
                          "#d8576b"
                        ],
                        [
                          0.6666666666666666,
                          "#ed7953"
                        ],
                        [
                          0.7777777777777778,
                          "#fb9f3a"
                        ],
                        [
                          0.8888888888888888,
                          "#fdca26"
                        ],
                        [
                          1,
                          "#f0f921"
                        ]
                      ]
                    },
                    "colorway": [
                      "#636efa",
                      "#EF553B",
                      "#00cc96",
                      "#ab63fa",
                      "#FFA15A",
                      "#19d3f3",
                      "#FF6692",
                      "#B6E880",
                      "#FF97FF",
                      "#FECB52"
                    ],
                    "font": {
                      "color": "#2a3f5f"
                    },
                    "geo": {
                      "bgcolor": "white",
                      "lakecolor": "white",
                      "landcolor": "#E5ECF6",
                      "showlakes": true,
                      "showland": true,
                      "subunitcolor": "white"
                    },
                    "hoverlabel": {
                      "align": "left"
                    },
                    "hovermode": "closest",
                    "mapbox": {
                      "style": "light"
                    },
                    "paper_bgcolor": "white",
                    "plot_bgcolor": "#E5ECF6",
                    "polar": {
                      "angularaxis": {
                        "gridcolor": "white",
                        "linecolor": "white",
                        "ticks": ""
                      },
                      "bgcolor": "#E5ECF6",
                      "radialaxis": {
                        "gridcolor": "white",
                        "linecolor": "white",
                        "ticks": ""
                      }
                    },
                    "scene": {
                      "xaxis": {
                        "backgroundcolor": "#E5ECF6",
                        "gridcolor": "white",
                        "gridwidth": 2,
                        "linecolor": "white",
                        "showbackground": true,
                        "ticks": "",
                        "zerolinecolor": "white"
                      },
                      "yaxis": {
                        "backgroundcolor": "#E5ECF6",
                        "gridcolor": "white",
                        "gridwidth": 2,
                        "linecolor": "white",
                        "showbackground": true,
                        "ticks": "",
                        "zerolinecolor": "white"
                      },
                      "zaxis": {
                        "backgroundcolor": "#E5ECF6",
                        "gridcolor": "white",
                        "gridwidth": 2,
                        "linecolor": "white",
                        "showbackground": true,
                        "ticks": "",
                        "zerolinecolor": "white"
                      }
                    },
                    "shapedefaults": {
                      "line": {
                        "color": "#2a3f5f"
                      }
                    },
                    "ternary": {
                      "aaxis": {
                        "gridcolor": "white",
                        "linecolor": "white",
                        "ticks": ""
                      },
                      "baxis": {
                        "gridcolor": "white",
                        "linecolor": "white",
                        "ticks": ""
                      },
                      "bgcolor": "#E5ECF6",
                      "caxis": {
                        "gridcolor": "white",
                        "linecolor": "white",
                        "ticks": ""
                      }
                    },
                    "title": {
                      "x": 0.05
                    },
                    "xaxis": {
                      "automargin": true,
                      "gridcolor": "white",
                      "linecolor": "white",
                      "ticks": "",
                      "title": {
                        "standoff": 15
                      },
                      "zerolinecolor": "white",
                      "zerolinewidth": 2
                    },
                    "yaxis": {
                      "automargin": true,
                      "gridcolor": "white",
                      "linecolor": "white",
                      "ticks": "",
                      "title": {
                        "standoff": 15
                      },
                      "zerolinecolor": "white",
                      "zerolinewidth": 2
                    }
                  }
                },
                "title": {
                  "font": {
                    "family": "Times New Roman, serif",
                    "size": 40
                  },
                  "text": "Arms Revenue of Companies by Country 2022",
                  "x": 0.5
                },
                "width": 1000
              }
            }
          },
          "metadata": {},
          "output_type": "display_data"
        }
      ],
      "source": [
        "# Import plotly.express to create a sunburst chart\n",
        "import plotly.express as px\n",
        "\n",
        "# Aggregate market cap by country and company\n",
        "fig = px.sunburst(\n",
        "    df_2022,\n",
        "    path=['Country', 'Company'],\n",
        "    values='Arms Revenue (2022)',\n",
        ")\n",
        "\n",
        "# Format title of plot\n",
        "fig.update_layout(\n",
        "    title=dict(\n",
        "        text=\"Arms Revenue of Companies by Country 2022\",\n",
        "        x=0.5,\n",
        "        font=dict(family=\"Times New Roman, serif\",size=40)\n",
        "    ),\n",
        "    width=1000,\n",
        "    height=1000,\n",
        "    margin=dict(t=80, l=5, r=5, b=30)\n",
        ")\n",
        "\n",
        "# Hovertemplate to display values in billions\n",
        "fig.update_traces(\n",
        "    textfont=dict(size=18),\n",
        "    hovertemplate='<b>%{label}</b><br>Revenue: $%{value:.1f}B',\n",
        "    values=fig.data[0].values / 1000  # Convert revenue in millions to billions\n",
        ")\n",
        "\n",
        "# Add the total revenue for the year at the bottom\n",
        "fig.add_annotation(\n",
        "    x=0, y=0,\n",
        "    text=\"TOTAL REVENUE: $592.3B\",\n",
        "    showarrow=False,\n",
        "    font=dict(family=\"Times New Roman, serif\", size=25)\n",
        ")\n",
        "\n",
        "fig.show()\n"
      ]
    },
    {
      "cell_type": "code",
      "execution_count": 104,
      "metadata": {},
      "outputs": [
        {
          "data": {
            "text/plain": [
              "592.34"
            ]
          },
          "execution_count": 104,
          "metadata": {},
          "output_type": "execute_result"
        }
      ],
      "source": [
        "#Calculate the total revenue for 2022\n",
        "\n",
        "total_revenue_2022 = df_2022['Arms Revenue (2022)'].sum() / 1000\n",
        "\n",
        "total_revenue_2022"
      ]
    },
    {
      "cell_type": "code",
      "execution_count": 12,
      "metadata": {},
      "outputs": [
        {
          "data": {
            "application/vnd.plotly.v1+json": {
              "config": {
                "plotlyServerURL": "https://plot.ly"
              },
              "data": [
                {
                  "branchvalues": "total",
                  "domain": {
                    "x": [
                      0,
                      1
                    ],
                    "y": [
                      0,
                      1
                    ]
                  },
                  "hovertemplate": "<b>%{label}</b><br>Revenue: %{value:,.2f}",
                  "ids": [
                    "China/AVIC",
                    "United Kingdom/Atomic Weapons Establishment",
                    "United Kingdom/BAE Systems",
                    "United Kingdom/Babcock International Group",
                    "United States/Boeing",
                    "China/CASC",
                    "China/CASIC",
                    "France/CEA",
                    "China/CETC",
                    "France/Dassault Aviation Group",
                    "United States/General Dynamics Corp.",
                    "United States/Lockheed Martin Corp.",
                    "China/NORINCO",
                    "France/Naval Group",
                    "United States/Northrop Grumman Corp.",
                    "United States/Raytheon Technologies",
                    "United Kingdom/Rolls-Royce",
                    "Russia/Rostec",
                    "France/Safran",
                    "United Kingdom/Serco Group",
                    "France/Thales",
                    "Russia/United Shipbuilding Corp.",
                    "China",
                    "France",
                    "Russia",
                    "United Kingdom",
                    "United States"
                  ],
                  "labels": [
                    "AVIC",
                    "Atomic Weapons Establishment",
                    "BAE Systems",
                    "Babcock International Group",
                    "Boeing",
                    "CASC",
                    "CASIC",
                    "CEA",
                    "CETC",
                    "Dassault Aviation Group",
                    "General Dynamics Corp.",
                    "Lockheed Martin Corp.",
                    "NORINCO",
                    "Naval Group",
                    "Northrop Grumman Corp.",
                    "Raytheon Technologies",
                    "Rolls-Royce",
                    "Rostec",
                    "Safran",
                    "Serco Group",
                    "Thales",
                    "United Shipbuilding Corp.",
                    "China",
                    "France",
                    "Russia",
                    "United Kingdom",
                    "United States"
                  ],
                  "name": "",
                  "parents": [
                    "China",
                    "United Kingdom",
                    "United Kingdom",
                    "United Kingdom",
                    "United States",
                    "China",
                    "China",
                    "France",
                    "China",
                    "France",
                    "United States",
                    "United States",
                    "China",
                    "France",
                    "United States",
                    "United States",
                    "United Kingdom",
                    "Russia",
                    "France",
                    "United Kingdom",
                    "France",
                    "Russia",
                    "",
                    "",
                    "",
                    "",
                    ""
                  ],
                  "rotation": -4,
                  "type": "sunburst",
                  "values": [
                    20620,
                    1780,
                    26900,
                    3680,
                    29300,
                    19560,
                    11770,
                    2790,
                    15080,
                    5070,
                    28320,
                    59390,
                    22060,
                    4530,
                    32300,
                    39570,
                    4930,
                    16810,
                    4200,
                    1850,
                    9420,
                    3950,
                    89090,
                    26010,
                    20760,
                    39140,
                    188880
                  ]
                }
              ],
              "layout": {
                "height": 600,
                "legend": {
                  "tracegroupgap": 0
                },
                "margin": {
                  "b": 20,
                  "l": 5,
                  "r": 5,
                  "t": 50
                },
                "template": {
                  "data": {
                    "bar": [
                      {
                        "error_x": {
                          "color": "#2a3f5f"
                        },
                        "error_y": {
                          "color": "#2a3f5f"
                        },
                        "marker": {
                          "line": {
                            "color": "#E5ECF6",
                            "width": 0.5
                          },
                          "pattern": {
                            "fillmode": "overlay",
                            "size": 10,
                            "solidity": 0.2
                          }
                        },
                        "type": "bar"
                      }
                    ],
                    "barpolar": [
                      {
                        "marker": {
                          "line": {
                            "color": "#E5ECF6",
                            "width": 0.5
                          },
                          "pattern": {
                            "fillmode": "overlay",
                            "size": 10,
                            "solidity": 0.2
                          }
                        },
                        "type": "barpolar"
                      }
                    ],
                    "carpet": [
                      {
                        "aaxis": {
                          "endlinecolor": "#2a3f5f",
                          "gridcolor": "white",
                          "linecolor": "white",
                          "minorgridcolor": "white",
                          "startlinecolor": "#2a3f5f"
                        },
                        "baxis": {
                          "endlinecolor": "#2a3f5f",
                          "gridcolor": "white",
                          "linecolor": "white",
                          "minorgridcolor": "white",
                          "startlinecolor": "#2a3f5f"
                        },
                        "type": "carpet"
                      }
                    ],
                    "choropleth": [
                      {
                        "colorbar": {
                          "outlinewidth": 0,
                          "ticks": ""
                        },
                        "type": "choropleth"
                      }
                    ],
                    "contour": [
                      {
                        "colorbar": {
                          "outlinewidth": 0,
                          "ticks": ""
                        },
                        "colorscale": [
                          [
                            0,
                            "#0d0887"
                          ],
                          [
                            0.1111111111111111,
                            "#46039f"
                          ],
                          [
                            0.2222222222222222,
                            "#7201a8"
                          ],
                          [
                            0.3333333333333333,
                            "#9c179e"
                          ],
                          [
                            0.4444444444444444,
                            "#bd3786"
                          ],
                          [
                            0.5555555555555556,
                            "#d8576b"
                          ],
                          [
                            0.6666666666666666,
                            "#ed7953"
                          ],
                          [
                            0.7777777777777778,
                            "#fb9f3a"
                          ],
                          [
                            0.8888888888888888,
                            "#fdca26"
                          ],
                          [
                            1,
                            "#f0f921"
                          ]
                        ],
                        "type": "contour"
                      }
                    ],
                    "contourcarpet": [
                      {
                        "colorbar": {
                          "outlinewidth": 0,
                          "ticks": ""
                        },
                        "type": "contourcarpet"
                      }
                    ],
                    "heatmap": [
                      {
                        "colorbar": {
                          "outlinewidth": 0,
                          "ticks": ""
                        },
                        "colorscale": [
                          [
                            0,
                            "#0d0887"
                          ],
                          [
                            0.1111111111111111,
                            "#46039f"
                          ],
                          [
                            0.2222222222222222,
                            "#7201a8"
                          ],
                          [
                            0.3333333333333333,
                            "#9c179e"
                          ],
                          [
                            0.4444444444444444,
                            "#bd3786"
                          ],
                          [
                            0.5555555555555556,
                            "#d8576b"
                          ],
                          [
                            0.6666666666666666,
                            "#ed7953"
                          ],
                          [
                            0.7777777777777778,
                            "#fb9f3a"
                          ],
                          [
                            0.8888888888888888,
                            "#fdca26"
                          ],
                          [
                            1,
                            "#f0f921"
                          ]
                        ],
                        "type": "heatmap"
                      }
                    ],
                    "heatmapgl": [
                      {
                        "colorbar": {
                          "outlinewidth": 0,
                          "ticks": ""
                        },
                        "colorscale": [
                          [
                            0,
                            "#0d0887"
                          ],
                          [
                            0.1111111111111111,
                            "#46039f"
                          ],
                          [
                            0.2222222222222222,
                            "#7201a8"
                          ],
                          [
                            0.3333333333333333,
                            "#9c179e"
                          ],
                          [
                            0.4444444444444444,
                            "#bd3786"
                          ],
                          [
                            0.5555555555555556,
                            "#d8576b"
                          ],
                          [
                            0.6666666666666666,
                            "#ed7953"
                          ],
                          [
                            0.7777777777777778,
                            "#fb9f3a"
                          ],
                          [
                            0.8888888888888888,
                            "#fdca26"
                          ],
                          [
                            1,
                            "#f0f921"
                          ]
                        ],
                        "type": "heatmapgl"
                      }
                    ],
                    "histogram": [
                      {
                        "marker": {
                          "pattern": {
                            "fillmode": "overlay",
                            "size": 10,
                            "solidity": 0.2
                          }
                        },
                        "type": "histogram"
                      }
                    ],
                    "histogram2d": [
                      {
                        "colorbar": {
                          "outlinewidth": 0,
                          "ticks": ""
                        },
                        "colorscale": [
                          [
                            0,
                            "#0d0887"
                          ],
                          [
                            0.1111111111111111,
                            "#46039f"
                          ],
                          [
                            0.2222222222222222,
                            "#7201a8"
                          ],
                          [
                            0.3333333333333333,
                            "#9c179e"
                          ],
                          [
                            0.4444444444444444,
                            "#bd3786"
                          ],
                          [
                            0.5555555555555556,
                            "#d8576b"
                          ],
                          [
                            0.6666666666666666,
                            "#ed7953"
                          ],
                          [
                            0.7777777777777778,
                            "#fb9f3a"
                          ],
                          [
                            0.8888888888888888,
                            "#fdca26"
                          ],
                          [
                            1,
                            "#f0f921"
                          ]
                        ],
                        "type": "histogram2d"
                      }
                    ],
                    "histogram2dcontour": [
                      {
                        "colorbar": {
                          "outlinewidth": 0,
                          "ticks": ""
                        },
                        "colorscale": [
                          [
                            0,
                            "#0d0887"
                          ],
                          [
                            0.1111111111111111,
                            "#46039f"
                          ],
                          [
                            0.2222222222222222,
                            "#7201a8"
                          ],
                          [
                            0.3333333333333333,
                            "#9c179e"
                          ],
                          [
                            0.4444444444444444,
                            "#bd3786"
                          ],
                          [
                            0.5555555555555556,
                            "#d8576b"
                          ],
                          [
                            0.6666666666666666,
                            "#ed7953"
                          ],
                          [
                            0.7777777777777778,
                            "#fb9f3a"
                          ],
                          [
                            0.8888888888888888,
                            "#fdca26"
                          ],
                          [
                            1,
                            "#f0f921"
                          ]
                        ],
                        "type": "histogram2dcontour"
                      }
                    ],
                    "mesh3d": [
                      {
                        "colorbar": {
                          "outlinewidth": 0,
                          "ticks": ""
                        },
                        "type": "mesh3d"
                      }
                    ],
                    "parcoords": [
                      {
                        "line": {
                          "colorbar": {
                            "outlinewidth": 0,
                            "ticks": ""
                          }
                        },
                        "type": "parcoords"
                      }
                    ],
                    "pie": [
                      {
                        "automargin": true,
                        "type": "pie"
                      }
                    ],
                    "scatter": [
                      {
                        "fillpattern": {
                          "fillmode": "overlay",
                          "size": 10,
                          "solidity": 0.2
                        },
                        "type": "scatter"
                      }
                    ],
                    "scatter3d": [
                      {
                        "line": {
                          "colorbar": {
                            "outlinewidth": 0,
                            "ticks": ""
                          }
                        },
                        "marker": {
                          "colorbar": {
                            "outlinewidth": 0,
                            "ticks": ""
                          }
                        },
                        "type": "scatter3d"
                      }
                    ],
                    "scattercarpet": [
                      {
                        "marker": {
                          "colorbar": {
                            "outlinewidth": 0,
                            "ticks": ""
                          }
                        },
                        "type": "scattercarpet"
                      }
                    ],
                    "scattergeo": [
                      {
                        "marker": {
                          "colorbar": {
                            "outlinewidth": 0,
                            "ticks": ""
                          }
                        },
                        "type": "scattergeo"
                      }
                    ],
                    "scattergl": [
                      {
                        "marker": {
                          "colorbar": {
                            "outlinewidth": 0,
                            "ticks": ""
                          }
                        },
                        "type": "scattergl"
                      }
                    ],
                    "scattermapbox": [
                      {
                        "marker": {
                          "colorbar": {
                            "outlinewidth": 0,
                            "ticks": ""
                          }
                        },
                        "type": "scattermapbox"
                      }
                    ],
                    "scatterpolar": [
                      {
                        "marker": {
                          "colorbar": {
                            "outlinewidth": 0,
                            "ticks": ""
                          }
                        },
                        "type": "scatterpolar"
                      }
                    ],
                    "scatterpolargl": [
                      {
                        "marker": {
                          "colorbar": {
                            "outlinewidth": 0,
                            "ticks": ""
                          }
                        },
                        "type": "scatterpolargl"
                      }
                    ],
                    "scatterternary": [
                      {
                        "marker": {
                          "colorbar": {
                            "outlinewidth": 0,
                            "ticks": ""
                          }
                        },
                        "type": "scatterternary"
                      }
                    ],
                    "surface": [
                      {
                        "colorbar": {
                          "outlinewidth": 0,
                          "ticks": ""
                        },
                        "colorscale": [
                          [
                            0,
                            "#0d0887"
                          ],
                          [
                            0.1111111111111111,
                            "#46039f"
                          ],
                          [
                            0.2222222222222222,
                            "#7201a8"
                          ],
                          [
                            0.3333333333333333,
                            "#9c179e"
                          ],
                          [
                            0.4444444444444444,
                            "#bd3786"
                          ],
                          [
                            0.5555555555555556,
                            "#d8576b"
                          ],
                          [
                            0.6666666666666666,
                            "#ed7953"
                          ],
                          [
                            0.7777777777777778,
                            "#fb9f3a"
                          ],
                          [
                            0.8888888888888888,
                            "#fdca26"
                          ],
                          [
                            1,
                            "#f0f921"
                          ]
                        ],
                        "type": "surface"
                      }
                    ],
                    "table": [
                      {
                        "cells": {
                          "fill": {
                            "color": "#EBF0F8"
                          },
                          "line": {
                            "color": "white"
                          }
                        },
                        "header": {
                          "fill": {
                            "color": "#C8D4E3"
                          },
                          "line": {
                            "color": "white"
                          }
                        },
                        "type": "table"
                      }
                    ]
                  },
                  "layout": {
                    "annotationdefaults": {
                      "arrowcolor": "#2a3f5f",
                      "arrowhead": 0,
                      "arrowwidth": 1
                    },
                    "autotypenumbers": "strict",
                    "coloraxis": {
                      "colorbar": {
                        "outlinewidth": 0,
                        "ticks": ""
                      }
                    },
                    "colorscale": {
                      "diverging": [
                        [
                          0,
                          "#8e0152"
                        ],
                        [
                          0.1,
                          "#c51b7d"
                        ],
                        [
                          0.2,
                          "#de77ae"
                        ],
                        [
                          0.3,
                          "#f1b6da"
                        ],
                        [
                          0.4,
                          "#fde0ef"
                        ],
                        [
                          0.5,
                          "#f7f7f7"
                        ],
                        [
                          0.6,
                          "#e6f5d0"
                        ],
                        [
                          0.7,
                          "#b8e186"
                        ],
                        [
                          0.8,
                          "#7fbc41"
                        ],
                        [
                          0.9,
                          "#4d9221"
                        ],
                        [
                          1,
                          "#276419"
                        ]
                      ],
                      "sequential": [
                        [
                          0,
                          "#0d0887"
                        ],
                        [
                          0.1111111111111111,
                          "#46039f"
                        ],
                        [
                          0.2222222222222222,
                          "#7201a8"
                        ],
                        [
                          0.3333333333333333,
                          "#9c179e"
                        ],
                        [
                          0.4444444444444444,
                          "#bd3786"
                        ],
                        [
                          0.5555555555555556,
                          "#d8576b"
                        ],
                        [
                          0.6666666666666666,
                          "#ed7953"
                        ],
                        [
                          0.7777777777777778,
                          "#fb9f3a"
                        ],
                        [
                          0.8888888888888888,
                          "#fdca26"
                        ],
                        [
                          1,
                          "#f0f921"
                        ]
                      ],
                      "sequentialminus": [
                        [
                          0,
                          "#0d0887"
                        ],
                        [
                          0.1111111111111111,
                          "#46039f"
                        ],
                        [
                          0.2222222222222222,
                          "#7201a8"
                        ],
                        [
                          0.3333333333333333,
                          "#9c179e"
                        ],
                        [
                          0.4444444444444444,
                          "#bd3786"
                        ],
                        [
                          0.5555555555555556,
                          "#d8576b"
                        ],
                        [
                          0.6666666666666666,
                          "#ed7953"
                        ],
                        [
                          0.7777777777777778,
                          "#fb9f3a"
                        ],
                        [
                          0.8888888888888888,
                          "#fdca26"
                        ],
                        [
                          1,
                          "#f0f921"
                        ]
                      ]
                    },
                    "colorway": [
                      "#636efa",
                      "#EF553B",
                      "#00cc96",
                      "#ab63fa",
                      "#FFA15A",
                      "#19d3f3",
                      "#FF6692",
                      "#B6E880",
                      "#FF97FF",
                      "#FECB52"
                    ],
                    "font": {
                      "color": "#2a3f5f"
                    },
                    "geo": {
                      "bgcolor": "white",
                      "lakecolor": "white",
                      "landcolor": "#E5ECF6",
                      "showlakes": true,
                      "showland": true,
                      "subunitcolor": "white"
                    },
                    "hoverlabel": {
                      "align": "left"
                    },
                    "hovermode": "closest",
                    "mapbox": {
                      "style": "light"
                    },
                    "paper_bgcolor": "white",
                    "plot_bgcolor": "#E5ECF6",
                    "polar": {
                      "angularaxis": {
                        "gridcolor": "white",
                        "linecolor": "white",
                        "ticks": ""
                      },
                      "bgcolor": "#E5ECF6",
                      "radialaxis": {
                        "gridcolor": "white",
                        "linecolor": "white",
                        "ticks": ""
                      }
                    },
                    "scene": {
                      "xaxis": {
                        "backgroundcolor": "#E5ECF6",
                        "gridcolor": "white",
                        "gridwidth": 2,
                        "linecolor": "white",
                        "showbackground": true,
                        "ticks": "",
                        "zerolinecolor": "white"
                      },
                      "yaxis": {
                        "backgroundcolor": "#E5ECF6",
                        "gridcolor": "white",
                        "gridwidth": 2,
                        "linecolor": "white",
                        "showbackground": true,
                        "ticks": "",
                        "zerolinecolor": "white"
                      },
                      "zaxis": {
                        "backgroundcolor": "#E5ECF6",
                        "gridcolor": "white",
                        "gridwidth": 2,
                        "linecolor": "white",
                        "showbackground": true,
                        "ticks": "",
                        "zerolinecolor": "white"
                      }
                    },
                    "shapedefaults": {
                      "line": {
                        "color": "#2a3f5f"
                      }
                    },
                    "ternary": {
                      "aaxis": {
                        "gridcolor": "white",
                        "linecolor": "white",
                        "ticks": ""
                      },
                      "baxis": {
                        "gridcolor": "white",
                        "linecolor": "white",
                        "ticks": ""
                      },
                      "bgcolor": "#E5ECF6",
                      "caxis": {
                        "gridcolor": "white",
                        "linecolor": "white",
                        "ticks": ""
                      }
                    },
                    "title": {
                      "x": 0.05
                    },
                    "xaxis": {
                      "automargin": true,
                      "gridcolor": "white",
                      "linecolor": "white",
                      "ticks": "",
                      "title": {
                        "standoff": 15
                      },
                      "zerolinecolor": "white",
                      "zerolinewidth": 2
                    },
                    "yaxis": {
                      "automargin": true,
                      "gridcolor": "white",
                      "linecolor": "white",
                      "ticks": "",
                      "title": {
                        "standoff": 15
                      },
                      "zerolinecolor": "white",
                      "zerolinewidth": 2
                    }
                  }
                },
                "title": {
                  "font": {
                    "size": 20
                  },
                  "text": "Arms Revenue of Companies by Country in 2022",
                  "x": 0.5
                },
                "width": 600
              }
            }
          },
          "metadata": {},
          "output_type": "display_data"
        }
      ],
      "source": [
        "# The above graph is a little messy\n",
        "# I wanted to see what a sunburst of only top 10 countries and companies looked like \n",
        "\n",
        "# Get the top 10 countries by total revenue\n",
        "top_countries = df_2022.groupby('Country')['Arms Revenue (2022)'].sum().nlargest(5).index\n",
        "\n",
        "# Filter the dataset to include only the top 10 countries\n",
        "df_top_countries = df_2022[df_2022['Country'].isin(top_countries)]\n",
        "\n",
        "# For each of these top 10 countries, get the top 5 companies by revenue\n",
        "top_companies_per_country = df_top_countries.groupby('Country').apply(\n",
        "    lambda x: x.nlargest(5, 'Arms Revenue (2022)')\n",
        ").reset_index(drop=True)\n",
        "\n",
        "# Prepare the data for the sunburst chart\n",
        "fig = px.sunburst(\n",
        "    top_companies_per_country,\n",
        "    path=['Country', 'Company'],\n",
        "    values='Arms Revenue (2022)'\n",
        ")\n",
        "\n",
        "fig.update_layout(\n",
        "    title_text='Arms Revenue of Companies by Country in 2022',  # Set the title of the plot\n",
        "    title_x=0.5,  # Center the title horizontally\n",
        "    title_font_size=20, \n",
        "    width=600,  # Set the width of the plot\n",
        "    height=600,  # Set the height of the plot\n",
        "    margin=dict(t=50, l=5, r=5, b=20) # Adjust margins for larger plot\n",
        ")\n",
        "\n",
        "fig.update_traces(\n",
        "    # insidetextorientation='radial',  # Create radial text for legibility  \n",
        "    hovertemplate='<b>%{label}</b><br>Revenue: %{value:,.2f}',  # Customize hover to show revenue\n",
        "    rotation=-4 # Adjust rotation for aesthetic purposes \n",
        ")\n",
        "\n",
        "fig.show()\n"
      ]
    },
    {
      "cell_type": "code",
      "execution_count": 13,
      "metadata": {
        "colab": {
          "base_uri": "https://localhost:8080/",
          "height": 493
        },
        "id": "9Wg8yVSELe-O",
        "outputId": "d9008002-22bb-4af6-a720-6c23a09aa1ff"
      },
      "outputs": [
        {
          "data": {
            "text/html": [
              "<div>\n",
              "<style scoped>\n",
              "    .dataframe tbody tr th:only-of-type {\n",
              "        vertical-align: middle;\n",
              "    }\n",
              "\n",
              "    .dataframe tbody tr th {\n",
              "        vertical-align: top;\n",
              "    }\n",
              "\n",
              "    .dataframe thead th {\n",
              "        text-align: right;\n",
              "    }\n",
              "</style>\n",
              "<table border=\"1\" class=\"dataframe\">\n",
              "  <thead>\n",
              "    <tr style=\"text-align: right;\">\n",
              "      <th></th>\n",
              "      <th>Rank (2002)</th>\n",
              "      <th>Company</th>\n",
              "      <th>Country</th>\n",
              "      <th>Arms Revenue (2002)</th>\n",
              "      <th>Arms Revenue 2002 (Adjusted)</th>\n",
              "      <th>Total Revenue (2002)</th>\n",
              "      <th>Arms Revenue as a % of total revenue (2002)</th>\n",
              "    </tr>\n",
              "  </thead>\n",
              "  <tbody>\n",
              "    <tr>\n",
              "      <th>0</th>\n",
              "      <td>1</td>\n",
              "      <td>Boeing</td>\n",
              "      <td>United States</td>\n",
              "      <td>23560</td>\n",
              "      <td>38349</td>\n",
              "      <td>54069</td>\n",
              "      <td>44%</td>\n",
              "    </tr>\n",
              "    <tr>\n",
              "      <th>1</th>\n",
              "      <td>2</td>\n",
              "      <td>Northrop Grumman Corp.</td>\n",
              "      <td>United States</td>\n",
              "      <td>21000</td>\n",
              "      <td>34182</td>\n",
              "      <td>22652</td>\n",
              "      <td>93%</td>\n",
              "    </tr>\n",
              "    <tr>\n",
              "      <th>2</th>\n",
              "      <td>3</td>\n",
              "      <td>Lockheed Martin Corp.</td>\n",
              "      <td>United States</td>\n",
              "      <td>18870</td>\n",
              "      <td>30715</td>\n",
              "      <td>26578</td>\n",
              "      <td>71%</td>\n",
              "    </tr>\n",
              "    <tr>\n",
              "      <th>3</th>\n",
              "      <td>4</td>\n",
              "      <td>BAE Systems</td>\n",
              "      <td>United Kingdom</td>\n",
              "      <td>14070</td>\n",
              "      <td>18627</td>\n",
              "      <td>18233</td>\n",
              "      <td>77%</td>\n",
              "    </tr>\n",
              "    <tr>\n",
              "      <th>4</th>\n",
              "      <td>5</td>\n",
              "      <td>Raytheon</td>\n",
              "      <td>United States</td>\n",
              "      <td>12020</td>\n",
              "      <td>19565</td>\n",
              "      <td>16760</td>\n",
              "      <td>72%</td>\n",
              "    </tr>\n",
              "    <tr>\n",
              "      <th>...</th>\n",
              "      <td>...</td>\n",
              "      <td>...</td>\n",
              "      <td>...</td>\n",
              "      <td>...</td>\n",
              "      <td>...</td>\n",
              "      <td>...</td>\n",
              "      <td>...</td>\n",
              "    </tr>\n",
              "    <tr>\n",
              "      <th>95</th>\n",
              "      <td>96</td>\n",
              "      <td>ADI</td>\n",
              "      <td>Australia</td>\n",
              "      <td>330</td>\n",
              "      <td>697</td>\n",
              "      <td>394</td>\n",
              "      <td>84%</td>\n",
              "    </tr>\n",
              "    <tr>\n",
              "      <th>96</th>\n",
              "      <td>97</td>\n",
              "      <td>UMPO</td>\n",
              "      <td>Russia</td>\n",
              "      <td>320</td>\n",
              "      <td>753</td>\n",
              "      <td>341</td>\n",
              "      <td>94%</td>\n",
              "    </tr>\n",
              "    <tr>\n",
              "      <th>97</th>\n",
              "      <td>98</td>\n",
              "      <td>Denel</td>\n",
              "      <td>South Africa</td>\n",
              "      <td>320</td>\n",
              "      <td>545</td>\n",
              "      <td>415</td>\n",
              "      <td>77%</td>\n",
              "    </tr>\n",
              "    <tr>\n",
              "      <th>98</th>\n",
              "      <td>99</td>\n",
              "      <td>Ultra Electronics Group</td>\n",
              "      <td>United Kingdom</td>\n",
              "      <td>320</td>\n",
              "      <td>424</td>\n",
              "      <td>390</td>\n",
              "      <td>82%</td>\n",
              "    </tr>\n",
              "    <tr>\n",
              "      <th>99</th>\n",
              "      <td>100</td>\n",
              "      <td>Cubic Corp.</td>\n",
              "      <td>United States</td>\n",
              "      <td>310</td>\n",
              "      <td>505</td>\n",
              "      <td>560</td>\n",
              "      <td>55%</td>\n",
              "    </tr>\n",
              "  </tbody>\n",
              "</table>\n",
              "<p>100 rows × 7 columns</p>\n",
              "</div>"
            ],
            "text/plain": [
              "    Rank (2002)                   Company         Country  \\\n",
              "0              1                   Boeing   United States   \n",
              "1              2   Northrop Grumman Corp.   United States   \n",
              "2              3    Lockheed Martin Corp.   United States   \n",
              "3              4              BAE Systems  United Kingdom   \n",
              "4              5                 Raytheon   United States   \n",
              "..           ...                      ...             ...   \n",
              "95            96                      ADI       Australia   \n",
              "96            97                     UMPO          Russia   \n",
              "97            98                    Denel    South Africa   \n",
              "98            99  Ultra Electronics Group  United Kingdom   \n",
              "99           100              Cubic Corp.   United States   \n",
              "\n",
              "    Arms Revenue (2002)  Arms Revenue 2002 (Adjusted) Total Revenue (2002)  \\\n",
              "0                 23560                         38349                54069   \n",
              "1                 21000                         34182                22652   \n",
              "2                 18870                         30715                26578   \n",
              "3                 14070                         18627                18233   \n",
              "4                 12020                         19565                16760   \n",
              "..                  ...                           ...                  ...   \n",
              "95                  330                           697                  394   \n",
              "96                  320                           753                  341   \n",
              "97                  320                           545                  415   \n",
              "98                  320                           424                  390   \n",
              "99                  310                           505                  560   \n",
              "\n",
              "   Arms Revenue as a % of total revenue (2002)  \n",
              "0                                          44%  \n",
              "1                                          93%  \n",
              "2                                          71%  \n",
              "3                                          77%  \n",
              "4                                          72%  \n",
              "..                                         ...  \n",
              "95                                         84%  \n",
              "96                                         94%  \n",
              "97                                         77%  \n",
              "98                                         82%  \n",
              "99                                         55%  \n",
              "\n",
              "[100 rows x 7 columns]"
            ]
          },
          "execution_count": 13,
          "metadata": {},
          "output_type": "execute_result"
        }
      ],
      "source": [
        "# After looking at the 2022 data, I thought I'd look back 20 years to the 2002 SIPRI data\n",
        "\n",
        "import pandas as pd\n",
        "import numpy as np\n",
        "import matplotlib.pyplot as plt\n",
        "import seaborn as sns\n",
        "import datetime as dt\n",
        "\n",
        "file_path = '/Users/RobertHolzmann/Downloads/Blogpost/Datasets/SIPRI_arms_dataset_2002.csv'\n",
        "\n",
        "df_2002 = pd.read_csv(file_path)\n",
        "\n",
        "\n",
        "df_2002"
      ]
    },
    {
      "cell_type": "code",
      "execution_count": 14,
      "metadata": {
        "colab": {
          "base_uri": "https://localhost:8080/"
        },
        "id": "MZ7WnjRsOpA7",
        "outputId": "d66f1fa9-b18e-4a83-a158-64737b354d82"
      },
      "outputs": [
        {
          "name": "stdout",
          "output_type": "stream",
          "text": [
            "<class 'pandas.core.frame.DataFrame'>\n",
            "RangeIndex: 100 entries, 0 to 99\n",
            "Data columns (total 7 columns):\n",
            " #   Column                                       Non-Null Count  Dtype \n",
            "---  ------                                       --------------  ----- \n",
            " 0   Rank (2002)                                  100 non-null    int64 \n",
            " 1   Company                                      100 non-null    object\n",
            " 2   Country                                      100 non-null    object\n",
            " 3   Arms Revenue (2002)                          100 non-null    int64 \n",
            " 4   Arms Revenue 2002 (Adjusted)                 100 non-null    int64 \n",
            " 5   Total Revenue (2002)                         100 non-null    object\n",
            " 6   Arms Revenue as a % of total revenue (2002)  100 non-null    object\n",
            "dtypes: int64(3), object(4)\n",
            "memory usage: 5.6+ KB\n"
          ]
        }
      ],
      "source": [
        "df_2002.info()"
      ]
    },
    {
      "cell_type": "code",
      "execution_count": 15,
      "metadata": {
        "colab": {
          "base_uri": "https://localhost:8080/",
          "height": 164
        },
        "id": "9GF-Ks44d06R",
        "outputId": "6c46b30a-c1c6-4030-afad-472e599e2876"
      },
      "outputs": [
        {
          "data": {
            "text/html": [
              "<div>\n",
              "<style scoped>\n",
              "    .dataframe tbody tr th:only-of-type {\n",
              "        vertical-align: middle;\n",
              "    }\n",
              "\n",
              "    .dataframe tbody tr th {\n",
              "        vertical-align: top;\n",
              "    }\n",
              "\n",
              "    .dataframe thead th {\n",
              "        text-align: right;\n",
              "    }\n",
              "</style>\n",
              "<table border=\"1\" class=\"dataframe\">\n",
              "  <thead>\n",
              "    <tr style=\"text-align: right;\">\n",
              "      <th></th>\n",
              "      <th>Rank (2002)</th>\n",
              "      <th>Company</th>\n",
              "      <th>Country</th>\n",
              "      <th>Arms Revenue (2002)</th>\n",
              "      <th>Arms Revenue 2002 (Adjusted)</th>\n",
              "      <th>Total Revenue (2002)</th>\n",
              "      <th>Arms Revenue as a % of total revenue (2002)</th>\n",
              "    </tr>\n",
              "  </thead>\n",
              "  <tbody>\n",
              "    <tr>\n",
              "      <th>24</th>\n",
              "      <td>25</td>\n",
              "      <td>DynCorp</td>\n",
              "      <td>United States</td>\n",
              "      <td>1360</td>\n",
              "      <td>2214</td>\n",
              "      <td>. .</td>\n",
              "      <td>. .</td>\n",
              "    </tr>\n",
              "    <tr>\n",
              "      <th>86</th>\n",
              "      <td>87</td>\n",
              "      <td>Raytheon Aerospace Company</td>\n",
              "      <td>United States</td>\n",
              "      <td>370</td>\n",
              "      <td>602</td>\n",
              "      <td>. .</td>\n",
              "      <td>. .</td>\n",
              "    </tr>\n",
              "  </tbody>\n",
              "</table>\n",
              "</div>"
            ],
            "text/plain": [
              "    Rank (2002)                      Company        Country  \\\n",
              "24            25                     DynCorp  United States   \n",
              "86            87  Raytheon Aerospace Company  United States   \n",
              "\n",
              "    Arms Revenue (2002)  Arms Revenue 2002 (Adjusted) Total Revenue (2002)  \\\n",
              "24                 1360                          2214                  . .   \n",
              "86                  370                           602                  . .   \n",
              "\n",
              "   Arms Revenue as a % of total revenue (2002)  \n",
              "24                                         . .  \n",
              "86                                         . .  "
            ]
          },
          "execution_count": 15,
          "metadata": {},
          "output_type": "execute_result"
        }
      ],
      "source": [
        "# As with the previous dataframe, we need to clean up the placeholders \n",
        "df_2002[df_2002['Total Revenue (2002)'] == '. .']"
      ]
    },
    {
      "cell_type": "code",
      "execution_count": 16,
      "metadata": {
        "id": "eKqAM_f8e0nB"
      },
      "outputs": [],
      "source": [
        "# Replace placeholders with NaN\n",
        "df_2002 = df_2002.replace('. .', np.nan)  \n",
        "# Drop rows with NaN values\n",
        "df_2002 = df_2002.dropna()  "
      ]
    },
    {
      "cell_type": "code",
      "execution_count": 17,
      "metadata": {
        "id": "XahEB-GyPKXb"
      },
      "outputs": [],
      "source": [
        "# Convert Total Revenue from object to int64\n",
        "df_2002['Total Revenue (2002)'] = df_2002['Total Revenue (2002)'].astype(np.int64)  \n",
        "# Convert object with '%' to decimal percent\n",
        "df_2002['Arms Revenue as a % of total revenue (2002)'] = df_2002['Arms Revenue as a % of total revenue (2002)'].str.rstrip('%').astype(float) / 100.0\n",
        "\n"
      ]
    },
    {
      "cell_type": "code",
      "execution_count": 18,
      "metadata": {
        "colab": {
          "base_uri": "https://localhost:8080/"
        },
        "id": "uKMLBgt0TXM_",
        "outputId": "77ab3915-798c-4456-cd0b-7dd50c8fd0ae"
      },
      "outputs": [
        {
          "data": {
            "text/plain": [
              "United States     40\n",
              "United Kingdom    11\n",
              "France             8\n",
              "Japan              6\n",
              "Israel             5\n",
              "Germany            5\n",
              "Russia             4\n",
              "India              3\n",
              "Italy              3\n",
              "Trans-European     2\n",
              "South Korea        2\n",
              "Spain              2\n",
              "Sweden             1\n",
              "Singapore          1\n",
              "Switzerland        1\n",
              "Canada             1\n",
              "Norway             1\n",
              "Australia          1\n",
              "South Africa       1\n",
              "Name: Country, dtype: int64"
            ]
          },
          "execution_count": 18,
          "metadata": {},
          "output_type": "execute_result"
        }
      ],
      "source": [
        "# Create a list of the country counts for the top 100 defense companies in 2002\n",
        "\n",
        "companies_count_2002 = df_2002['Country'].value_counts()\n",
        "\n",
        "companies_count_2002 "
      ]
    },
    {
      "cell_type": "code",
      "execution_count": 19,
      "metadata": {},
      "outputs": [
        {
          "data": {
            "text/html": [
              "<div>\n",
              "<style scoped>\n",
              "    .dataframe tbody tr th:only-of-type {\n",
              "        vertical-align: middle;\n",
              "    }\n",
              "\n",
              "    .dataframe tbody tr th {\n",
              "        vertical-align: top;\n",
              "    }\n",
              "\n",
              "    .dataframe thead th {\n",
              "        text-align: right;\n",
              "    }\n",
              "</style>\n",
              "<table border=\"1\" class=\"dataframe\">\n",
              "  <thead>\n",
              "    <tr style=\"text-align: right;\">\n",
              "      <th></th>\n",
              "      <th>country</th>\n",
              "      <th>count</th>\n",
              "    </tr>\n",
              "  </thead>\n",
              "  <tbody>\n",
              "    <tr>\n",
              "      <th>0</th>\n",
              "      <td>United States</td>\n",
              "      <td>40</td>\n",
              "    </tr>\n",
              "    <tr>\n",
              "      <th>1</th>\n",
              "      <td>United Kingdom</td>\n",
              "      <td>11</td>\n",
              "    </tr>\n",
              "    <tr>\n",
              "      <th>2</th>\n",
              "      <td>France</td>\n",
              "      <td>8</td>\n",
              "    </tr>\n",
              "    <tr>\n",
              "      <th>3</th>\n",
              "      <td>Japan</td>\n",
              "      <td>6</td>\n",
              "    </tr>\n",
              "    <tr>\n",
              "      <th>4</th>\n",
              "      <td>Israel</td>\n",
              "      <td>5</td>\n",
              "    </tr>\n",
              "    <tr>\n",
              "      <th>5</th>\n",
              "      <td>Germany</td>\n",
              "      <td>5</td>\n",
              "    </tr>\n",
              "    <tr>\n",
              "      <th>6</th>\n",
              "      <td>Russia</td>\n",
              "      <td>4</td>\n",
              "    </tr>\n",
              "    <tr>\n",
              "      <th>7</th>\n",
              "      <td>India</td>\n",
              "      <td>3</td>\n",
              "    </tr>\n",
              "    <tr>\n",
              "      <th>8</th>\n",
              "      <td>Italy</td>\n",
              "      <td>3</td>\n",
              "    </tr>\n",
              "    <tr>\n",
              "      <th>9</th>\n",
              "      <td>Trans-European</td>\n",
              "      <td>2</td>\n",
              "    </tr>\n",
              "    <tr>\n",
              "      <th>10</th>\n",
              "      <td>South Korea</td>\n",
              "      <td>2</td>\n",
              "    </tr>\n",
              "    <tr>\n",
              "      <th>11</th>\n",
              "      <td>Spain</td>\n",
              "      <td>2</td>\n",
              "    </tr>\n",
              "    <tr>\n",
              "      <th>12</th>\n",
              "      <td>Sweden</td>\n",
              "      <td>1</td>\n",
              "    </tr>\n",
              "    <tr>\n",
              "      <th>13</th>\n",
              "      <td>Singapore</td>\n",
              "      <td>1</td>\n",
              "    </tr>\n",
              "    <tr>\n",
              "      <th>14</th>\n",
              "      <td>Switzerland</td>\n",
              "      <td>1</td>\n",
              "    </tr>\n",
              "    <tr>\n",
              "      <th>15</th>\n",
              "      <td>Canada</td>\n",
              "      <td>1</td>\n",
              "    </tr>\n",
              "    <tr>\n",
              "      <th>16</th>\n",
              "      <td>Norway</td>\n",
              "      <td>1</td>\n",
              "    </tr>\n",
              "    <tr>\n",
              "      <th>17</th>\n",
              "      <td>Australia</td>\n",
              "      <td>1</td>\n",
              "    </tr>\n",
              "    <tr>\n",
              "      <th>18</th>\n",
              "      <td>South Africa</td>\n",
              "      <td>1</td>\n",
              "    </tr>\n",
              "  </tbody>\n",
              "</table>\n",
              "</div>"
            ],
            "text/plain": [
              "           country  count\n",
              "0    United States     40\n",
              "1   United Kingdom     11\n",
              "2           France      8\n",
              "3            Japan      6\n",
              "4           Israel      5\n",
              "5          Germany      5\n",
              "6           Russia      4\n",
              "7            India      3\n",
              "8            Italy      3\n",
              "9   Trans-European      2\n",
              "10     South Korea      2\n",
              "11           Spain      2\n",
              "12          Sweden      1\n",
              "13       Singapore      1\n",
              "14     Switzerland      1\n",
              "15          Canada      1\n",
              "16          Norway      1\n",
              "17       Australia      1\n",
              "18    South Africa      1"
            ]
          },
          "execution_count": 19,
          "metadata": {},
          "output_type": "execute_result"
        }
      ],
      "source": [
        "# Creating a new dataframe of the series above\n",
        "companies_count_2002 = df_2002['Country'].value_counts()\n",
        "\n",
        "companies_count_2002 = companies_count_2002.reset_index()\n",
        "companies_count_2002.columns = ['country', 'count']\n",
        "\n",
        "companies_count_2002"
      ]
    },
    {
      "cell_type": "code",
      "execution_count": null,
      "metadata": {},
      "outputs": [],
      "source": []
    },
    {
      "cell_type": "code",
      "execution_count": 20,
      "metadata": {
        "colab": {
          "base_uri": "https://localhost:8080/",
          "height": 807
        },
        "id": "Y8FWJEZBTZ_Y",
        "outputId": "c04b6b8b-c7ea-40d7-a5f2-d584edb8c609"
      },
      "outputs": [
        {
          "name": "stderr",
          "output_type": "stream",
          "text": [
            "/var/folders/ww/g22rd79j2xgfxy8trypcnk200000gn/T/ipykernel_84848/3751079155.py:5: FutureWarning:\n",
            "\n",
            "\n",
            "\n",
            "Passing `palette` without assigning `hue` is deprecated and will be removed in v0.14.0. Assign the `y` variable to `hue` and set `legend=False` for the same effect.\n",
            "\n",
            "\n"
          ]
        },
        {
          "data": {
            "image/png": "[encoded data removed]",
            "text/plain": [
              "<Figure size 800x400 with 1 Axes>"
            ]
          },
          "metadata": {},
          "output_type": "display_data"
        }
      ],
      "source": [
        "# Creating a barchart of count of arms producing companies per country in 2002\n",
        "\n",
        "plt.figure(figsize=(8, 4))\n",
        "#Using seaborn to create a horizontal barchart\n",
        "sns.barplot(x = 'count', y = 'country', data=companies_count_2002[:10], palette='bright')\n",
        "plt.xlabel('')\n",
        "plt.ylabel('')\n",
        "plt.title('Count of Top Arms-Producing Companies in 2002 by Country')\n",
        "plt.tight_layout()\n",
        "plt.show()"
      ]
    },
    {
      "cell_type": "code",
      "execution_count": 139,
      "metadata": {
        "colab": {
          "base_uri": "https://localhost:8080/",
          "height": 817
        },
        "id": "jU--JnfsLPkI",
        "outputId": "cb34d54c-b828-4888-fd0d-efb49d442f04"
      },
      "outputs": [
        {
          "data": {
            "application/vnd.plotly.v1+json": {
              "config": {
                "plotlyServerURL": "https://plot.ly"
              },
              "data": [
                {
                  "branchvalues": "total",
                  "domain": {
                    "x": [
                      0,
                      1
                    ],
                    "y": [
                      0,
                      1
                    ]
                  },
                  "hovertemplate": "<b>%{label}</b><br>Revenue: $%{value:,.1f}B",
                  "ids": [
                    "Australia/ADI",
                    "United States/ARINC",
                    "Russia/Aerokosmicheskoe Oborudovanie",
                    "United States/Alliant Techsystems",
                    "United Kingdom/Alvis",
                    "United States/Anteon International Corp",
                    "France/Areva",
                    "United Kingdom/BAE Systems",
                    "United Kingdom/Babcock International Group",
                    "United States/Bechtel Corp.",
                    "India/Bharat Electronics",
                    "United States/Boeing",
                    "United States/Booz Allen Hamilton",
                    "United States/CACI International",
                    "Canada/CAE",
                    "France/CEA",
                    "United Kingdom/Cobham",
                    "United States/Computer Sciences Corp.",
                    "United States/Cubic Corp.",
                    "United States/DRS Technologies",
                    "Germany/DaimlerChrysler",
                    "France/Dassault Aviation Groupe",
                    "South Africa/Denel",
                    "Germany/Diehl",
                    "France/Direction des Constructions Navales",
                    "Trans-European/EADS",
                    "Israel/Elbit Systems",
                    "United States/Electronic Data Systems",
                    "Israel/Elisra",
                    "United States/Engineered Support Systems",
                    "Italy/FIAT",
                    "Italy/Fincantieri",
                    "Italy/Finmeccanica",
                    "France/GIAT Industries",
                    "United Kingdom/GKN",
                    "United States/General Dynamics Corp.",
                    "United States/General Electric",
                    "United States/General Motors Company",
                    "United States/Goodrich Corp.",
                    "United States/Halliburton",
                    "United States/Harris Corp.",
                    "India/Hindustan Aeronautics",
                    "United States/Honeywell International",
                    "United States/ITT Industries",
                    "India/Indian Ordnance Factories",
                    "Spain/Indra",
                    "Russia/Irkut",
                    "Japan/Ishikawajima-Harima Heavy Industries",
                    "Israel/Israel Aircraft Industries",
                    "Israel/Israel Military Industries",
                    "Spain/Izar",
                    "United States/Jacobs Engineering Group",
                    "Japan/Kawasaki Heavy Industries",
                    "Russia/KnAAPO",
                    "Norway/Kongsberg Gruppen",
                    "South Korea/Korea Aerospace Industries",
                    "Germany/Krauss-Maffei Wegmann",
                    "United States/L-3 Communications",
                    "United States/Lockheed Martin Corp.",
                    "Trans-European/MBDA",
                    "United States/ManTech International Corp.",
                    "United States/Mitre Corp.",
                    "Japan/Mitsubishi Electric Corp.",
                    "Japan/Mitsubishi Heavy Industries",
                    "Japan/NEC Corp.",
                    "United States/Northrop Grumman Corp.",
                    "United States/Oshkosh Truck Corp.",
                    "United States/Precision Castparts Corp.",
                    "United Kingdom/QinetiQ",
                    "Switzerland/RUAG",
                    "Israel/Rafael",
                    "United States/Raytheon",
                    "Germany/Rheinmetall",
                    "United States/Rockwell Collins",
                    "United Kingdom/Rolls-Royce",
                    "France/SAGEM Groupe",
                    "France/SNECMA Groupe",
                    "Singapore/ST Engineering",
                    "Sweden/Saab",
                    "South Korea/Samsung Techwin",
                    "United States/Science Applications International Corp.",
                    "United Kingdom/Serco Group",
                    "United States/Silicon Graphics",
                    "United Kingdom/Smiths Group",
                    "United States/Stewart & Stevenson",
                    "United States/Textron",
                    "France/Thales",
                    "United States/The Aerospace Corp.",
                    "Germany/ThyssenKrupp",
                    "United States/Titan Corp.",
                    "Japan/Toshiba Corp.",
                    "Russia/UMPO",
                    "United States/URS Corp.",
                    "United Kingdom/Ultra Electronics Group",
                    "United States/United Defense Industries",
                    "United States/United Technologies Corp.",
                    "United Kingdom/VT Group",
                    "United States/Veridian Corp.",
                    "Australia",
                    "Canada",
                    "France",
                    "Germany",
                    "India",
                    "Israel",
                    "Italy",
                    "Japan",
                    "Norway",
                    "Russia",
                    "Singapore",
                    "South Africa",
                    "South Korea",
                    "Spain",
                    "Sweden",
                    "Switzerland",
                    "Trans-European",
                    "United Kingdom",
                    "United States"
                  ],
                  "labels": [
                    "ADI",
                    "ARINC",
                    "Aerokosmicheskoe Oborudovanie",
                    "Alliant Techsystems",
                    "Alvis",
                    "Anteon International Corp",
                    "Areva",
                    "BAE Systems",
                    "Babcock International Group",
                    "Bechtel Corp.",
                    "Bharat Electronics",
                    "Boeing",
                    "Booz Allen Hamilton",
                    "CACI International",
                    "CAE",
                    "CEA",
                    "Cobham",
                    "Computer Sciences Corp.",
                    "Cubic Corp.",
                    "DRS Technologies",
                    "DaimlerChrysler",
                    "Dassault Aviation Groupe",
                    "Denel",
                    "Diehl",
                    "Direction des Constructions Navales",
                    "EADS",
                    "Elbit Systems",
                    "Electronic Data Systems",
                    "Elisra",
                    "Engineered Support Systems",
                    "FIAT",
                    "Fincantieri",
                    "Finmeccanica",
                    "GIAT Industries",
                    "GKN",
                    "General Dynamics Corp.",
                    "General Electric",
                    "General Motors Company",
                    "Goodrich Corp.",
                    "Halliburton",
                    "Harris Corp.",
                    "Hindustan Aeronautics",
                    "Honeywell International",
                    "ITT Industries",
                    "Indian Ordnance Factories",
                    "Indra",
                    "Irkut",
                    "Ishikawajima-Harima Heavy Industries",
                    "Israel Aircraft Industries",
                    "Israel Military Industries",
                    "Izar",
                    "Jacobs Engineering Group",
                    "Kawasaki Heavy Industries",
                    "KnAAPO",
                    "Kongsberg Gruppen",
                    "Korea Aerospace Industries",
                    "Krauss-Maffei Wegmann",
                    "L-3 Communications",
                    "Lockheed Martin Corp.",
                    "MBDA",
                    "ManTech International Corp.",
                    "Mitre Corp.",
                    "Mitsubishi Electric Corp.",
                    "Mitsubishi Heavy Industries",
                    "NEC Corp.",
                    "Northrop Grumman Corp.",
                    "Oshkosh Truck Corp.",
                    "Precision Castparts Corp.",
                    "QinetiQ",
                    "RUAG",
                    "Rafael",
                    "Raytheon",
                    "Rheinmetall",
                    "Rockwell Collins",
                    "Rolls-Royce",
                    "SAGEM Groupe",
                    "SNECMA Groupe",
                    "ST Engineering",
                    "Saab",
                    "Samsung Techwin",
                    "Science Applications International Corp.",
                    "Serco Group",
                    "Silicon Graphics",
                    "Smiths Group",
                    "Stewart & Stevenson",
                    "Textron",
                    "Thales",
                    "The Aerospace Corp.",
                    "ThyssenKrupp",
                    "Titan Corp.",
                    "Toshiba Corp.",
                    "UMPO",
                    "URS Corp.",
                    "Ultra Electronics Group",
                    "United Defense Industries",
                    "United Technologies Corp.",
                    "VT Group",
                    "Veridian Corp.",
                    "Australia",
                    "Canada",
                    "France",
                    "Germany",
                    "India",
                    "Israel",
                    "Italy",
                    "Japan",
                    "Norway",
                    "Russia",
                    "Singapore",
                    "South Africa",
                    "South Korea",
                    "Spain",
                    "Sweden",
                    "Switzerland",
                    "Trans-European",
                    "United Kingdom",
                    "United States"
                  ],
                  "name": "",
                  "parents": [
                    "Australia",
                    "United States",
                    "Russia",
                    "United States",
                    "United Kingdom",
                    "United States",
                    "France",
                    "United Kingdom",
                    "United Kingdom",
                    "United States",
                    "India",
                    "United States",
                    "United States",
                    "United States",
                    "Canada",
                    "France",
                    "United Kingdom",
                    "United States",
                    "United States",
                    "United States",
                    "Germany",
                    "France",
                    "South Africa",
                    "Germany",
                    "France",
                    "Trans-European",
                    "Israel",
                    "United States",
                    "Israel",
                    "United States",
                    "Italy",
                    "Italy",
                    "Italy",
                    "France",
                    "United Kingdom",
                    "United States",
                    "United States",
                    "United States",
                    "United States",
                    "United States",
                    "United States",
                    "India",
                    "United States",
                    "United States",
                    "India",
                    "Spain",
                    "Russia",
                    "Japan",
                    "Israel",
                    "Israel",
                    "Spain",
                    "United States",
                    "Japan",
                    "Russia",
                    "Norway",
                    "South Korea",
                    "Germany",
                    "United States",
                    "United States",
                    "Trans-European",
                    "United States",
                    "United States",
                    "Japan",
                    "Japan",
                    "Japan",
                    "United States",
                    "United States",
                    "United States",
                    "United Kingdom",
                    "Switzerland",
                    "Israel",
                    "United States",
                    "Germany",
                    "United States",
                    "United Kingdom",
                    "France",
                    "France",
                    "Singapore",
                    "Sweden",
                    "South Korea",
                    "United States",
                    "United Kingdom",
                    "United States",
                    "United Kingdom",
                    "United States",
                    "United States",
                    "France",
                    "United States",
                    "Germany",
                    "United States",
                    "Japan",
                    "Russia",
                    "United States",
                    "United Kingdom",
                    "United States",
                    "United States",
                    "United Kingdom",
                    "United States",
                    "",
                    "",
                    "",
                    "",
                    "",
                    "",
                    "",
                    "",
                    "",
                    "",
                    "",
                    "",
                    "",
                    "",
                    "",
                    "",
                    "",
                    "",
                    ""
                  ],
                  "rotation": -27,
                  "textfont": {
                    "size": 18
                  },
                  "type": "sunburst",
                  "values": [
                    0.697,
                    0.602,
                    1.129,
                    2.035,
                    0.45,
                    1.042,
                    0.547,
                    18.627,
                    0.583,
                    0.895,
                    0.887,
                    38.349,
                    1.302,
                    1.107,
                    0.712,
                    1.672,
                    0.715,
                    3.223,
                    0.505,
                    0.993,
                    1.504,
                    1.733,
                    0.545,
                    0.816,
                    2.083,
                    8.783,
                    1.603,
                    0.928,
                    0.653,
                    0.619,
                    1.158,
                    0.74,
                    5.985,
                    1.11,
                    2.383,
                    15.984,
                    3.581,
                    1.465,
                    1.66,
                    1.514,
                    1.563,
                    1.104,
                    6.055,
                    2.458,
                    2.511,
                    0.616,
                    1.153,
                    0.649,
                    2.349,
                    0.653,
                    0.667,
                    0.732,
                    0.893,
                    2.259,
                    0.423,
                    0.946,
                    0.912,
                    4.916,
                    30.715,
                    2.574,
                    0.7,
                    0.716,
                    0.791,
                    2.435,
                    0.416,
                    34.182,
                    0.977,
                    0.667,
                    1.231,
                    0.841,
                    1.342,
                    19.565,
                    2.528,
                    1.823,
                    3.773,
                    0.943,
                    1.763,
                    1.551,
                    1.701,
                    0.651,
                    4.883,
                    0.715,
                    0.586,
                    1.456,
                    0.732,
                    2.263,
                    10.398,
                    0.732,
                    1.536,
                    1.188,
                    0.375,
                    0.753,
                    1.953,
                    0.424,
                    2.816,
                    9.18,
                    0.874,
                    0.814,
                    0.697,
                    0.712,
                    20.249,
                    7.296,
                    4.502,
                    6.6,
                    7.883,
                    5.559,
                    0.423,
                    5.294,
                    1.551,
                    0.545,
                    1.597,
                    1.283,
                    1.701,
                    0.841,
                    11.357,
                    31.231,
                    206.02
                  ]
                }
              ],
              "layout": {
                "annotations": [
                  {
                    "font": {
                      "family": "Times New Roman, serif",
                      "size": 25
                    },
                    "showarrow": false,
                    "text": "TOTAL REVENUE: $315.3B",
                    "x": 0,
                    "y": 0
                  }
                ],
                "height": 1000,
                "legend": {
                  "tracegroupgap": 0
                },
                "margin": {
                  "b": 20,
                  "l": 5,
                  "r": 5,
                  "t": 80
                },
                "template": {
                  "data": {
                    "bar": [
                      {
                        "error_x": {
                          "color": "#2a3f5f"
                        },
                        "error_y": {
                          "color": "#2a3f5f"
                        },
                        "marker": {
                          "line": {
                            "color": "#E5ECF6",
                            "width": 0.5
                          },
                          "pattern": {
                            "fillmode": "overlay",
                            "size": 10,
                            "solidity": 0.2
                          }
                        },
                        "type": "bar"
                      }
                    ],
                    "barpolar": [
                      {
                        "marker": {
                          "line": {
                            "color": "#E5ECF6",
                            "width": 0.5
                          },
                          "pattern": {
                            "fillmode": "overlay",
                            "size": 10,
                            "solidity": 0.2
                          }
                        },
                        "type": "barpolar"
                      }
                    ],
                    "carpet": [
                      {
                        "aaxis": {
                          "endlinecolor": "#2a3f5f",
                          "gridcolor": "white",
                          "linecolor": "white",
                          "minorgridcolor": "white",
                          "startlinecolor": "#2a3f5f"
                        },
                        "baxis": {
                          "endlinecolor": "#2a3f5f",
                          "gridcolor": "white",
                          "linecolor": "white",
                          "minorgridcolor": "white",
                          "startlinecolor": "#2a3f5f"
                        },
                        "type": "carpet"
                      }
                    ],
                    "choropleth": [
                      {
                        "colorbar": {
                          "outlinewidth": 0,
                          "ticks": ""
                        },
                        "type": "choropleth"
                      }
                    ],
                    "contour": [
                      {
                        "colorbar": {
                          "outlinewidth": 0,
                          "ticks": ""
                        },
                        "colorscale": [
                          [
                            0,
                            "#0d0887"
                          ],
                          [
                            0.1111111111111111,
                            "#46039f"
                          ],
                          [
                            0.2222222222222222,
                            "#7201a8"
                          ],
                          [
                            0.3333333333333333,
                            "#9c179e"
                          ],
                          [
                            0.4444444444444444,
                            "#bd3786"
                          ],
                          [
                            0.5555555555555556,
                            "#d8576b"
                          ],
                          [
                            0.6666666666666666,
                            "#ed7953"
                          ],
                          [
                            0.7777777777777778,
                            "#fb9f3a"
                          ],
                          [
                            0.8888888888888888,
                            "#fdca26"
                          ],
                          [
                            1,
                            "#f0f921"
                          ]
                        ],
                        "type": "contour"
                      }
                    ],
                    "contourcarpet": [
                      {
                        "colorbar": {
                          "outlinewidth": 0,
                          "ticks": ""
                        },
                        "type": "contourcarpet"
                      }
                    ],
                    "heatmap": [
                      {
                        "colorbar": {
                          "outlinewidth": 0,
                          "ticks": ""
                        },
                        "colorscale": [
                          [
                            0,
                            "#0d0887"
                          ],
                          [
                            0.1111111111111111,
                            "#46039f"
                          ],
                          [
                            0.2222222222222222,
                            "#7201a8"
                          ],
                          [
                            0.3333333333333333,
                            "#9c179e"
                          ],
                          [
                            0.4444444444444444,
                            "#bd3786"
                          ],
                          [
                            0.5555555555555556,
                            "#d8576b"
                          ],
                          [
                            0.6666666666666666,
                            "#ed7953"
                          ],
                          [
                            0.7777777777777778,
                            "#fb9f3a"
                          ],
                          [
                            0.8888888888888888,
                            "#fdca26"
                          ],
                          [
                            1,
                            "#f0f921"
                          ]
                        ],
                        "type": "heatmap"
                      }
                    ],
                    "heatmapgl": [
                      {
                        "colorbar": {
                          "outlinewidth": 0,
                          "ticks": ""
                        },
                        "colorscale": [
                          [
                            0,
                            "#0d0887"
                          ],
                          [
                            0.1111111111111111,
                            "#46039f"
                          ],
                          [
                            0.2222222222222222,
                            "#7201a8"
                          ],
                          [
                            0.3333333333333333,
                            "#9c179e"
                          ],
                          [
                            0.4444444444444444,
                            "#bd3786"
                          ],
                          [
                            0.5555555555555556,
                            "#d8576b"
                          ],
                          [
                            0.6666666666666666,
                            "#ed7953"
                          ],
                          [
                            0.7777777777777778,
                            "#fb9f3a"
                          ],
                          [
                            0.8888888888888888,
                            "#fdca26"
                          ],
                          [
                            1,
                            "#f0f921"
                          ]
                        ],
                        "type": "heatmapgl"
                      }
                    ],
                    "histogram": [
                      {
                        "marker": {
                          "pattern": {
                            "fillmode": "overlay",
                            "size": 10,
                            "solidity": 0.2
                          }
                        },
                        "type": "histogram"
                      }
                    ],
                    "histogram2d": [
                      {
                        "colorbar": {
                          "outlinewidth": 0,
                          "ticks": ""
                        },
                        "colorscale": [
                          [
                            0,
                            "#0d0887"
                          ],
                          [
                            0.1111111111111111,
                            "#46039f"
                          ],
                          [
                            0.2222222222222222,
                            "#7201a8"
                          ],
                          [
                            0.3333333333333333,
                            "#9c179e"
                          ],
                          [
                            0.4444444444444444,
                            "#bd3786"
                          ],
                          [
                            0.5555555555555556,
                            "#d8576b"
                          ],
                          [
                            0.6666666666666666,
                            "#ed7953"
                          ],
                          [
                            0.7777777777777778,
                            "#fb9f3a"
                          ],
                          [
                            0.8888888888888888,
                            "#fdca26"
                          ],
                          [
                            1,
                            "#f0f921"
                          ]
                        ],
                        "type": "histogram2d"
                      }
                    ],
                    "histogram2dcontour": [
                      {
                        "colorbar": {
                          "outlinewidth": 0,
                          "ticks": ""
                        },
                        "colorscale": [
                          [
                            0,
                            "#0d0887"
                          ],
                          [
                            0.1111111111111111,
                            "#46039f"
                          ],
                          [
                            0.2222222222222222,
                            "#7201a8"
                          ],
                          [
                            0.3333333333333333,
                            "#9c179e"
                          ],
                          [
                            0.4444444444444444,
                            "#bd3786"
                          ],
                          [
                            0.5555555555555556,
                            "#d8576b"
                          ],
                          [
                            0.6666666666666666,
                            "#ed7953"
                          ],
                          [
                            0.7777777777777778,
                            "#fb9f3a"
                          ],
                          [
                            0.8888888888888888,
                            "#fdca26"
                          ],
                          [
                            1,
                            "#f0f921"
                          ]
                        ],
                        "type": "histogram2dcontour"
                      }
                    ],
                    "mesh3d": [
                      {
                        "colorbar": {
                          "outlinewidth": 0,
                          "ticks": ""
                        },
                        "type": "mesh3d"
                      }
                    ],
                    "parcoords": [
                      {
                        "line": {
                          "colorbar": {
                            "outlinewidth": 0,
                            "ticks": ""
                          }
                        },
                        "type": "parcoords"
                      }
                    ],
                    "pie": [
                      {
                        "automargin": true,
                        "type": "pie"
                      }
                    ],
                    "scatter": [
                      {
                        "fillpattern": {
                          "fillmode": "overlay",
                          "size": 10,
                          "solidity": 0.2
                        },
                        "type": "scatter"
                      }
                    ],
                    "scatter3d": [
                      {
                        "line": {
                          "colorbar": {
                            "outlinewidth": 0,
                            "ticks": ""
                          }
                        },
                        "marker": {
                          "colorbar": {
                            "outlinewidth": 0,
                            "ticks": ""
                          }
                        },
                        "type": "scatter3d"
                      }
                    ],
                    "scattercarpet": [
                      {
                        "marker": {
                          "colorbar": {
                            "outlinewidth": 0,
                            "ticks": ""
                          }
                        },
                        "type": "scattercarpet"
                      }
                    ],
                    "scattergeo": [
                      {
                        "marker": {
                          "colorbar": {
                            "outlinewidth": 0,
                            "ticks": ""
                          }
                        },
                        "type": "scattergeo"
                      }
                    ],
                    "scattergl": [
                      {
                        "marker": {
                          "colorbar": {
                            "outlinewidth": 0,
                            "ticks": ""
                          }
                        },
                        "type": "scattergl"
                      }
                    ],
                    "scattermapbox": [
                      {
                        "marker": {
                          "colorbar": {
                            "outlinewidth": 0,
                            "ticks": ""
                          }
                        },
                        "type": "scattermapbox"
                      }
                    ],
                    "scatterpolar": [
                      {
                        "marker": {
                          "colorbar": {
                            "outlinewidth": 0,
                            "ticks": ""
                          }
                        },
                        "type": "scatterpolar"
                      }
                    ],
                    "scatterpolargl": [
                      {
                        "marker": {
                          "colorbar": {
                            "outlinewidth": 0,
                            "ticks": ""
                          }
                        },
                        "type": "scatterpolargl"
                      }
                    ],
                    "scatterternary": [
                      {
                        "marker": {
                          "colorbar": {
                            "outlinewidth": 0,
                            "ticks": ""
                          }
                        },
                        "type": "scatterternary"
                      }
                    ],
                    "surface": [
                      {
                        "colorbar": {
                          "outlinewidth": 0,
                          "ticks": ""
                        },
                        "colorscale": [
                          [
                            0,
                            "#0d0887"
                          ],
                          [
                            0.1111111111111111,
                            "#46039f"
                          ],
                          [
                            0.2222222222222222,
                            "#7201a8"
                          ],
                          [
                            0.3333333333333333,
                            "#9c179e"
                          ],
                          [
                            0.4444444444444444,
                            "#bd3786"
                          ],
                          [
                            0.5555555555555556,
                            "#d8576b"
                          ],
                          [
                            0.6666666666666666,
                            "#ed7953"
                          ],
                          [
                            0.7777777777777778,
                            "#fb9f3a"
                          ],
                          [
                            0.8888888888888888,
                            "#fdca26"
                          ],
                          [
                            1,
                            "#f0f921"
                          ]
                        ],
                        "type": "surface"
                      }
                    ],
                    "table": [
                      {
                        "cells": {
                          "fill": {
                            "color": "#EBF0F8"
                          },
                          "line": {
                            "color": "white"
                          }
                        },
                        "header": {
                          "fill": {
                            "color": "#C8D4E3"
                          },
                          "line": {
                            "color": "white"
                          }
                        },
                        "type": "table"
                      }
                    ]
                  },
                  "layout": {
                    "annotationdefaults": {
                      "arrowcolor": "#2a3f5f",
                      "arrowhead": 0,
                      "arrowwidth": 1
                    },
                    "autotypenumbers": "strict",
                    "coloraxis": {
                      "colorbar": {
                        "outlinewidth": 0,
                        "ticks": ""
                      }
                    },
                    "colorscale": {
                      "diverging": [
                        [
                          0,
                          "#8e0152"
                        ],
                        [
                          0.1,
                          "#c51b7d"
                        ],
                        [
                          0.2,
                          "#de77ae"
                        ],
                        [
                          0.3,
                          "#f1b6da"
                        ],
                        [
                          0.4,
                          "#fde0ef"
                        ],
                        [
                          0.5,
                          "#f7f7f7"
                        ],
                        [
                          0.6,
                          "#e6f5d0"
                        ],
                        [
                          0.7,
                          "#b8e186"
                        ],
                        [
                          0.8,
                          "#7fbc41"
                        ],
                        [
                          0.9,
                          "#4d9221"
                        ],
                        [
                          1,
                          "#276419"
                        ]
                      ],
                      "sequential": [
                        [
                          0,
                          "#0d0887"
                        ],
                        [
                          0.1111111111111111,
                          "#46039f"
                        ],
                        [
                          0.2222222222222222,
                          "#7201a8"
                        ],
                        [
                          0.3333333333333333,
                          "#9c179e"
                        ],
                        [
                          0.4444444444444444,
                          "#bd3786"
                        ],
                        [
                          0.5555555555555556,
                          "#d8576b"
                        ],
                        [
                          0.6666666666666666,
                          "#ed7953"
                        ],
                        [
                          0.7777777777777778,
                          "#fb9f3a"
                        ],
                        [
                          0.8888888888888888,
                          "#fdca26"
                        ],
                        [
                          1,
                          "#f0f921"
                        ]
                      ],
                      "sequentialminus": [
                        [
                          0,
                          "#0d0887"
                        ],
                        [
                          0.1111111111111111,
                          "#46039f"
                        ],
                        [
                          0.2222222222222222,
                          "#7201a8"
                        ],
                        [
                          0.3333333333333333,
                          "#9c179e"
                        ],
                        [
                          0.4444444444444444,
                          "#bd3786"
                        ],
                        [
                          0.5555555555555556,
                          "#d8576b"
                        ],
                        [
                          0.6666666666666666,
                          "#ed7953"
                        ],
                        [
                          0.7777777777777778,
                          "#fb9f3a"
                        ],
                        [
                          0.8888888888888888,
                          "#fdca26"
                        ],
                        [
                          1,
                          "#f0f921"
                        ]
                      ]
                    },
                    "colorway": [
                      "#636efa",
                      "#EF553B",
                      "#00cc96",
                      "#ab63fa",
                      "#FFA15A",
                      "#19d3f3",
                      "#FF6692",
                      "#B6E880",
                      "#FF97FF",
                      "#FECB52"
                    ],
                    "font": {
                      "color": "#2a3f5f"
                    },
                    "geo": {
                      "bgcolor": "white",
                      "lakecolor": "white",
                      "landcolor": "#E5ECF6",
                      "showlakes": true,
                      "showland": true,
                      "subunitcolor": "white"
                    },
                    "hoverlabel": {
                      "align": "left"
                    },
                    "hovermode": "closest",
                    "mapbox": {
                      "style": "light"
                    },
                    "paper_bgcolor": "white",
                    "plot_bgcolor": "#E5ECF6",
                    "polar": {
                      "angularaxis": {
                        "gridcolor": "white",
                        "linecolor": "white",
                        "ticks": ""
                      },
                      "bgcolor": "#E5ECF6",
                      "radialaxis": {
                        "gridcolor": "white",
                        "linecolor": "white",
                        "ticks": ""
                      }
                    },
                    "scene": {
                      "xaxis": {
                        "backgroundcolor": "#E5ECF6",
                        "gridcolor": "white",
                        "gridwidth": 2,
                        "linecolor": "white",
                        "showbackground": true,
                        "ticks": "",
                        "zerolinecolor": "white"
                      },
                      "yaxis": {
                        "backgroundcolor": "#E5ECF6",
                        "gridcolor": "white",
                        "gridwidth": 2,
                        "linecolor": "white",
                        "showbackground": true,
                        "ticks": "",
                        "zerolinecolor": "white"
                      },
                      "zaxis": {
                        "backgroundcolor": "#E5ECF6",
                        "gridcolor": "white",
                        "gridwidth": 2,
                        "linecolor": "white",
                        "showbackground": true,
                        "ticks": "",
                        "zerolinecolor": "white"
                      }
                    },
                    "shapedefaults": {
                      "line": {
                        "color": "#2a3f5f"
                      }
                    },
                    "ternary": {
                      "aaxis": {
                        "gridcolor": "white",
                        "linecolor": "white",
                        "ticks": ""
                      },
                      "baxis": {
                        "gridcolor": "white",
                        "linecolor": "white",
                        "ticks": ""
                      },
                      "bgcolor": "#E5ECF6",
                      "caxis": {
                        "gridcolor": "white",
                        "linecolor": "white",
                        "ticks": ""
                      }
                    },
                    "title": {
                      "x": 0.05
                    },
                    "xaxis": {
                      "automargin": true,
                      "gridcolor": "white",
                      "linecolor": "white",
                      "ticks": "",
                      "title": {
                        "standoff": 15
                      },
                      "zerolinecolor": "white",
                      "zerolinewidth": 2
                    },
                    "yaxis": {
                      "automargin": true,
                      "gridcolor": "white",
                      "linecolor": "white",
                      "ticks": "",
                      "title": {
                        "standoff": 15
                      },
                      "zerolinecolor": "white",
                      "zerolinewidth": 2
                    }
                  }
                },
                "title": {
                  "font": {
                    "family": "Times New Roman, serif",
                    "size": 40
                  },
                  "text": "Arms Revenue of Companies by Country 2002",
                  "x": 0.5
                },
                "width": 1000
              }
            }
          },
          "metadata": {},
          "output_type": "display_data"
        }
      ],
      "source": [
        "# Creating a sunburst chart for the 2002 data, as I did for the 2022 data\n",
        "\n",
        "# Aggregate revenue by country and company\n",
        "fig = px.sunburst(\n",
        "    df_2002,\n",
        "    path=['Country', 'Company'],\n",
        "    values='Arms Revenue 2002 (Adjusted)'\n",
        ")\n",
        "\n",
        "fig.update_layout(\n",
        "    title=dict(\n",
        "        text=\"Arms Revenue of Companies by Country 2002\",\n",
        "        x=0.5,\n",
        "        font=dict(family=\"Times New Roman, serif\",size=40)\n",
        "    ),\n",
        "    width=1000,  # Width of the plot\n",
        "    height=1000,  # Height of the plot\n",
        "    margin=dict(t=80, l=5, r=5, b=20) # Adjust margins for larger plot\n",
        ")\n",
        "\n",
        "fig.update_traces(    \n",
        "    textfont=dict(size=18),\n",
        "    hovertemplate='<b>%{label}</b><br>Revenue: $%{value:,.1f}B',  # Customize hover to show revenue\n",
        "    values=fig.data[0].values / 1000,  # Convert revenue in millions to billions\n",
        "    rotation=-27\n",
        ")\n",
        "\n",
        "# Add the total revenue for the year at the bottom\n",
        "fig.add_annotation(\n",
        "    x=0, y=0,\n",
        "    text=\"TOTAL REVENUE: $315.3B\",\n",
        "    showarrow=False,\n",
        "    font=dict(family=\"Times New Roman, serif\", size=25)\n",
        ")\n",
        "\n",
        "fig.show()"
      ]
    },
    {
      "cell_type": "code",
      "execution_count": 89,
      "metadata": {},
      "outputs": [
        {
          "data": {
            "text/plain": [
              "315.341"
            ]
          },
          "execution_count": 89,
          "metadata": {},
          "output_type": "execute_result"
        }
      ],
      "source": [
        "#Calculate the total revenue for 2002\n",
        "total_revenue_2002 = df_2002['Arms Revenue 2002 (Adjusted)'].sum() / 1000\n",
        "\n",
        "total_revenue_2002"
      ]
    },
    {
      "cell_type": "code",
      "execution_count": 22,
      "metadata": {},
      "outputs": [
        {
          "data": {
            "application/vnd.plotly.v1+json": {
              "config": {
                "plotlyServerURL": "https://plot.ly"
              },
              "data": [
                {
                  "branchvalues": "total",
                  "domain": {
                    "x": [
                      0,
                      1
                    ],
                    "y": [
                      0,
                      1
                    ]
                  },
                  "hovertemplate": "<b>%{label}</b><br>Revenue: %{value:,.2f}",
                  "ids": [
                    "United Kingdom/BAE Systems",
                    "United States/Boeing",
                    "France/CEA",
                    "France/Dassault Aviation Groupe",
                    "France/Direction des Constructions Navales",
                    "Trans-European/EADS",
                    "United Kingdom/GKN",
                    "United States/General Dynamics Corp.",
                    "Japan/Ishikawajima-Harima Heavy Industries",
                    "Japan/Kawasaki Heavy Industries",
                    "United States/Lockheed Martin Corp.",
                    "Trans-European/MBDA",
                    "Japan/Mitsubishi Electric Corp.",
                    "Japan/Mitsubishi Heavy Industries",
                    "Japan/NEC Corp.",
                    "United States/Northrop Grumman Corp.",
                    "United Kingdom/QinetiQ",
                    "United States/Raytheon",
                    "United Kingdom/Rolls-Royce",
                    "France/SNECMA Groupe",
                    "United Kingdom/Smiths Group",
                    "France/Thales",
                    "France",
                    "Japan",
                    "Trans-European",
                    "United Kingdom",
                    "United States"
                  ],
                  "labels": [
                    "BAE Systems",
                    "Boeing",
                    "CEA",
                    "Dassault Aviation Groupe",
                    "Direction des Constructions Navales",
                    "EADS",
                    "GKN",
                    "General Dynamics Corp.",
                    "Ishikawajima-Harima Heavy Industries",
                    "Kawasaki Heavy Industries",
                    "Lockheed Martin Corp.",
                    "MBDA",
                    "Mitsubishi Electric Corp.",
                    "Mitsubishi Heavy Industries",
                    "NEC Corp.",
                    "Northrop Grumman Corp.",
                    "QinetiQ",
                    "Raytheon",
                    "Rolls-Royce",
                    "SNECMA Groupe",
                    "Smiths Group",
                    "Thales",
                    "France",
                    "Japan",
                    "Trans-European",
                    "United Kingdom",
                    "United States"
                  ],
                  "name": "",
                  "parents": [
                    "United Kingdom",
                    "United States",
                    "France",
                    "France",
                    "France",
                    "Trans-European",
                    "United Kingdom",
                    "United States",
                    "Japan",
                    "Japan",
                    "United States",
                    "Trans-European",
                    "Japan",
                    "Japan",
                    "Japan",
                    "United States",
                    "United Kingdom",
                    "United States",
                    "United Kingdom",
                    "France",
                    "United Kingdom",
                    "France",
                    "",
                    "",
                    "",
                    "",
                    ""
                  ],
                  "rotation": -28,
                  "type": "sunburst",
                  "values": [
                    14070,
                    23560,
                    1100,
                    1140,
                    1370,
                    5630,
                    1800,
                    9820,
                    640,
                    880,
                    18870,
                    1650,
                    780,
                    2400,
                    410,
                    21000,
                    930,
                    12020,
                    2850,
                    1160,
                    1100,
                    6840,
                    11610,
                    5110,
                    7280,
                    20750,
                    85270
                  ]
                }
              ],
              "layout": {
                "height": 600,
                "legend": {
                  "tracegroupgap": 0
                },
                "margin": {
                  "b": 20,
                  "l": 5,
                  "r": 5,
                  "t": 50
                },
                "template": {
                  "data": {
                    "bar": [
                      {
                        "error_x": {
                          "color": "#2a3f5f"
                        },
                        "error_y": {
                          "color": "#2a3f5f"
                        },
                        "marker": {
                          "line": {
                            "color": "#E5ECF6",
                            "width": 0.5
                          },
                          "pattern": {
                            "fillmode": "overlay",
                            "size": 10,
                            "solidity": 0.2
                          }
                        },
                        "type": "bar"
                      }
                    ],
                    "barpolar": [
                      {
                        "marker": {
                          "line": {
                            "color": "#E5ECF6",
                            "width": 0.5
                          },
                          "pattern": {
                            "fillmode": "overlay",
                            "size": 10,
                            "solidity": 0.2
                          }
                        },
                        "type": "barpolar"
                      }
                    ],
                    "carpet": [
                      {
                        "aaxis": {
                          "endlinecolor": "#2a3f5f",
                          "gridcolor": "white",
                          "linecolor": "white",
                          "minorgridcolor": "white",
                          "startlinecolor": "#2a3f5f"
                        },
                        "baxis": {
                          "endlinecolor": "#2a3f5f",
                          "gridcolor": "white",
                          "linecolor": "white",
                          "minorgridcolor": "white",
                          "startlinecolor": "#2a3f5f"
                        },
                        "type": "carpet"
                      }
                    ],
                    "choropleth": [
                      {
                        "colorbar": {
                          "outlinewidth": 0,
                          "ticks": ""
                        },
                        "type": "choropleth"
                      }
                    ],
                    "contour": [
                      {
                        "colorbar": {
                          "outlinewidth": 0,
                          "ticks": ""
                        },
                        "colorscale": [
                          [
                            0,
                            "#0d0887"
                          ],
                          [
                            0.1111111111111111,
                            "#46039f"
                          ],
                          [
                            0.2222222222222222,
                            "#7201a8"
                          ],
                          [
                            0.3333333333333333,
                            "#9c179e"
                          ],
                          [
                            0.4444444444444444,
                            "#bd3786"
                          ],
                          [
                            0.5555555555555556,
                            "#d8576b"
                          ],
                          [
                            0.6666666666666666,
                            "#ed7953"
                          ],
                          [
                            0.7777777777777778,
                            "#fb9f3a"
                          ],
                          [
                            0.8888888888888888,
                            "#fdca26"
                          ],
                          [
                            1,
                            "#f0f921"
                          ]
                        ],
                        "type": "contour"
                      }
                    ],
                    "contourcarpet": [
                      {
                        "colorbar": {
                          "outlinewidth": 0,
                          "ticks": ""
                        },
                        "type": "contourcarpet"
                      }
                    ],
                    "heatmap": [
                      {
                        "colorbar": {
                          "outlinewidth": 0,
                          "ticks": ""
                        },
                        "colorscale": [
                          [
                            0,
                            "#0d0887"
                          ],
                          [
                            0.1111111111111111,
                            "#46039f"
                          ],
                          [
                            0.2222222222222222,
                            "#7201a8"
                          ],
                          [
                            0.3333333333333333,
                            "#9c179e"
                          ],
                          [
                            0.4444444444444444,
                            "#bd3786"
                          ],
                          [
                            0.5555555555555556,
                            "#d8576b"
                          ],
                          [
                            0.6666666666666666,
                            "#ed7953"
                          ],
                          [
                            0.7777777777777778,
                            "#fb9f3a"
                          ],
                          [
                            0.8888888888888888,
                            "#fdca26"
                          ],
                          [
                            1,
                            "#f0f921"
                          ]
                        ],
                        "type": "heatmap"
                      }
                    ],
                    "heatmapgl": [
                      {
                        "colorbar": {
                          "outlinewidth": 0,
                          "ticks": ""
                        },
                        "colorscale": [
                          [
                            0,
                            "#0d0887"
                          ],
                          [
                            0.1111111111111111,
                            "#46039f"
                          ],
                          [
                            0.2222222222222222,
                            "#7201a8"
                          ],
                          [
                            0.3333333333333333,
                            "#9c179e"
                          ],
                          [
                            0.4444444444444444,
                            "#bd3786"
                          ],
                          [
                            0.5555555555555556,
                            "#d8576b"
                          ],
                          [
                            0.6666666666666666,
                            "#ed7953"
                          ],
                          [
                            0.7777777777777778,
                            "#fb9f3a"
                          ],
                          [
                            0.8888888888888888,
                            "#fdca26"
                          ],
                          [
                            1,
                            "#f0f921"
                          ]
                        ],
                        "type": "heatmapgl"
                      }
                    ],
                    "histogram": [
                      {
                        "marker": {
                          "pattern": {
                            "fillmode": "overlay",
                            "size": 10,
                            "solidity": 0.2
                          }
                        },
                        "type": "histogram"
                      }
                    ],
                    "histogram2d": [
                      {
                        "colorbar": {
                          "outlinewidth": 0,
                          "ticks": ""
                        },
                        "colorscale": [
                          [
                            0,
                            "#0d0887"
                          ],
                          [
                            0.1111111111111111,
                            "#46039f"
                          ],
                          [
                            0.2222222222222222,
                            "#7201a8"
                          ],
                          [
                            0.3333333333333333,
                            "#9c179e"
                          ],
                          [
                            0.4444444444444444,
                            "#bd3786"
                          ],
                          [
                            0.5555555555555556,
                            "#d8576b"
                          ],
                          [
                            0.6666666666666666,
                            "#ed7953"
                          ],
                          [
                            0.7777777777777778,
                            "#fb9f3a"
                          ],
                          [
                            0.8888888888888888,
                            "#fdca26"
                          ],
                          [
                            1,
                            "#f0f921"
                          ]
                        ],
                        "type": "histogram2d"
                      }
                    ],
                    "histogram2dcontour": [
                      {
                        "colorbar": {
                          "outlinewidth": 0,
                          "ticks": ""
                        },
                        "colorscale": [
                          [
                            0,
                            "#0d0887"
                          ],
                          [
                            0.1111111111111111,
                            "#46039f"
                          ],
                          [
                            0.2222222222222222,
                            "#7201a8"
                          ],
                          [
                            0.3333333333333333,
                            "#9c179e"
                          ],
                          [
                            0.4444444444444444,
                            "#bd3786"
                          ],
                          [
                            0.5555555555555556,
                            "#d8576b"
                          ],
                          [
                            0.6666666666666666,
                            "#ed7953"
                          ],
                          [
                            0.7777777777777778,
                            "#fb9f3a"
                          ],
                          [
                            0.8888888888888888,
                            "#fdca26"
                          ],
                          [
                            1,
                            "#f0f921"
                          ]
                        ],
                        "type": "histogram2dcontour"
                      }
                    ],
                    "mesh3d": [
                      {
                        "colorbar": {
                          "outlinewidth": 0,
                          "ticks": ""
                        },
                        "type": "mesh3d"
                      }
                    ],
                    "parcoords": [
                      {
                        "line": {
                          "colorbar": {
                            "outlinewidth": 0,
                            "ticks": ""
                          }
                        },
                        "type": "parcoords"
                      }
                    ],
                    "pie": [
                      {
                        "automargin": true,
                        "type": "pie"
                      }
                    ],
                    "scatter": [
                      {
                        "fillpattern": {
                          "fillmode": "overlay",
                          "size": 10,
                          "solidity": 0.2
                        },
                        "type": "scatter"
                      }
                    ],
                    "scatter3d": [
                      {
                        "line": {
                          "colorbar": {
                            "outlinewidth": 0,
                            "ticks": ""
                          }
                        },
                        "marker": {
                          "colorbar": {
                            "outlinewidth": 0,
                            "ticks": ""
                          }
                        },
                        "type": "scatter3d"
                      }
                    ],
                    "scattercarpet": [
                      {
                        "marker": {
                          "colorbar": {
                            "outlinewidth": 0,
                            "ticks": ""
                          }
                        },
                        "type": "scattercarpet"
                      }
                    ],
                    "scattergeo": [
                      {
                        "marker": {
                          "colorbar": {
                            "outlinewidth": 0,
                            "ticks": ""
                          }
                        },
                        "type": "scattergeo"
                      }
                    ],
                    "scattergl": [
                      {
                        "marker": {
                          "colorbar": {
                            "outlinewidth": 0,
                            "ticks": ""
                          }
                        },
                        "type": "scattergl"
                      }
                    ],
                    "scattermapbox": [
                      {
                        "marker": {
                          "colorbar": {
                            "outlinewidth": 0,
                            "ticks": ""
                          }
                        },
                        "type": "scattermapbox"
                      }
                    ],
                    "scatterpolar": [
                      {
                        "marker": {
                          "colorbar": {
                            "outlinewidth": 0,
                            "ticks": ""
                          }
                        },
                        "type": "scatterpolar"
                      }
                    ],
                    "scatterpolargl": [
                      {
                        "marker": {
                          "colorbar": {
                            "outlinewidth": 0,
                            "ticks": ""
                          }
                        },
                        "type": "scatterpolargl"
                      }
                    ],
                    "scatterternary": [
                      {
                        "marker": {
                          "colorbar": {
                            "outlinewidth": 0,
                            "ticks": ""
                          }
                        },
                        "type": "scatterternary"
                      }
                    ],
                    "surface": [
                      {
                        "colorbar": {
                          "outlinewidth": 0,
                          "ticks": ""
                        },
                        "colorscale": [
                          [
                            0,
                            "#0d0887"
                          ],
                          [
                            0.1111111111111111,
                            "#46039f"
                          ],
                          [
                            0.2222222222222222,
                            "#7201a8"
                          ],
                          [
                            0.3333333333333333,
                            "#9c179e"
                          ],
                          [
                            0.4444444444444444,
                            "#bd3786"
                          ],
                          [
                            0.5555555555555556,
                            "#d8576b"
                          ],
                          [
                            0.6666666666666666,
                            "#ed7953"
                          ],
                          [
                            0.7777777777777778,
                            "#fb9f3a"
                          ],
                          [
                            0.8888888888888888,
                            "#fdca26"
                          ],
                          [
                            1,
                            "#f0f921"
                          ]
                        ],
                        "type": "surface"
                      }
                    ],
                    "table": [
                      {
                        "cells": {
                          "fill": {
                            "color": "#EBF0F8"
                          },
                          "line": {
                            "color": "white"
                          }
                        },
                        "header": {
                          "fill": {
                            "color": "#C8D4E3"
                          },
                          "line": {
                            "color": "white"
                          }
                        },
                        "type": "table"
                      }
                    ]
                  },
                  "layout": {
                    "annotationdefaults": {
                      "arrowcolor": "#2a3f5f",
                      "arrowhead": 0,
                      "arrowwidth": 1
                    },
                    "autotypenumbers": "strict",
                    "coloraxis": {
                      "colorbar": {
                        "outlinewidth": 0,
                        "ticks": ""
                      }
                    },
                    "colorscale": {
                      "diverging": [
                        [
                          0,
                          "#8e0152"
                        ],
                        [
                          0.1,
                          "#c51b7d"
                        ],
                        [
                          0.2,
                          "#de77ae"
                        ],
                        [
                          0.3,
                          "#f1b6da"
                        ],
                        [
                          0.4,
                          "#fde0ef"
                        ],
                        [
                          0.5,
                          "#f7f7f7"
                        ],
                        [
                          0.6,
                          "#e6f5d0"
                        ],
                        [
                          0.7,
                          "#b8e186"
                        ],
                        [
                          0.8,
                          "#7fbc41"
                        ],
                        [
                          0.9,
                          "#4d9221"
                        ],
                        [
                          1,
                          "#276419"
                        ]
                      ],
                      "sequential": [
                        [
                          0,
                          "#0d0887"
                        ],
                        [
                          0.1111111111111111,
                          "#46039f"
                        ],
                        [
                          0.2222222222222222,
                          "#7201a8"
                        ],
                        [
                          0.3333333333333333,
                          "#9c179e"
                        ],
                        [
                          0.4444444444444444,
                          "#bd3786"
                        ],
                        [
                          0.5555555555555556,
                          "#d8576b"
                        ],
                        [
                          0.6666666666666666,
                          "#ed7953"
                        ],
                        [
                          0.7777777777777778,
                          "#fb9f3a"
                        ],
                        [
                          0.8888888888888888,
                          "#fdca26"
                        ],
                        [
                          1,
                          "#f0f921"
                        ]
                      ],
                      "sequentialminus": [
                        [
                          0,
                          "#0d0887"
                        ],
                        [
                          0.1111111111111111,
                          "#46039f"
                        ],
                        [
                          0.2222222222222222,
                          "#7201a8"
                        ],
                        [
                          0.3333333333333333,
                          "#9c179e"
                        ],
                        [
                          0.4444444444444444,
                          "#bd3786"
                        ],
                        [
                          0.5555555555555556,
                          "#d8576b"
                        ],
                        [
                          0.6666666666666666,
                          "#ed7953"
                        ],
                        [
                          0.7777777777777778,
                          "#fb9f3a"
                        ],
                        [
                          0.8888888888888888,
                          "#fdca26"
                        ],
                        [
                          1,
                          "#f0f921"
                        ]
                      ]
                    },
                    "colorway": [
                      "#636efa",
                      "#EF553B",
                      "#00cc96",
                      "#ab63fa",
                      "#FFA15A",
                      "#19d3f3",
                      "#FF6692",
                      "#B6E880",
                      "#FF97FF",
                      "#FECB52"
                    ],
                    "font": {
                      "color": "#2a3f5f"
                    },
                    "geo": {
                      "bgcolor": "white",
                      "lakecolor": "white",
                      "landcolor": "#E5ECF6",
                      "showlakes": true,
                      "showland": true,
                      "subunitcolor": "white"
                    },
                    "hoverlabel": {
                      "align": "left"
                    },
                    "hovermode": "closest",
                    "mapbox": {
                      "style": "light"
                    },
                    "paper_bgcolor": "white",
                    "plot_bgcolor": "#E5ECF6",
                    "polar": {
                      "angularaxis": {
                        "gridcolor": "white",
                        "linecolor": "white",
                        "ticks": ""
                      },
                      "bgcolor": "#E5ECF6",
                      "radialaxis": {
                        "gridcolor": "white",
                        "linecolor": "white",
                        "ticks": ""
                      }
                    },
                    "scene": {
                      "xaxis": {
                        "backgroundcolor": "#E5ECF6",
                        "gridcolor": "white",
                        "gridwidth": 2,
                        "linecolor": "white",
                        "showbackground": true,
                        "ticks": "",
                        "zerolinecolor": "white"
                      },
                      "yaxis": {
                        "backgroundcolor": "#E5ECF6",
                        "gridcolor": "white",
                        "gridwidth": 2,
                        "linecolor": "white",
                        "showbackground": true,
                        "ticks": "",
                        "zerolinecolor": "white"
                      },
                      "zaxis": {
                        "backgroundcolor": "#E5ECF6",
                        "gridcolor": "white",
                        "gridwidth": 2,
                        "linecolor": "white",
                        "showbackground": true,
                        "ticks": "",
                        "zerolinecolor": "white"
                      }
                    },
                    "shapedefaults": {
                      "line": {
                        "color": "#2a3f5f"
                      }
                    },
                    "ternary": {
                      "aaxis": {
                        "gridcolor": "white",
                        "linecolor": "white",
                        "ticks": ""
                      },
                      "baxis": {
                        "gridcolor": "white",
                        "linecolor": "white",
                        "ticks": ""
                      },
                      "bgcolor": "#E5ECF6",
                      "caxis": {
                        "gridcolor": "white",
                        "linecolor": "white",
                        "ticks": ""
                      }
                    },
                    "title": {
                      "x": 0.05
                    },
                    "xaxis": {
                      "automargin": true,
                      "gridcolor": "white",
                      "linecolor": "white",
                      "ticks": "",
                      "title": {
                        "standoff": 15
                      },
                      "zerolinecolor": "white",
                      "zerolinewidth": 2
                    },
                    "yaxis": {
                      "automargin": true,
                      "gridcolor": "white",
                      "linecolor": "white",
                      "ticks": "",
                      "title": {
                        "standoff": 15
                      },
                      "zerolinecolor": "white",
                      "zerolinewidth": 2
                    }
                  }
                },
                "title": {
                  "font": {
                    "family": "Times New Roman, serif",
                    "size": 28
                  },
                  "text": "Arms Revenue of Companies by Country 2002",
                  "x": 0.5
                },
                "width": 600
              }
            }
          },
          "metadata": {},
          "output_type": "display_data"
        }
      ],
      "source": [
        "# Again, as I did above, create a sunburst chart of only top 10 countries \n",
        "# and their top 5 companies \n",
        "\n",
        "# Get the top 10 countries by total revenue\n",
        "top_countries = df_2002.groupby('Country')['Arms Revenue (2002)'].sum().nlargest(5).index\n",
        "\n",
        "# Filter the dataset to include only the top 10 countries\n",
        "df_top_countries = df_2002[df_2002['Country'].isin(top_countries)]\n",
        "\n",
        "# For each of these top 10 countries, get the top 5 companies by revenue\n",
        "top_companies_per_country = df_top_countries.groupby('Country').apply(\n",
        "    lambda x: x.nlargest(5, 'Arms Revenue (2002)')\n",
        ").reset_index(drop=True)\n",
        "\n",
        "# Aggregate revenue by country and company\n",
        "fig = px.sunburst(\n",
        "    top_companies_per_country,\n",
        "    path=['Country', 'Company'],\n",
        "    values='Arms Revenue (2002)'\n",
        ")\n",
        "\n",
        "fig.update_layout(\n",
        "    title=dict(\n",
        "        text=\"Arms Revenue of Companies by Country 2002\",\n",
        "        x=0.5,\n",
        "        font=dict(family=\"Times New Roman, serif\", size=28)\n",
        "    ),\n",
        "    width=600,  # Set the width of the plot\n",
        "    height=600,  # Set the height of the plot\n",
        "    margin=dict(t=50, l=5, r=5, b=20) # Adjust margins for larger plot\n",
        ")\n",
        "\n",
        "fig.update_traces(\n",
        "#   insidetextorientation='radial',  # Create radial text for legibility  \n",
        "    hovertemplate='<b>%{label}</b><br>Revenue: %{value:,.2f}',  # Customize hover to show revenue    \n",
        "    rotation=-28) # Change rotation for aesthetic purposes\n",
        "\n",
        "\n",
        "fig.show()\n"
      ]
    },
    {
      "cell_type": "code",
      "execution_count": 43,
      "metadata": {},
      "outputs": [
        {
          "data": {
            "application/vnd.plotly.v1+json": {
              "config": {
                "plotlyServerURL": "https://plot.ly"
              },
              "data": [
                {
                  "branchvalues": "total",
                  "domain": {
                    "x": [
                      0,
                      0.49
                    ],
                    "y": [
                      0,
                      1
                    ]
                  },
                  "hovertemplate": "<b>%{label}</b><br>Revenue: $%{value:.1f}B",
                  "ids": [
                    "United Kingdom/BAE Systems",
                    "United States/Boeing",
                    "France/CEA",
                    "France/Dassault Aviation Groupe",
                    "France/Direction des Constructions Navales",
                    "Trans-European/EADS",
                    "United Kingdom/GKN",
                    "United States/General Dynamics Corp.",
                    "Japan/Ishikawajima-Harima Heavy Industries",
                    "Japan/Kawasaki Heavy Industries",
                    "United States/Lockheed Martin Corp.",
                    "Trans-European/MBDA",
                    "Japan/Mitsubishi Electric Corp.",
                    "Japan/Mitsubishi Heavy Industries",
                    "Japan/NEC Corp.",
                    "United States/Northrop Grumman Corp.",
                    "United Kingdom/QinetiQ",
                    "United States/Raytheon",
                    "United Kingdom/Rolls-Royce",
                    "France/SNECMA Groupe",
                    "United Kingdom/Smiths Group",
                    "France/Thales",
                    "France",
                    "Japan",
                    "Trans-European",
                    "United Kingdom",
                    "United States"
                  ],
                  "labels": [
                    "BAE Systems",
                    "Boeing",
                    "CEA",
                    "Dassault Aviation Groupe",
                    "Direction des Constructions Navales",
                    "EADS",
                    "GKN",
                    "General Dynamics Corp.",
                    "Ishikawajima-Harima Heavy Industries",
                    "Kawasaki Heavy Industries",
                    "Lockheed Martin Corp.",
                    "MBDA",
                    "Mitsubishi Electric Corp.",
                    "Mitsubishi Heavy Industries",
                    "NEC Corp.",
                    "Northrop Grumman Corp.",
                    "QinetiQ",
                    "Raytheon",
                    "Rolls-Royce",
                    "SNECMA Groupe",
                    "Smiths Group",
                    "Thales",
                    "France",
                    "Japan",
                    "Trans-European",
                    "United Kingdom",
                    "United States"
                  ],
                  "name": "",
                  "parents": [
                    "United Kingdom",
                    "United States",
                    "France",
                    "France",
                    "France",
                    "Trans-European",
                    "United Kingdom",
                    "United States",
                    "Japan",
                    "Japan",
                    "United States",
                    "Trans-European",
                    "Japan",
                    "Japan",
                    "Japan",
                    "United States",
                    "United Kingdom",
                    "United States",
                    "United Kingdom",
                    "France",
                    "United Kingdom",
                    "France",
                    "",
                    "",
                    "",
                    "",
                    ""
                  ],
                  "rotation": -28,
                  "type": "sunburst",
                  "values": [
                    14.07,
                    23.56,
                    1.1,
                    1.14,
                    1.37,
                    5.63,
                    1.8,
                    9.82,
                    0.64,
                    0.88,
                    18.87,
                    1.65,
                    0.78,
                    2.4,
                    0.41,
                    21,
                    0.93,
                    12.02,
                    2.85,
                    1.16,
                    1.1,
                    6.84,
                    11.61,
                    5.11,
                    7.279999999999999,
                    20.75,
                    85.27
                  ]
                },
                {
                  "branchvalues": "total",
                  "domain": {
                    "x": [
                      0.51,
                      1
                    ],
                    "y": [
                      0,
                      1
                    ]
                  },
                  "hovertemplate": "<b>%{label}</b><br>Revenue: $%{value:.1f}B",
                  "ids": [
                    "China/AVIC",
                    "United Kingdom/Atomic Weapons Establishment",
                    "United Kingdom/BAE Systems",
                    "United Kingdom/Babcock International Group",
                    "United States/Boeing",
                    "China/CASC",
                    "China/CASIC",
                    "France/CEA",
                    "China/CETC",
                    "France/Dassault Aviation Group",
                    "United States/General Dynamics Corp.",
                    "United States/Lockheed Martin Corp.",
                    "China/NORINCO",
                    "France/Naval Group",
                    "United States/Northrop Grumman Corp.",
                    "United States/Raytheon Technologies",
                    "United Kingdom/Rolls-Royce",
                    "Russia/Rostec",
                    "France/Safran",
                    "United Kingdom/Serco Group",
                    "France/Thales",
                    "Russia/United Shipbuilding Corp.",
                    "China",
                    "France",
                    "Russia",
                    "United Kingdom",
                    "United States"
                  ],
                  "labels": [
                    "AVIC",
                    "Atomic Weapons Establishment",
                    "BAE Systems",
                    "Babcock International Group",
                    "Boeing",
                    "CASC",
                    "CASIC",
                    "CEA",
                    "CETC",
                    "Dassault Aviation Group",
                    "General Dynamics Corp.",
                    "Lockheed Martin Corp.",
                    "NORINCO",
                    "Naval Group",
                    "Northrop Grumman Corp.",
                    "Raytheon Technologies",
                    "Rolls-Royce",
                    "Rostec",
                    "Safran",
                    "Serco Group",
                    "Thales",
                    "United Shipbuilding Corp.",
                    "China",
                    "France",
                    "Russia",
                    "United Kingdom",
                    "United States"
                  ],
                  "name": "",
                  "parents": [
                    "China",
                    "United Kingdom",
                    "United Kingdom",
                    "United Kingdom",
                    "United States",
                    "China",
                    "China",
                    "France",
                    "China",
                    "France",
                    "United States",
                    "United States",
                    "China",
                    "France",
                    "United States",
                    "United States",
                    "United Kingdom",
                    "Russia",
                    "France",
                    "United Kingdom",
                    "France",
                    "Russia",
                    "",
                    "",
                    "",
                    "",
                    ""
                  ],
                  "rotation": -4,
                  "type": "sunburst",
                  "values": [
                    20.62,
                    1.78,
                    26.9,
                    3.68,
                    29.3,
                    19.56,
                    11.77,
                    2.79,
                    15.08,
                    5.07,
                    28.32,
                    59.39,
                    22.06,
                    4.53,
                    32.3,
                    39.57,
                    4.93,
                    16.81,
                    4.2,
                    1.85,
                    9.42,
                    3.95,
                    89.09,
                    26.01,
                    20.759999999999998,
                    39.14,
                    188.88
                  ]
                }
              ],
              "layout": {
                "annotations": [
                  {
                    "font": {
                      "family": "Times New Roman, serif",
                      "size": 28
                    },
                    "showarrow": false,
                    "text": "2002",
                    "x": 0.25,
                    "xanchor": "center",
                    "xref": "paper",
                    "y": 0.98,
                    "yanchor": "bottom",
                    "yref": "paper"
                  },
                  {
                    "font": {
                      "family": "Times New Roman, serif",
                      "size": 28
                    },
                    "showarrow": false,
                    "text": "2022",
                    "x": 0.75,
                    "xanchor": "center",
                    "xref": "paper",
                    "y": 0.98,
                    "yanchor": "bottom",
                    "yref": "paper"
                  }
                ],
                "height": 600,
                "margin": {
                  "b": 20,
                  "l": 20,
                  "r": 20,
                  "t": 70
                },
                "template": {
                  "data": {
                    "bar": [
                      {
                        "error_x": {
                          "color": "#2a3f5f"
                        },
                        "error_y": {
                          "color": "#2a3f5f"
                        },
                        "marker": {
                          "line": {
                            "color": "#E5ECF6",
                            "width": 0.5
                          },
                          "pattern": {
                            "fillmode": "overlay",
                            "size": 10,
                            "solidity": 0.2
                          }
                        },
                        "type": "bar"
                      }
                    ],
                    "barpolar": [
                      {
                        "marker": {
                          "line": {
                            "color": "#E5ECF6",
                            "width": 0.5
                          },
                          "pattern": {
                            "fillmode": "overlay",
                            "size": 10,
                            "solidity": 0.2
                          }
                        },
                        "type": "barpolar"
                      }
                    ],
                    "carpet": [
                      {
                        "aaxis": {
                          "endlinecolor": "#2a3f5f",
                          "gridcolor": "white",
                          "linecolor": "white",
                          "minorgridcolor": "white",
                          "startlinecolor": "#2a3f5f"
                        },
                        "baxis": {
                          "endlinecolor": "#2a3f5f",
                          "gridcolor": "white",
                          "linecolor": "white",
                          "minorgridcolor": "white",
                          "startlinecolor": "#2a3f5f"
                        },
                        "type": "carpet"
                      }
                    ],
                    "choropleth": [
                      {
                        "colorbar": {
                          "outlinewidth": 0,
                          "ticks": ""
                        },
                        "type": "choropleth"
                      }
                    ],
                    "contour": [
                      {
                        "colorbar": {
                          "outlinewidth": 0,
                          "ticks": ""
                        },
                        "colorscale": [
                          [
                            0,
                            "#0d0887"
                          ],
                          [
                            0.1111111111111111,
                            "#46039f"
                          ],
                          [
                            0.2222222222222222,
                            "#7201a8"
                          ],
                          [
                            0.3333333333333333,
                            "#9c179e"
                          ],
                          [
                            0.4444444444444444,
                            "#bd3786"
                          ],
                          [
                            0.5555555555555556,
                            "#d8576b"
                          ],
                          [
                            0.6666666666666666,
                            "#ed7953"
                          ],
                          [
                            0.7777777777777778,
                            "#fb9f3a"
                          ],
                          [
                            0.8888888888888888,
                            "#fdca26"
                          ],
                          [
                            1,
                            "#f0f921"
                          ]
                        ],
                        "type": "contour"
                      }
                    ],
                    "contourcarpet": [
                      {
                        "colorbar": {
                          "outlinewidth": 0,
                          "ticks": ""
                        },
                        "type": "contourcarpet"
                      }
                    ],
                    "heatmap": [
                      {
                        "colorbar": {
                          "outlinewidth": 0,
                          "ticks": ""
                        },
                        "colorscale": [
                          [
                            0,
                            "#0d0887"
                          ],
                          [
                            0.1111111111111111,
                            "#46039f"
                          ],
                          [
                            0.2222222222222222,
                            "#7201a8"
                          ],
                          [
                            0.3333333333333333,
                            "#9c179e"
                          ],
                          [
                            0.4444444444444444,
                            "#bd3786"
                          ],
                          [
                            0.5555555555555556,
                            "#d8576b"
                          ],
                          [
                            0.6666666666666666,
                            "#ed7953"
                          ],
                          [
                            0.7777777777777778,
                            "#fb9f3a"
                          ],
                          [
                            0.8888888888888888,
                            "#fdca26"
                          ],
                          [
                            1,
                            "#f0f921"
                          ]
                        ],
                        "type": "heatmap"
                      }
                    ],
                    "heatmapgl": [
                      {
                        "colorbar": {
                          "outlinewidth": 0,
                          "ticks": ""
                        },
                        "colorscale": [
                          [
                            0,
                            "#0d0887"
                          ],
                          [
                            0.1111111111111111,
                            "#46039f"
                          ],
                          [
                            0.2222222222222222,
                            "#7201a8"
                          ],
                          [
                            0.3333333333333333,
                            "#9c179e"
                          ],
                          [
                            0.4444444444444444,
                            "#bd3786"
                          ],
                          [
                            0.5555555555555556,
                            "#d8576b"
                          ],
                          [
                            0.6666666666666666,
                            "#ed7953"
                          ],
                          [
                            0.7777777777777778,
                            "#fb9f3a"
                          ],
                          [
                            0.8888888888888888,
                            "#fdca26"
                          ],
                          [
                            1,
                            "#f0f921"
                          ]
                        ],
                        "type": "heatmapgl"
                      }
                    ],
                    "histogram": [
                      {
                        "marker": {
                          "pattern": {
                            "fillmode": "overlay",
                            "size": 10,
                            "solidity": 0.2
                          }
                        },
                        "type": "histogram"
                      }
                    ],
                    "histogram2d": [
                      {
                        "colorbar": {
                          "outlinewidth": 0,
                          "ticks": ""
                        },
                        "colorscale": [
                          [
                            0,
                            "#0d0887"
                          ],
                          [
                            0.1111111111111111,
                            "#46039f"
                          ],
                          [
                            0.2222222222222222,
                            "#7201a8"
                          ],
                          [
                            0.3333333333333333,
                            "#9c179e"
                          ],
                          [
                            0.4444444444444444,
                            "#bd3786"
                          ],
                          [
                            0.5555555555555556,
                            "#d8576b"
                          ],
                          [
                            0.6666666666666666,
                            "#ed7953"
                          ],
                          [
                            0.7777777777777778,
                            "#fb9f3a"
                          ],
                          [
                            0.8888888888888888,
                            "#fdca26"
                          ],
                          [
                            1,
                            "#f0f921"
                          ]
                        ],
                        "type": "histogram2d"
                      }
                    ],
                    "histogram2dcontour": [
                      {
                        "colorbar": {
                          "outlinewidth": 0,
                          "ticks": ""
                        },
                        "colorscale": [
                          [
                            0,
                            "#0d0887"
                          ],
                          [
                            0.1111111111111111,
                            "#46039f"
                          ],
                          [
                            0.2222222222222222,
                            "#7201a8"
                          ],
                          [
                            0.3333333333333333,
                            "#9c179e"
                          ],
                          [
                            0.4444444444444444,
                            "#bd3786"
                          ],
                          [
                            0.5555555555555556,
                            "#d8576b"
                          ],
                          [
                            0.6666666666666666,
                            "#ed7953"
                          ],
                          [
                            0.7777777777777778,
                            "#fb9f3a"
                          ],
                          [
                            0.8888888888888888,
                            "#fdca26"
                          ],
                          [
                            1,
                            "#f0f921"
                          ]
                        ],
                        "type": "histogram2dcontour"
                      }
                    ],
                    "mesh3d": [
                      {
                        "colorbar": {
                          "outlinewidth": 0,
                          "ticks": ""
                        },
                        "type": "mesh3d"
                      }
                    ],
                    "parcoords": [
                      {
                        "line": {
                          "colorbar": {
                            "outlinewidth": 0,
                            "ticks": ""
                          }
                        },
                        "type": "parcoords"
                      }
                    ],
                    "pie": [
                      {
                        "automargin": true,
                        "type": "pie"
                      }
                    ],
                    "scatter": [
                      {
                        "fillpattern": {
                          "fillmode": "overlay",
                          "size": 10,
                          "solidity": 0.2
                        },
                        "type": "scatter"
                      }
                    ],
                    "scatter3d": [
                      {
                        "line": {
                          "colorbar": {
                            "outlinewidth": 0,
                            "ticks": ""
                          }
                        },
                        "marker": {
                          "colorbar": {
                            "outlinewidth": 0,
                            "ticks": ""
                          }
                        },
                        "type": "scatter3d"
                      }
                    ],
                    "scattercarpet": [
                      {
                        "marker": {
                          "colorbar": {
                            "outlinewidth": 0,
                            "ticks": ""
                          }
                        },
                        "type": "scattercarpet"
                      }
                    ],
                    "scattergeo": [
                      {
                        "marker": {
                          "colorbar": {
                            "outlinewidth": 0,
                            "ticks": ""
                          }
                        },
                        "type": "scattergeo"
                      }
                    ],
                    "scattergl": [
                      {
                        "marker": {
                          "colorbar": {
                            "outlinewidth": 0,
                            "ticks": ""
                          }
                        },
                        "type": "scattergl"
                      }
                    ],
                    "scattermapbox": [
                      {
                        "marker": {
                          "colorbar": {
                            "outlinewidth": 0,
                            "ticks": ""
                          }
                        },
                        "type": "scattermapbox"
                      }
                    ],
                    "scatterpolar": [
                      {
                        "marker": {
                          "colorbar": {
                            "outlinewidth": 0,
                            "ticks": ""
                          }
                        },
                        "type": "scatterpolar"
                      }
                    ],
                    "scatterpolargl": [
                      {
                        "marker": {
                          "colorbar": {
                            "outlinewidth": 0,
                            "ticks": ""
                          }
                        },
                        "type": "scatterpolargl"
                      }
                    ],
                    "scatterternary": [
                      {
                        "marker": {
                          "colorbar": {
                            "outlinewidth": 0,
                            "ticks": ""
                          }
                        },
                        "type": "scatterternary"
                      }
                    ],
                    "surface": [
                      {
                        "colorbar": {
                          "outlinewidth": 0,
                          "ticks": ""
                        },
                        "colorscale": [
                          [
                            0,
                            "#0d0887"
                          ],
                          [
                            0.1111111111111111,
                            "#46039f"
                          ],
                          [
                            0.2222222222222222,
                            "#7201a8"
                          ],
                          [
                            0.3333333333333333,
                            "#9c179e"
                          ],
                          [
                            0.4444444444444444,
                            "#bd3786"
                          ],
                          [
                            0.5555555555555556,
                            "#d8576b"
                          ],
                          [
                            0.6666666666666666,
                            "#ed7953"
                          ],
                          [
                            0.7777777777777778,
                            "#fb9f3a"
                          ],
                          [
                            0.8888888888888888,
                            "#fdca26"
                          ],
                          [
                            1,
                            "#f0f921"
                          ]
                        ],
                        "type": "surface"
                      }
                    ],
                    "table": [
                      {
                        "cells": {
                          "fill": {
                            "color": "#EBF0F8"
                          },
                          "line": {
                            "color": "white"
                          }
                        },
                        "header": {
                          "fill": {
                            "color": "#C8D4E3"
                          },
                          "line": {
                            "color": "white"
                          }
                        },
                        "type": "table"
                      }
                    ]
                  },
                  "layout": {
                    "annotationdefaults": {
                      "arrowcolor": "#2a3f5f",
                      "arrowhead": 0,
                      "arrowwidth": 1
                    },
                    "autotypenumbers": "strict",
                    "coloraxis": {
                      "colorbar": {
                        "outlinewidth": 0,
                        "ticks": ""
                      }
                    },
                    "colorscale": {
                      "diverging": [
                        [
                          0,
                          "#8e0152"
                        ],
                        [
                          0.1,
                          "#c51b7d"
                        ],
                        [
                          0.2,
                          "#de77ae"
                        ],
                        [
                          0.3,
                          "#f1b6da"
                        ],
                        [
                          0.4,
                          "#fde0ef"
                        ],
                        [
                          0.5,
                          "#f7f7f7"
                        ],
                        [
                          0.6,
                          "#e6f5d0"
                        ],
                        [
                          0.7,
                          "#b8e186"
                        ],
                        [
                          0.8,
                          "#7fbc41"
                        ],
                        [
                          0.9,
                          "#4d9221"
                        ],
                        [
                          1,
                          "#276419"
                        ]
                      ],
                      "sequential": [
                        [
                          0,
                          "#0d0887"
                        ],
                        [
                          0.1111111111111111,
                          "#46039f"
                        ],
                        [
                          0.2222222222222222,
                          "#7201a8"
                        ],
                        [
                          0.3333333333333333,
                          "#9c179e"
                        ],
                        [
                          0.4444444444444444,
                          "#bd3786"
                        ],
                        [
                          0.5555555555555556,
                          "#d8576b"
                        ],
                        [
                          0.6666666666666666,
                          "#ed7953"
                        ],
                        [
                          0.7777777777777778,
                          "#fb9f3a"
                        ],
                        [
                          0.8888888888888888,
                          "#fdca26"
                        ],
                        [
                          1,
                          "#f0f921"
                        ]
                      ],
                      "sequentialminus": [
                        [
                          0,
                          "#0d0887"
                        ],
                        [
                          0.1111111111111111,
                          "#46039f"
                        ],
                        [
                          0.2222222222222222,
                          "#7201a8"
                        ],
                        [
                          0.3333333333333333,
                          "#9c179e"
                        ],
                        [
                          0.4444444444444444,
                          "#bd3786"
                        ],
                        [
                          0.5555555555555556,
                          "#d8576b"
                        ],
                        [
                          0.6666666666666666,
                          "#ed7953"
                        ],
                        [
                          0.7777777777777778,
                          "#fb9f3a"
                        ],
                        [
                          0.8888888888888888,
                          "#fdca26"
                        ],
                        [
                          1,
                          "#f0f921"
                        ]
                      ]
                    },
                    "colorway": [
                      "#636efa",
                      "#EF553B",
                      "#00cc96",
                      "#ab63fa",
                      "#FFA15A",
                      "#19d3f3",
                      "#FF6692",
                      "#B6E880",
                      "#FF97FF",
                      "#FECB52"
                    ],
                    "font": {
                      "color": "#2a3f5f"
                    },
                    "geo": {
                      "bgcolor": "white",
                      "lakecolor": "white",
                      "landcolor": "#E5ECF6",
                      "showlakes": true,
                      "showland": true,
                      "subunitcolor": "white"
                    },
                    "hoverlabel": {
                      "align": "left"
                    },
                    "hovermode": "closest",
                    "mapbox": {
                      "style": "light"
                    },
                    "paper_bgcolor": "white",
                    "plot_bgcolor": "#E5ECF6",
                    "polar": {
                      "angularaxis": {
                        "gridcolor": "white",
                        "linecolor": "white",
                        "ticks": ""
                      },
                      "bgcolor": "#E5ECF6",
                      "radialaxis": {
                        "gridcolor": "white",
                        "linecolor": "white",
                        "ticks": ""
                      }
                    },
                    "scene": {
                      "xaxis": {
                        "backgroundcolor": "#E5ECF6",
                        "gridcolor": "white",
                        "gridwidth": 2,
                        "linecolor": "white",
                        "showbackground": true,
                        "ticks": "",
                        "zerolinecolor": "white"
                      },
                      "yaxis": {
                        "backgroundcolor": "#E5ECF6",
                        "gridcolor": "white",
                        "gridwidth": 2,
                        "linecolor": "white",
                        "showbackground": true,
                        "ticks": "",
                        "zerolinecolor": "white"
                      },
                      "zaxis": {
                        "backgroundcolor": "#E5ECF6",
                        "gridcolor": "white",
                        "gridwidth": 2,
                        "linecolor": "white",
                        "showbackground": true,
                        "ticks": "",
                        "zerolinecolor": "white"
                      }
                    },
                    "shapedefaults": {
                      "line": {
                        "color": "#2a3f5f"
                      }
                    },
                    "ternary": {
                      "aaxis": {
                        "gridcolor": "white",
                        "linecolor": "white",
                        "ticks": ""
                      },
                      "baxis": {
                        "gridcolor": "white",
                        "linecolor": "white",
                        "ticks": ""
                      },
                      "bgcolor": "#E5ECF6",
                      "caxis": {
                        "gridcolor": "white",
                        "linecolor": "white",
                        "ticks": ""
                      }
                    },
                    "title": {
                      "x": 0.05
                    },
                    "xaxis": {
                      "automargin": true,
                      "gridcolor": "white",
                      "linecolor": "white",
                      "ticks": "",
                      "title": {
                        "standoff": 15
                      },
                      "zerolinecolor": "white",
                      "zerolinewidth": 2
                    },
                    "yaxis": {
                      "automargin": true,
                      "gridcolor": "white",
                      "linecolor": "white",
                      "ticks": "",
                      "title": {
                        "standoff": 15
                      },
                      "zerolinecolor": "white",
                      "zerolinewidth": 2
                    }
                  }
                },
                "title": {
                  "font": {
                    "family": "Times New Roman, serif",
                    "size": 40
                  },
                  "text": "Arms Revenue of Companies by Country: 2002 vs 2022",
                  "x": 0.5
                },
                "width": 1000
              }
            }
          },
          "metadata": {},
          "output_type": "display_data"
        }
      ],
      "source": [
        "import plotly.express as px\n",
        "from plotly.subplots import make_subplots\n",
        "import plotly.graph_objects as go\n",
        "\n",
        "# I wanted to put both sunburst charts on the same plot, to better show the difference. \n",
        "# I may have gotten a little OCD on the formatting of the graph... but I like the way it turned out\n",
        "\n",
        "# Define the first sunburst chart for 2002\n",
        "top_countries_2002 = df_2002.groupby('Country')['Arms Revenue (2002)'].sum().nlargest(5).index\n",
        "df_top_countries_2002 = df_2002[df_2002['Country'].isin(top_countries_2002)]\n",
        "top_companies_per_country_2002 = df_top_countries_2002.groupby('Country').apply(\n",
        "    lambda x: x.nlargest(5, 'Arms Revenue (2002)')\n",
        ").reset_index(drop=True)\n",
        "\n",
        "# Assign creates a temp column to format from millions to billions.\n",
        "fig1 = px.sunburst(\n",
        "    top_companies_per_country_2002.assign(**{'Arms Revenue (2002)': top_companies_per_country_2002['Arms Revenue (2002)'] / 1000}),\n",
        "    path=['Country', 'Company'],\n",
        "    values='Arms Revenue (2002)'\n",
        ")\n",
        "fig1.update_layout(\n",
        "    title_text='Arms Revenue of Companies by Country in 2002',  \n",
        "    title_x=0.5,  \n",
        "    title_font_size=20,  \n",
        "    margin=dict(t=30, l=10, r=10, b=10)\n",
        ")\n",
        "fig1.update_traces(\n",
        "    hovertemplate='<b>%{label}</b><br>Revenue: $%{value:.1f}B',    \n",
        "    rotation=-28\n",
        ")\n",
        "\n",
        "# Define the second sunburst chart for 2022\n",
        "top_countries_2022 = df_2022.groupby('Country')['Arms Revenue (2022)'].sum().nlargest(5).index\n",
        "df_top_countries_2022 = df_2022[df_2022['Country'].isin(top_countries_2022)]\n",
        "top_companies_per_country_2022 = df_top_countries_2022.groupby('Country').apply(\n",
        "    lambda x: x.nlargest(5, 'Arms Revenue (2022)')\n",
        ").reset_index(drop=True)\n",
        "\n",
        "# Assign creates a temp column to format from millions to billions.\n",
        "fig2 = px.sunburst(\n",
        "    top_companies_per_country_2022.assign(**{'Arms Revenue (2022)': top_companies_per_country_2022['Arms Revenue (2022)'] / 1000}),\n",
        "    path=['Country', 'Company'],\n",
        "    values='Arms Revenue (2022)'\n",
        ")\n",
        "fig2.update_layout(\n",
        "    title_text='Arms Revenue of Companies by Country in 2022',  \n",
        "    title_x=0.5,  \n",
        "    title_font_size=20, \n",
        "    margin=dict(t=30, l=10, r=10, b=10)\n",
        ")\n",
        "fig2.update_traces(\n",
        "    hovertemplate='<b>%{label}</b><br>Revenue: $%{value:.1f}B',  \n",
        "    rotation=-4 \n",
        ")\n",
        "\n",
        "# Create subplots\n",
        "fig = make_subplots(\n",
        "    rows=1, cols=2,\n",
        "    specs=[[{\"type\": \"sunburst\"}, {\"type\": \"sunburst\"}]],\n",
        "    subplot_titles=(\"2002\", \"2022\"),\n",
        "    horizontal_spacing=0.02  # Horizontal spacing between the plots\n",
        ")\n",
        "\n",
        "# Add traces\n",
        "fig.add_trace(fig1.data[0], row=1, col=1)\n",
        "fig.add_trace(fig2.data[0], row=1, col=2)\n",
        "\n",
        "fig.update_layout(\n",
        "    title=dict(\n",
        "        text=\"Arms Revenue of Companies by Country: 2002 vs 2022\",\n",
        "        x=0.5,\n",
        "        font=dict(\n",
        "            family=\"Times New Roman, serif\",  # Change font\n",
        "            size=40\n",
        "        )\n",
        "    ),\n",
        "    width=1000,  # Overall width of the plot\n",
        "    height=600,  # Overall height of the plot\n",
        "    margin=dict(t=70, l=20, r=20, b=20),  # Margins of plot\n",
        "    annotations=[\n",
        "        dict(\n",
        "            text=\"2002\",\n",
        "            x=0.25,  # X position for the first subplot title\n",
        "            y=0.98,  # Y position \n",
        "            font=dict(\n",
        "                family=\"Times New Roman, serif\",  # Change font\n",
        "                size=28\n",
        "            ),\n",
        "            showarrow=False\n",
        "        ),\n",
        "        dict(\n",
        "            text=\"2022\",\n",
        "            x=0.75,  # X position for the second subplot title\n",
        "            y=0.98,  # Y position\n",
        "            font=dict(\n",
        "                family=\"Times New Roman, serif\",  # Change font\n",
        "                size=28\n",
        "            ),\n",
        "            showarrow=False\n",
        "        )\n",
        "    ]\n",
        ")\n",
        "\n",
        "fig.show()\n"
      ]
    },
    {
      "cell_type": "code",
      "execution_count": 34,
      "metadata": {},
      "outputs": [
        {
          "name": "stderr",
          "output_type": "stream",
          "text": [
            "/var/folders/ww/g22rd79j2xgfxy8trypcnk200000gn/T/ipykernel_84848/2953775850.py:9: FutureWarning:\n",
            "\n",
            "\n",
            "\n",
            "Passing `palette` without assigning `hue` is deprecated and will be removed in v0.14.0. Assign the `y` variable to `hue` and set `legend=False` for the same effect.\n",
            "\n",
            "\n",
            "/var/folders/ww/g22rd79j2xgfxy8trypcnk200000gn/T/ipykernel_84848/2953775850.py:15: FutureWarning:\n",
            "\n",
            "\n",
            "\n",
            "Passing `palette` without assigning `hue` is deprecated and will be removed in v0.14.0. Assign the `y` variable to `hue` and set `legend=False` for the same effect.\n",
            "\n",
            "\n"
          ]
        },
        {
          "data": {
            "image/png": "[encoded data removed]",
            "text/plain": [
              "<Figure size 800x500 with 2 Axes>"
            ]
          },
          "metadata": {},
          "output_type": "display_data"
        }
      ],
      "source": [
        "# Define the font properties for the titles\n",
        "title_font = {'family': 'serif',  \n",
        "              'size': 16}   \n",
        "\n",
        "# Create a figure with two subplots stacked vertically\n",
        "fig, (ax1, ax2) = plt.subplots(2, 1, figsize=(8, 5))\n",
        "\n",
        "# First bar chart: Count of arms producing companies per country in 2002\n",
        "sns.barplot(ax=ax1, x='count', y='country', data=companies_count_2002[:10], palette='bright')\n",
        "ax1.set_xlabel('')\n",
        "ax1.set_ylabel('')\n",
        "ax1.set_title('Count of Top Arms-Producing Companies by Country in 2002', fontdict=title_font)\n",
        "\n",
        "# Second bar chart: Count of arms producing companies per country in 2022\n",
        "sns.barplot(ax=ax2, x='count', y='country', data=companies_count_2022[:10], palette='bright')\n",
        "ax2.set_xlabel('')\n",
        "ax2.set_ylabel('')\n",
        "ax2.set_title('Count of Top Arms-Producing Companies by Country in 2022', fontdict=title_font)\n",
        "\n",
        "# Adjust layout to prevent overlap\n",
        "plt.tight_layout()\n",
        "\n",
        "# Display the plot\n",
        "plt.show()"
      ]
    },
    {
      "cell_type": "code",
      "execution_count": 25,
      "metadata": {
        "colab": {
          "base_uri": "https://localhost:8080/",
          "height": 580
        },
        "id": "lVg-p0NkrDHU",
        "outputId": "ffa48963-2a17-494e-9222-05b280f93793"
      },
      "outputs": [
        {
          "data": {
            "text/html": [
              "<div>\n",
              "<style scoped>\n",
              "    .dataframe tbody tr th:only-of-type {\n",
              "        vertical-align: middle;\n",
              "    }\n",
              "\n",
              "    .dataframe tbody tr th {\n",
              "        vertical-align: top;\n",
              "    }\n",
              "\n",
              "    .dataframe thead th {\n",
              "        text-align: right;\n",
              "    }\n",
              "</style>\n",
              "<table border=\"1\" class=\"dataframe\">\n",
              "  <thead>\n",
              "    <tr style=\"text-align: right;\">\n",
              "      <th></th>\n",
              "      <th>Rank (2022)</th>\n",
              "      <th>Rank (2021)</th>\n",
              "      <th>Company</th>\n",
              "      <th>Country</th>\n",
              "      <th>Arms Revenue (2022)</th>\n",
              "      <th>Arms Revenue (2021)</th>\n",
              "      <th>Total Revenue (2022)</th>\n",
              "      <th>Arms Revenue as a % of total revenue (2022)</th>\n",
              "      <th>Arms Revenue Adjusted (2021)</th>\n",
              "      <th>revenue_change</th>\n",
              "    </tr>\n",
              "  </thead>\n",
              "  <tbody>\n",
              "    <tr>\n",
              "      <th>0</th>\n",
              "      <td>1</td>\n",
              "      <td>1</td>\n",
              "      <td>Lockheed Martin Corp.</td>\n",
              "      <td>United States</td>\n",
              "      <td>59390</td>\n",
              "      <td>60340</td>\n",
              "      <td>65984</td>\n",
              "      <td>0.90</td>\n",
              "      <td>65199</td>\n",
              "      <td>-1.574412</td>\n",
              "    </tr>\n",
              "    <tr>\n",
              "      <th>1</th>\n",
              "      <td>2</td>\n",
              "      <td>2</td>\n",
              "      <td>Raytheon Technologies</td>\n",
              "      <td>United States</td>\n",
              "      <td>39570</td>\n",
              "      <td>41850</td>\n",
              "      <td>67074</td>\n",
              "      <td>0.59</td>\n",
              "      <td>45220</td>\n",
              "      <td>-5.448029</td>\n",
              "    </tr>\n",
              "    <tr>\n",
              "      <th>2</th>\n",
              "      <td>3</td>\n",
              "      <td>4</td>\n",
              "      <td>Northrop Grumman Corp.</td>\n",
              "      <td>United States</td>\n",
              "      <td>32300</td>\n",
              "      <td>29880</td>\n",
              "      <td>36602</td>\n",
              "      <td>0.88</td>\n",
              "      <td>32286</td>\n",
              "      <td>8.099063</td>\n",
              "    </tr>\n",
              "    <tr>\n",
              "      <th>3</th>\n",
              "      <td>4</td>\n",
              "      <td>3</td>\n",
              "      <td>Boeing</td>\n",
              "      <td>United States</td>\n",
              "      <td>29300</td>\n",
              "      <td>33420</td>\n",
              "      <td>66608</td>\n",
              "      <td>0.44</td>\n",
              "      <td>36111</td>\n",
              "      <td>-12.327947</td>\n",
              "    </tr>\n",
              "    <tr>\n",
              "      <th>4</th>\n",
              "      <td>5</td>\n",
              "      <td>5</td>\n",
              "      <td>General Dynamics Corp.</td>\n",
              "      <td>United States</td>\n",
              "      <td>28320</td>\n",
              "      <td>27760</td>\n",
              "      <td>39407</td>\n",
              "      <td>0.72</td>\n",
              "      <td>29995</td>\n",
              "      <td>2.017291</td>\n",
              "    </tr>\n",
              "  </tbody>\n",
              "</table>\n",
              "</div>"
            ],
            "text/plain": [
              "   Rank (2022)  Rank (2021)                 Company        Country  \\\n",
              "0            1            1   Lockheed Martin Corp.  United States   \n",
              "1            2            2   Raytheon Technologies  United States   \n",
              "2            3            4  Northrop Grumman Corp.  United States   \n",
              "3            4            3                  Boeing  United States   \n",
              "4            5            5  General Dynamics Corp.  United States   \n",
              "\n",
              "   Arms Revenue (2022)  Arms Revenue (2021)  Total Revenue (2022)  \\\n",
              "0                59390                60340                 65984   \n",
              "1                39570                41850                 67074   \n",
              "2                32300                29880                 36602   \n",
              "3                29300                33420                 66608   \n",
              "4                28320                27760                 39407   \n",
              "\n",
              "   Arms Revenue as a % of total revenue (2022)  Arms Revenue Adjusted (2021)   \\\n",
              "0                                         0.90                          65199   \n",
              "1                                         0.59                          45220   \n",
              "2                                         0.88                          32286   \n",
              "3                                         0.44                          36111   \n",
              "4                                         0.72                          29995   \n",
              "\n",
              "   revenue_change  \n",
              "0       -1.574412  \n",
              "1       -5.448029  \n",
              "2        8.099063  \n",
              "3      -12.327947  \n",
              "4        2.017291  "
            ]
          },
          "execution_count": 25,
          "metadata": {},
          "output_type": "execute_result"
        }
      ],
      "source": [
        "# I'd like to see the percent revenue change per county from 2021 to 2022 in a pretty barchart \n",
        "\n",
        "# First I'll need to create a new column for that percent change \n",
        "df_2022['revenue_change'] = ((df_2022['Arms Revenue (2022)']/df_2022['Arms Revenue (2021)'])-1)*100\n",
        "\n",
        "df_2022.head()"
      ]
    },
    {
      "cell_type": "code",
      "execution_count": 146,
      "metadata": {
        "colab": {
          "base_uri": "https://localhost:8080/",
          "height": 747
        },
        "id": "3gHkW7Gxlz_n",
        "outputId": "727d102c-f5d5-4c34-cd67-90ae79c899ca"
      },
      "outputs": [
        {
          "name": "stderr",
          "output_type": "stream",
          "text": [
            "/var/folders/ww/g22rd79j2xgfxy8trypcnk200000gn/T/ipykernel_84848/1654458390.py:7: FutureWarning:\n",
            "\n",
            "\n",
            "\n",
            "Passing `palette` without assigning `hue` is deprecated and will be removed in v0.14.0. Assign the `x` variable to `hue` and set `legend=False` for the same effect.\n",
            "\n",
            "\n"
          ]
        },
        {
          "data": {
            "image/png": "[encoded data removed]",
            "text/plain": [
              "<Figure size 1800x800 with 1 Axes>"
            ]
          },
          "metadata": {},
          "output_type": "display_data"
        }
      ],
      "source": [
        "\n",
        "plt.figure(figsize=(18,8))\n",
        "\n",
        "# Aggregate the revenue change by country \n",
        "rev_change = df_2022.groupby('Country')['revenue_change'].mean().sort_values(ascending=False)\n",
        "\n",
        "# Graph the revenue change by country \n",
        "sns.barplot(x=rev_change.index,y=rev_change, palette='seismic')\n",
        "\n",
        "# Create a fontdict for title \n",
        "font = {'family': 'serif',\n",
        "        'weight': 'normal',\n",
        "        'size': 40\n",
        "       }\n",
        "\n",
        "plt.title('Change in Arms Revenue by Country from 2021 to 2022',fontdict=font)\n",
        "plt.ylabel('Revenue Change (%)',fontsize=20)\n",
        "plt.xlabel('')\n",
        "plt.xticks(rotation=35, ha='right',fontsize=18)\n",
        "plt.yticks(fontsize=15)\n",
        "plt.tight_layout()\n",
        "plt.show()"
      ]
    },
    {
      "cell_type": "code",
      "execution_count": 27,
      "metadata": {},
      "outputs": [],
      "source": [
        "# Now using the 2002 data, I'd like to see the revenue change over the past 20 years \n",
        "\n",
        "# Create a new column for the percent change from 2002-2022\n",
        "df_2022['revenue_change_total'] = ((df_2022['Arms Revenue (2022)']/df_2002['Arms Revenue 2002 (Adjusted)'])-1)*100\n"
      ]
    },
    {
      "cell_type": "code",
      "execution_count": 144,
      "metadata": {},
      "outputs": [
        {
          "name": "stderr",
          "output_type": "stream",
          "text": [
            "/var/folders/ww/g22rd79j2xgfxy8trypcnk200000gn/T/ipykernel_84848/279606622.py:4: FutureWarning:\n",
            "\n",
            "\n",
            "\n",
            "Passing `palette` without assigning `hue` is deprecated and will be removed in v0.14.0. Assign the `x` variable to `hue` and set `legend=False` for the same effect.\n",
            "\n",
            "\n"
          ]
        },
        {
          "data": {
            "image/png": "[encoded data removed]",
            "text/plain": [
              "<Figure size 1800x800 with 1 Axes>"
            ]
          },
          "metadata": {},
          "output_type": "display_data"
        }
      ],
      "source": [
        "\n",
        "plt.figure(figsize=(18,8))\n",
        "\n",
        "# Aggregate the revenue change by country \n",
        "rev_change_total = df_2022.groupby('Country')['revenue_change_total'].mean().sort_values(ascending=False)\n",
        "\n",
        "# Graph the revenue change by country from 2002-2022\n",
        "sns.barplot(x=rev_change_total.index,y=rev_change_total, palette='seismic')\n",
        "\n",
        "# Create a fontdict for title \n",
        "font = {'family': 'serif',\n",
        "        'weight': 'normal',\n",
        "        'size': 40\n",
        "       }\n",
        "\n",
        "plt.title('Change in Arms Revenue by Country from 2002 to 2022',fontdict=font)\n",
        "\n",
        "plt.ylabel('Revenue Change (%)',fontsize=20)\n",
        "plt.xlabel('')\n",
        "plt.xticks(rotation=30, ha='right',fontsize=18) \n",
        "plt.yticks(fontsize=15)\n",
        "plt.tight_layout()\n",
        "plt.show()"
      ]
    },
    {
      "cell_type": "code",
      "execution_count": 29,
      "metadata": {},
      "outputs": [
        {
          "data": {
            "text/html": [
              "<div>\n",
              "<style scoped>\n",
              "    .dataframe tbody tr th:only-of-type {\n",
              "        vertical-align: middle;\n",
              "    }\n",
              "\n",
              "    .dataframe tbody tr th {\n",
              "        vertical-align: top;\n",
              "    }\n",
              "\n",
              "    .dataframe thead th {\n",
              "        text-align: right;\n",
              "    }\n",
              "</style>\n",
              "<table border=\"1\" class=\"dataframe\">\n",
              "  <thead>\n",
              "    <tr style=\"text-align: right;\">\n",
              "      <th></th>\n",
              "      <th>Unnamed: 0</th>\n",
              "      <th>2002</th>\n",
              "      <th>2003</th>\n",
              "      <th>2004</th>\n",
              "      <th>2005</th>\n",
              "      <th>2006</th>\n",
              "      <th>2007</th>\n",
              "      <th>2008</th>\n",
              "      <th>2009</th>\n",
              "      <th>2010</th>\n",
              "      <th>...</th>\n",
              "      <th>2014</th>\n",
              "      <th>2015</th>\n",
              "      <th>2016</th>\n",
              "      <th>2017</th>\n",
              "      <th>2018</th>\n",
              "      <th>2019</th>\n",
              "      <th>2020</th>\n",
              "      <th>2021</th>\n",
              "      <th>2022</th>\n",
              "      <th>2002–2022</th>\n",
              "    </tr>\n",
              "  </thead>\n",
              "  <tbody>\n",
              "    <tr>\n",
              "      <th>0</th>\n",
              "      <td>current US$ (billion)</td>\n",
              "      <td>201.0</td>\n",
              "      <td>239</td>\n",
              "      <td>274</td>\n",
              "      <td>291</td>\n",
              "      <td>316</td>\n",
              "      <td>349</td>\n",
              "      <td>390</td>\n",
              "      <td>404</td>\n",
              "      <td>421</td>\n",
              "      <td>...</td>\n",
              "      <td>399</td>\n",
              "      <td>452</td>\n",
              "      <td>465</td>\n",
              "      <td>484</td>\n",
              "      <td>516</td>\n",
              "      <td>556</td>\n",
              "      <td>571</td>\n",
              "      <td>600</td>\n",
              "      <td>597</td>\n",
              "      <td>NaN</td>\n",
              "    </tr>\n",
              "    <tr>\n",
              "      <th>1</th>\n",
              "      <td>% change</td>\n",
              "      <td>NaN</td>\n",
              "      <td>18.9%</td>\n",
              "      <td>14.7%</td>\n",
              "      <td>6.2%</td>\n",
              "      <td>8.3%</td>\n",
              "      <td>10.5%</td>\n",
              "      <td>11.9%</td>\n",
              "      <td>3.5%</td>\n",
              "      <td>4.1%</td>\n",
              "      <td>...</td>\n",
              "      <td>-1.7%</td>\n",
              "      <td>13.1%</td>\n",
              "      <td>2.9%</td>\n",
              "      <td>4.2%</td>\n",
              "      <td>6.4%</td>\n",
              "      <td>7.8%</td>\n",
              "      <td>2.8%</td>\n",
              "      <td>5.0%</td>\n",
              "      <td>-0.4%</td>\n",
              "      <td>197.0%</td>\n",
              "    </tr>\n",
              "    <tr>\n",
              "      <th>2</th>\n",
              "      <td>NaN</td>\n",
              "      <td>NaN</td>\n",
              "      <td>NaN</td>\n",
              "      <td>NaN</td>\n",
              "      <td>NaN</td>\n",
              "      <td>NaN</td>\n",
              "      <td>NaN</td>\n",
              "      <td>NaN</td>\n",
              "      <td>NaN</td>\n",
              "      <td>NaN</td>\n",
              "      <td>...</td>\n",
              "      <td>NaN</td>\n",
              "      <td>NaN</td>\n",
              "      <td>NaN</td>\n",
              "      <td>NaN</td>\n",
              "      <td>NaN</td>\n",
              "      <td>NaN</td>\n",
              "      <td>NaN</td>\n",
              "      <td>NaN</td>\n",
              "      <td>NaN</td>\n",
              "      <td>NaN</td>\n",
              "    </tr>\n",
              "    <tr>\n",
              "      <th>3</th>\n",
              "      <td>constant 2022 US$ (billion)</td>\n",
              "      <td>318.0</td>\n",
              "      <td>355</td>\n",
              "      <td>387</td>\n",
              "      <td>398</td>\n",
              "      <td>419</td>\n",
              "      <td>438</td>\n",
              "      <td>466</td>\n",
              "      <td>500</td>\n",
              "      <td>508</td>\n",
              "      <td>...</td>\n",
              "      <td>439</td>\n",
              "      <td>522</td>\n",
              "      <td>543</td>\n",
              "      <td>552</td>\n",
              "      <td>572</td>\n",
              "      <td>616</td>\n",
              "      <td>627</td>\n",
              "      <td>619</td>\n",
              "      <td>597</td>\n",
              "      <td>NaN</td>\n",
              "    </tr>\n",
              "    <tr>\n",
              "      <th>4</th>\n",
              "      <td>% change</td>\n",
              "      <td>NaN</td>\n",
              "      <td>11.6%</td>\n",
              "      <td>8.9%</td>\n",
              "      <td>3.0%</td>\n",
              "      <td>5.1%</td>\n",
              "      <td>4.5%</td>\n",
              "      <td>6.6%</td>\n",
              "      <td>7.3%</td>\n",
              "      <td>1.6%</td>\n",
              "      <td>...</td>\n",
              "      <td>-2.6%</td>\n",
              "      <td>19.0%</td>\n",
              "      <td>4.0%</td>\n",
              "      <td>1.8%</td>\n",
              "      <td>3.6%</td>\n",
              "      <td>7.7%</td>\n",
              "      <td>1.8%</td>\n",
              "      <td>-1.3%</td>\n",
              "      <td>-3.5%</td>\n",
              "      <td>87.7%</td>\n",
              "    </tr>\n",
              "  </tbody>\n",
              "</table>\n",
              "<p>5 rows × 23 columns</p>\n",
              "</div>"
            ],
            "text/plain": [
              "                    Unnamed: 0   2002   2003   2004  2005  2006   2007   2008  \\\n",
              "0        current US$ (billion)  201.0    239    274   291   316    349    390   \n",
              "1                     % change    NaN  18.9%  14.7%  6.2%  8.3%  10.5%  11.9%   \n",
              "2                          NaN    NaN    NaN    NaN   NaN   NaN    NaN    NaN   \n",
              "3  constant 2022 US$ (billion)  318.0    355    387   398   419    438    466   \n",
              "4                     % change    NaN  11.6%   8.9%  3.0%  5.1%   4.5%   6.6%   \n",
              "\n",
              "   2009  2010  ...   2014   2015  2016  2017  2018  2019  2020   2021   2022  \\\n",
              "0   404   421  ...    399    452   465   484   516   556   571    600    597   \n",
              "1  3.5%  4.1%  ...  -1.7%  13.1%  2.9%  4.2%  6.4%  7.8%  2.8%   5.0%  -0.4%   \n",
              "2   NaN   NaN  ...    NaN    NaN   NaN   NaN   NaN   NaN   NaN    NaN    NaN   \n",
              "3   500   508  ...    439    522   543   552   572   616   627    619    597   \n",
              "4  7.3%  1.6%  ...  -2.6%  19.0%  4.0%  1.8%  3.6%  7.7%  1.8%  -1.3%  -3.5%   \n",
              "\n",
              "  2002–2022  \n",
              "0       NaN  \n",
              "1    197.0%  \n",
              "2       NaN  \n",
              "3       NaN  \n",
              "4     87.7%  \n",
              "\n",
              "[5 rows x 23 columns]"
            ]
          },
          "execution_count": 29,
          "metadata": {},
          "output_type": "execute_result"
        }
      ],
      "source": [
        "# This is a different data set from SIPRI that shows revenue totals\n",
        "# It's a more complete picture of revenue than the more selective defense contractors dataset\n",
        "# I created the same graph of key world events as my other analysis\n",
        "\n",
        "# Load the dataset\n",
        "file_path = '/Users/RobertHolzmann/Downloads/Blogpost/Datasets/Total_arms_revenue_2002-2022.csv'\n",
        "df = pd.read_csv(file_path)\n",
        "\n",
        "df"
      ]
    },
    {
      "cell_type": "code",
      "execution_count": 140,
      "metadata": {},
      "outputs": [
        {
          "data": {
            "image/png": "[encoded data removed]",
            "text/plain": [
              "<Figure size 1200x600 with 1 Axes>"
            ]
          },
          "metadata": {},
          "output_type": "display_data"
        }
      ],
      "source": [
        "# The data is in a trickier format, so the cleaning is a bit messy\n",
        "\n",
        "# Extract the relevant data for 'constant 2022 US$ (billion)'\n",
        "df_constant_usd = df.iloc[3, 1:-1]  # Row index 3 is for 'constant 2022 US$ (billion)'\n",
        "\n",
        "# Create a new DataFrame for the plot\n",
        "years = df.columns[1:-1].astype(int)  # Exclude the first and last column (years) and convert to int\n",
        "constant_usd_values = df_constant_usd.values\n",
        "\n",
        "\n",
        "# Define the key events\n",
        "key_events = {\n",
        "    '2003': {'name': 'Invasion of Irag', 'color': 'grey', 'linestyle': ':'},\n",
        "    '2008': {'name': 'Global Financial Crisis', 'color': 'blue', 'linestyle': '--'},\n",
        "    '2011': {'name': 'Arab Spring', 'color': 'green', 'linestyle': '-'},\n",
        "    '2014': {'name': 'Ukraine Crisis', 'color': 'purple', 'linestyle': ':'},\n",
        "    '2017': {'name': 'Trump Presidency', 'color': 'orange', 'linestyle': '-.'},\n",
        "    '2020': {'name': 'COVID-19 Pandemic', 'color': 'red', 'linestyle': '-'},\n",
        "    '2022': {'name': 'Russian Invasion of Ukraine', 'color': 'black', 'linestyle': '--'}\n",
        "}\n",
        "\n",
        "# Plotting the line graph\n",
        "plt.figure(figsize=(12, 6))\n",
        "plt.plot(years, constant_usd_values, marker='o', linestyle='-', color='b')\n",
        "\n",
        "# Adding vertical lines for key events\n",
        "for year, event in key_events.items():\n",
        "    plt.axvline(x=int(year), color=event['color'], linestyle=event['linestyle'], label=event['name'])\n",
        "\n",
        "# Set x-ticks to show each year\n",
        "plt.xticks(range(2002, 2023), rotation=45)\n",
        "\n",
        "# Adjust x-axis to include the year 2001\n",
        "plt.xlim(2001, 2023)\n",
        "\n",
        "plt.xlabel('')\n",
        "plt.ylabel('Constant 2022 US$ (billion)')\n",
        "plt.title('Total Arms Revenue in Constant 2022 US$ (2002-2022)')\n",
        "plt.legend(title='World Event', loc='upper left')\n",
        "plt.gca().spines[['top', 'right']].set_visible(False)\n",
        "plt.tight_layout()\n",
        "\n",
        "# Display the plot\n",
        "plt.show()"
      ]
    },
    {
      "cell_type": "code",
      "execution_count": null,
      "metadata": {
        "id": "1QA0Nc6KbFF1"
      },
      "outputs": [],
      "source": []
    }
  ],
  "metadata": {
    "colab": {
      "provenance": []
    },
    "kernelspec": {
      "display_name": "Python 3",
      "name": "python3"
    },
    "language_info": {
      "codemirror_mode": {
        "name": "ipython",
        "version": 3
      },
      "file_extension": ".py",
      "mimetype": "text/x-python",
      "name": "python",
      "nbconvert_exporter": "python",
      "pygments_lexer": "ipython3",
      "version": "3.11.5"
    }
  },
  "nbformat": 4,
  "nbformat_minor": 0
}
